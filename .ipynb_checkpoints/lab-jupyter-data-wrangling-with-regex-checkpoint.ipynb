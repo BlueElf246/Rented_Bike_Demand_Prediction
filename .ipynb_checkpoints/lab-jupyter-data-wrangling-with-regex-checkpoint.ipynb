{
 "cells": [
  {
   "cell_type": "markdown",
   "id": "d5dc455e-7e2a-4fa6-993d-7afd06e63eea",
   "metadata": {},
   "source": [
    "<center>\n",
    "<img src=\"https://cf-courses-data.s3.us.cloud-object-storage.appdomain.cloud/IBMDeveloperSkillsNetwork-RP0321EN-SkillsNetwork/labs/module_1/images/SN_web_lightmode.png\" width=\"300\"> \n",
    "</center>\n"
   ]
  },
  {
   "cell_type": "markdown",
   "id": "826fca48-b7aa-4973-abf5-6c345c5df378",
   "metadata": {},
   "source": [
    "<h1>Data Wrangling with Regular Expressions</h1>\n",
    "\n",
    "Estimated time needed: **40** minutes\n"
   ]
  },
  {
   "cell_type": "markdown",
   "id": "346bc740-afb3-4114-9c96-c66864311ced",
   "metadata": {},
   "source": [
    "## Lab Overview:\n",
    "\n",
    "In the previous data collection labs, you collected some raw datasets from several different sources. In this lab, you need to perform data wrangling tasks in order to improve data quality.\n"
   ]
  },
  {
   "cell_type": "markdown",
   "id": "df877391-57f5-414f-8bcd-fe4b602b2093",
   "metadata": {},
   "source": [
    "You will again use regular expressions, along with the `stringr` package (part of `tidyverse`), to clean up the bike-sharing systems data that you previously web scraped from the wiki page: \n",
    "\n",
    "https://en.wikipedia.org/wiki/List_of_bicycle-sharing_systems\n",
    "\n",
    "<a href=\"https://cognitiveclass.ai/?utm_medium=Exinfluencer&utm_source=Exinfluencer&utm_content=000026UJ&utm_term=10006555&utm_id=NA-SkillsNetwork-Channel-SkillsNetworkCoursesIBMDeveloperSkillsNetworkRP0321ENSkillsNetwork878-2022-01-01\">\n",
    "    <img src=\"https://cf-courses-data.s3.us.cloud-object-storage.appdomain.cloud/IBMDeveloperSkillsNetwork-RP0321EN-SkillsNetwork/labs/module_1/images/l2-list-bike-sharing-systems.png\" width=\"800\" align=\"center\">\n",
    "</a>\n"
   ]
  },
  {
   "cell_type": "markdown",
   "id": "93dae379-8e23-4605-bbcf-05c49b2b5667",
   "metadata": {},
   "source": [
    "One typical challenge of web scraping is that data extracted from HTML pages may contain unnecessary or inconsistently fomatted information.  \n",
    "For example:\n",
    " - Textual annotations in numeric fields: `1000 (Updated with 1050)`\n",
    " - Attached reference links: `Bike sharing system [123]`\n",
    " - Inconsistent data formats: `Yes` and `Y` for the logical value `TRUE` or `2021-04-09` and `Apr 09, 2021` for the same date\n",
    " - HTML style tags: `<span style=\"color:blue\">Bike sharing system</span>`\n",
    " - Special characters: `&nbsp` for a white space\n",
    " \n",
    "Many more such examples of noise may be encountered in real-world scraped data and most of such text related noises could be handled by regular expressions.\n"
   ]
  },
  {
   "cell_type": "markdown",
   "id": "e1c614fd-a9f7-47bc-831f-d965221ab41a",
   "metadata": {},
   "source": [
    "To summarize, you will be using `stringr` (part of `tidyverse`) and regular expressions to perform the following data wrangling tasks:\n",
    "  - TASK: Standardize column names for all collected datasets\n",
    "  - TASK: Remove undesired reference links from the scraped bike-sharing systems dataset\n",
    "  - TASK: Extract only the numeric value from undesired text annotations\n"
   ]
  },
  {
   "cell_type": "markdown",
   "id": "0757f043-5401-46e3-b1bd-810b7a426ddf",
   "metadata": {},
   "source": [
    "Let's begin by importing the libraries you will use for these data wrangling tasks.\n"
   ]
  },
  {
   "cell_type": "code",
   "execution_count": 1,
   "id": "a78f3f9a-d28b-4a3f-a87a-164c1fca4897",
   "metadata": {},
   "outputs": [
    {
     "name": "stderr",
     "output_type": "stream",
     "text": [
      "Loading required package: tidyverse\n",
      "\n",
      "── \u001b[1mAttaching core tidyverse packages\u001b[22m ──────────────────────── tidyverse 2.0.0 ──\n",
      "\u001b[32m✔\u001b[39m \u001b[34mdplyr    \u001b[39m 1.1.2     \u001b[32m✔\u001b[39m \u001b[34mreadr    \u001b[39m 2.1.4\n",
      "\u001b[32m✔\u001b[39m \u001b[34mforcats  \u001b[39m 1.0.0     \u001b[32m✔\u001b[39m \u001b[34mstringr  \u001b[39m 1.5.0\n",
      "\u001b[32m✔\u001b[39m \u001b[34mggplot2  \u001b[39m 3.4.2     \u001b[32m✔\u001b[39m \u001b[34mtibble   \u001b[39m 3.2.1\n",
      "\u001b[32m✔\u001b[39m \u001b[34mlubridate\u001b[39m 1.9.2     \u001b[32m✔\u001b[39m \u001b[34mtidyr    \u001b[39m 1.3.0\n",
      "\u001b[32m✔\u001b[39m \u001b[34mpurrr    \u001b[39m 1.0.1     \n",
      "── \u001b[1mConflicts\u001b[22m ────────────────────────────────────────── tidyverse_conflicts() ──\n",
      "\u001b[31m✖\u001b[39m \u001b[34mdplyr\u001b[39m::\u001b[32mfilter()\u001b[39m masks \u001b[34mstats\u001b[39m::filter()\n",
      "\u001b[31m✖\u001b[39m \u001b[34mdplyr\u001b[39m::\u001b[32mlag()\u001b[39m    masks \u001b[34mstats\u001b[39m::lag()\n",
      "\u001b[36mℹ\u001b[39m Use the conflicted package (\u001b[3m\u001b[34m<http://conflicted.r-lib.org/>\u001b[39m\u001b[23m) to force all conflicts to become errors\n"
     ]
    }
   ],
   "source": [
    "# Check whether you need to install the `tidyverse` library\n",
    "require(\"tidyverse\")\n",
    "library(tidyverse)"
   ]
  },
  {
   "cell_type": "markdown",
   "id": "749dfadb-7861-4088-9642-72cfa34957fe",
   "metadata": {},
   "source": [
    "## TASK: Standardize column names for all collected datasets \n"
   ]
  },
  {
   "cell_type": "markdown",
   "id": "18f7a381-2bcd-4d24-a132-0fe5ca084383",
   "metadata": {},
   "source": [
    "In the previous data collection labs, you collected four datasets in csv format:\n",
    "- `raw_bike_sharing_systems.csv`:  A list of active bike-sharing systems across the world\n",
    "- `raw_cities_weather_forecast.csv`: 5-day weather forecasts for a list of cities, from OpenWeather API\n",
    "- `raw_worldcities.csv`: A list of major cities' info (such as name, latitude and longitude) across the world\n",
    "- `raw_seoul_bike_sharing.csv`: Weather information (Temperature, Humidity, Windspeed, Visibility, Dewpoint, Solar radiation, Snowfall, Rainfall), the number of bikes rented per hour, and date information, from Seoul bike-sharing systems\n"
   ]
  },
  {
   "cell_type": "markdown",
   "id": "c4fdac5b-74d8-4673-97ff-18cfbc684951",
   "metadata": {},
   "source": [
    "*Optional:* If you had some difficulties finishing the data collection labs, you may download the datasets directly from the following URLs:\n"
   ]
  },
  {
   "cell_type": "code",
   "execution_count": null,
   "id": "b7706380-a0d4-460c-8011-c1088ab19ff2",
   "metadata": {},
   "outputs": [],
   "source": [
    "# Download raw_bike_sharing_systems.csv\n",
    "url <- \"https://cf-courses-data.s3.us.cloud-object-storage.appdomain.cloud/IBMDeveloperSkillsNetwork-RP0321EN-SkillsNetwork/labs/datasets/raw_bike_sharing_systems.csv\"\n",
    "download.file(url, destfile = \"raw_bike_sharing_systems.csv\")\n",
    "\n",
    "# Download raw_cities_weather_forecast.csv\n",
    "url <- \"https://cf-courses-data.s3.us.cloud-object-storage.appdomain.cloud/IBMDeveloperSkillsNetwork-RP0321EN-SkillsNetwork/labs/datasets/raw_cities_weather_forecast.csv\"\n",
    "download.file(url, destfile = \"raw_cities_weather_forecast.csv\")\n",
    "\n",
    "# Download raw_worldcities.csv\n",
    "url <- \"https://cf-courses-data.s3.us.cloud-object-storage.appdomain.cloud/IBMDeveloperSkillsNetwork-RP0321EN-SkillsNetwork/labs/datasets/raw_worldcities.csv\"\n",
    "download.file(url, destfile = \"raw_worldcities.csv\")\n",
    "\n",
    "# Download raw_seoul_bike_sharing.csv\n",
    "url <- \"https://cf-courses-data.s3.us.cloud-object-storage.appdomain.cloud/IBMDeveloperSkillsNetwork-RP0321EN-SkillsNetwork/labs/datasets/raw_seoul_bike_sharing.csv\"\n",
    "download.file(url, destfile = \"raw_seoul_bike_sharing.csv\")"
   ]
  },
  {
   "cell_type": "markdown",
   "id": "8558def2-45c9-438e-b1b2-6ebfc58baa62",
   "metadata": {},
   "source": [
    "To improve dataset readbility by both human and computer systems, we first need to standardize the column names of the datasets above using the following naming convention:\n",
    " - Column names need to be UPPERCASE\n",
    " - The word separator needs to be an underscore, such as in `COLUMN_NAME`\n"
   ]
  },
  {
   "cell_type": "markdown",
   "id": "41541184-544e-4d07-9c52-8604f96ecfe8",
   "metadata": {},
   "source": [
    "You can use the following dataset list and the `names()` function to get and set each of their column names, and convert them according to our defined naming convention.\n"
   ]
  },
  {
   "cell_type": "code",
   "execution_count": 8,
   "id": "009a3b3e-de5c-417b-85dd-e8f1dc822f50",
   "metadata": {},
   "outputs": [],
   "source": [
    "dataset_list <- c('raw_bike_sharing_systems.csv', 'raw_seoul_bike_sharing.csv', 'cities_weather_forecast.csv', 'raw_worldcities.csv')"
   ]
  },
  {
   "cell_type": "markdown",
   "id": "ad0d5298-091b-49b3-88f9-c38f3f924762",
   "metadata": {},
   "source": [
    "_TODO_: Write a `for` loop to iterate over the above datasets and convert their column names \n"
   ]
  },
  {
   "cell_type": "code",
   "execution_count": 9,
   "id": "2d77b59e-5a18-4f51-ab9f-494ef7b72f37",
   "metadata": {},
   "outputs": [
    {
     "name": "stderr",
     "output_type": "stream",
     "text": [
      "\u001b[1mRows: \u001b[22m\u001b[34m554\u001b[39m \u001b[1mColumns: \u001b[22m\u001b[34m11\u001b[39m\n",
      "\u001b[36m──\u001b[39m \u001b[1mColumn specification\u001b[22m \u001b[36m────────────────────────────────────────────────────────\u001b[39m\n",
      "\u001b[1mDelimiter:\u001b[22m \",\"\n",
      "\u001b[31mchr\u001b[39m (10): COUNTRY, CITY, NAME, SYSTEM, OPERATOR, LAUNCHED, DISCONTINUED, STA...\n",
      "\u001b[32mdbl\u001b[39m  (1): ...1\n",
      "\n",
      "\u001b[36mℹ\u001b[39m Use `spec()` to retrieve the full column specification for this data.\n",
      "\u001b[36mℹ\u001b[39m Specify the column types or set `show_col_types = FALSE` to quiet this message.\n",
      "\u001b[1mRows: \u001b[22m\u001b[34m8760\u001b[39m \u001b[1mColumns: \u001b[22m\u001b[34m14\u001b[39m\n",
      "\u001b[36m──\u001b[39m \u001b[1mColumn specification\u001b[22m \u001b[36m────────────────────────────────────────────────────────\u001b[39m\n",
      "\u001b[1mDelimiter:\u001b[22m \",\"\n",
      "\u001b[31mchr\u001b[39m  (4): DATE, SEASONS, HOLIDAY, FUNCTIONING_DAY\n",
      "\u001b[32mdbl\u001b[39m (10): RENTED_BIKE_COUNT, HOUR, TEMPERATURE, HUMIDITY, WIND_SPEED, VISIBI...\n",
      "\n",
      "\u001b[36mℹ\u001b[39m Use `spec()` to retrieve the full column specification for this data.\n",
      "\u001b[36mℹ\u001b[39m Specify the column types or set `show_col_types = FALSE` to quiet this message.\n",
      "\u001b[1mRows: \u001b[22m\u001b[34m164\u001b[39m \u001b[1mColumns: \u001b[22m\u001b[34m12\u001b[39m\n",
      "\u001b[36m──\u001b[39m \u001b[1mColumn specification\u001b[22m \u001b[36m────────────────────────────────────────────────────────\u001b[39m\n",
      "\u001b[1mDelimiter:\u001b[22m \",\"\n",
      "\u001b[31mchr\u001b[39m  (3): city, weather, season\n",
      "\u001b[32mdbl\u001b[39m  (8): visibility, temp, temp_min, temp_max, pressure, humidity, wind_spe...\n",
      "\u001b[34mdttm\u001b[39m (1): forecast_datetime\n",
      "\n",
      "\u001b[36mℹ\u001b[39m Use `spec()` to retrieve the full column specification for this data.\n",
      "\u001b[36mℹ\u001b[39m Specify the column types or set `show_col_types = FALSE` to quiet this message.\n",
      "\u001b[1mRows: \u001b[22m\u001b[34m26569\u001b[39m \u001b[1mColumns: \u001b[22m\u001b[34m11\u001b[39m\n",
      "\u001b[36m──\u001b[39m \u001b[1mColumn specification\u001b[22m \u001b[36m────────────────────────────────────────────────────────\u001b[39m\n",
      "\u001b[1mDelimiter:\u001b[22m \",\"\n",
      "\u001b[31mchr\u001b[39m (7): City, CITY_ASCII, COUNTRY, ISO2, ISO3, ADMIN_NAME, CAPITAL\n",
      "\u001b[32mdbl\u001b[39m (4): LAT, LNG, POPULATION, ID\n",
      "\n",
      "\u001b[36mℹ\u001b[39m Use `spec()` to retrieve the full column specification for this data.\n",
      "\u001b[36mℹ\u001b[39m Specify the column types or set `show_col_types = FALSE` to quiet this message.\n"
     ]
    }
   ],
   "source": [
    "for (dataset_name in dataset_list){\n",
    "    # Read dataset\n",
    "    dataset <- read_csv(dataset_name)\n",
    "    # Standardized its columns:\n",
    "    numeric_cols <- sapply(dataset, is.numeric)\n",
    "    dataset[, numeric_cols] <- scale(dataset[, numeric_cols])\n",
    "    # Convert all column names to uppercase\n",
    "    colnames(dataset) <- toupper(colnames(dataset))\n",
    "    # Replace any white space separators by underscores, using the str_replace_all function\n",
    "    colnames(dataset) <- str_replace_all(colnames(dataset), \"\\\\s\", \"_\")\n",
    "    # Save the dataset \n",
    "    write.csv(dataset, dataset_name, row.names=FALSE)\n",
    "}\n"
   ]
  },
  {
   "cell_type": "markdown",
   "id": "10ff2ba3-d31b-4337-b721-d0e06a71e915",
   "metadata": {},
   "source": [
    "_TODO_: Read the resulting datasets back and check whether their column names follow the naming convention\n"
   ]
  },
  {
   "cell_type": "code",
   "execution_count": 11,
   "id": "d36d42d6-b95e-483d-9f60-70d1917001d9",
   "metadata": {},
   "outputs": [
    {
     "name": "stdout",
     "output_type": "stream",
     "text": [
      "      ...1           COUNTRY              CITY               NAME          \n",
      " Min.   :-1.7274   Length:554         Length:554         Length:554        \n",
      " 1st Qu.:-0.8637   Class :character   Class :character   Class :character  \n",
      " Median : 0.0000   Mode  :character   Mode  :character   Mode  :character  \n",
      " Mean   : 0.0000                                                           \n",
      " 3rd Qu.: 0.8637                                                           \n",
      " Max.   : 1.7274                                                           \n",
      "    SYSTEM            OPERATOR           LAUNCHED         DISCONTINUED      \n",
      " Length:554         Length:554         Length:554         Length:554        \n",
      " Class :character   Class :character   Class :character   Class :character  \n",
      " Mode  :character   Mode  :character   Mode  :character   Mode  :character  \n",
      "                                                                            \n",
      "                                                                            \n",
      "                                                                            \n",
      "   STATIONS           BICYCLES         DAILY_RIDERSHIP   \n",
      " Length:554         Length:554         Length:554        \n",
      " Class :character   Class :character   Class :character  \n",
      " Mode  :character   Mode  :character   Mode  :character  \n",
      "                                                         \n",
      "                                                         \n",
      "                                                         \n",
      "     DATE           RENTED_BIKE_COUNT      HOUR          TEMPERATURE      \n",
      " Length:8760        Min.   :-1.1320   Min.   :-1.6612   Min.   :-2.56760  \n",
      " Class :character   1st Qu.:-0.8020   1st Qu.:-0.8306   1st Qu.:-0.79262  \n",
      " Mode  :character   Median :-0.2914   Median : 0.0000   Median : 0.06975  \n",
      "                    Mean   : 0.0000   Mean   : 0.0000   Mean   : 0.00000  \n",
      "                    3rd Qu.: 0.5524   3rd Qu.: 0.8306   3rd Qu.: 0.80654  \n",
      "                    Max.   : 4.4008   Max.   : 1.6612   Max.   : 2.22149  \n",
      "                    NA's   :295                         NA's   :11        \n",
      "    HUMIDITY          WIND_SPEED        VISIBILITY      DEW_POINT_TEMPERATURE\n",
      " Min.   :-2.85950   Min.   :-1.6645   Min.   :-2.3177   Min.   :-2.65489     \n",
      " 1st Qu.:-0.79687   1st Qu.:-0.7960   1st Qu.:-0.8167   1st Qu.:-0.67179     \n",
      " Median :-0.06022   Median :-0.2170   Median : 0.4294   Median : 0.07857     \n",
      " Mean   : 0.00000   Mean   : 0.0000   Mean   : 0.0000   Mean   : 0.00000     \n",
      " 3rd Qu.: 0.77465   3rd Qu.: 0.5549   3rd Qu.: 0.9258   3rd Qu.: 0.82128     \n",
      " Max.   : 1.95329   Max.   : 5.4763   Max.   : 0.9258   Max.   : 1.77071     \n",
      "                                                                             \n",
      " SOLAR_RADIATION      RAINFALL          SNOWFALL         SEASONS         \n",
      " Min.   :-0.6551   Min.   :-0.1318   Min.   :-0.1719   Length:8760       \n",
      " 1st Qu.:-0.6551   1st Qu.:-0.1318   1st Qu.:-0.1719   Class :character  \n",
      " Median :-0.6436   Median :-0.1318   Median :-0.1719   Mode  :character  \n",
      " Mean   : 0.0000   Mean   : 0.0000   Mean   : 0.0000                     \n",
      " 3rd Qu.: 0.4154   3rd Qu.:-0.1318   3rd Qu.:-0.1719                     \n",
      " Max.   : 3.3967   Max.   :30.8913   Max.   :19.9771                     \n",
      "                                                                         \n",
      "   HOLIDAY          FUNCTIONING_DAY   \n",
      " Length:8760        Length:8760       \n",
      " Class :character   Class :character  \n",
      " Mode  :character   Mode  :character  \n",
      "                                      \n",
      "                                      \n",
      "                                      \n",
      "                                      \n",
      "     CITY             WEATHER            VISIBILITY             TEMP        \n",
      " Length:164         Length:164         Min.   :-12.57005   Min.   :-2.1319  \n",
      " Class :character   Class :character   1st Qu.:  0.07906   1st Qu.:-0.7636  \n",
      " Mode  :character   Mode  :character   Median :  0.07906   Median : 0.2122  \n",
      "                                       Mean   :  0.00000   Mean   : 0.0000  \n",
      "                                       3rd Qu.:  0.07906   3rd Qu.: 0.7325  \n",
      "                                       Max.   :  0.07906   Max.   : 1.6641  \n",
      "                                       NA's   :4           NA's   :4        \n",
      "    TEMP_MIN          TEMP_MAX          PRESSURE           HUMIDITY      \n",
      " Min.   :-2.1165   Min.   :-2.1391   Min.   :-1.65093   Min.   :-2.1030  \n",
      " 1st Qu.:-0.8284   1st Qu.:-0.7219   1st Qu.:-0.88026   1st Qu.:-0.6730  \n",
      " Median : 0.1980   Median : 0.2097   Median : 0.08309   Median : 0.1070  \n",
      " Mean   : 0.0000   Mean   : 0.0000   Mean   : 0.00000   Mean   : 0.0000  \n",
      " 3rd Qu.: 0.7357   3rd Qu.: 0.7310   3rd Qu.: 1.04643   3rd Qu.: 0.8978  \n",
      " Max.   : 1.6632   Max.   : 1.6644   Max.   : 1.62444   Max.   : 1.4937  \n",
      " NA's   :4         NA's   :4         NA's   :4          NA's   :4        \n",
      "   WIND_SPEED         WIND_DEG       FORECAST_DATETIME     SEASON         \n",
      " Min.   :-1.7449   Min.   :-2.3003   Length:164         Length:164        \n",
      " 1st Qu.:-0.7308   1st Qu.:-0.6901   Class :character   Class :character  \n",
      " Median :-0.1392   Median : 0.4052   Mode  :character   Mode  :character  \n",
      " Mean   : 0.0000   Mean   : 0.0000                                        \n",
      " 3rd Qu.: 0.6173   3rd Qu.: 0.7119                                        \n",
      " Max.   : 2.9555   Max.   : 1.4239                                        \n",
      " NA's   :4         NA's   :4                                              \n",
      "     CITY            CITY_ASCII             LAT               LNG         \n",
      " Length:26569       Length:26569       Min.   :-3.9310   Min.   :-2.2750  \n",
      " Class :character   Class :character   1st Qu.:-0.2312   1st Qu.:-0.9117  \n",
      " Mode  :character   Mode  :character   Median : 0.3181   Median : 0.1433  \n",
      "                                       Mean   : 0.0000   Mean   : 0.0000  \n",
      "                                       3rd Qu.: 0.6650   3rd Qu.: 0.5551  \n",
      "                                       Max.   : 2.1712   Max.   : 2.5793  \n",
      "                                                                          \n",
      "   COUNTRY              ISO2               ISO3            ADMIN_NAME       \n",
      " Length:26569       Length:26569       Length:26569       Length:26569      \n",
      " Class :character   Class :character   Class :character   Class :character  \n",
      " Mode  :character   Mode  :character   Mode  :character   Mode  :character  \n",
      "                                                                            \n",
      "                                                                            \n",
      "                                                                            \n",
      "                                                                            \n",
      "   CAPITAL            POPULATION            ID         \n",
      " Length:26569       Min.   :-0.1805   Min.   :-1.9211  \n",
      " Class :character   1st Qu.:-0.1702   1st Qu.:-0.9723  \n",
      " Mode  :character   Median :-0.1581   Median : 0.3029  \n",
      "                    Mean   : 0.0000   Mean   : 0.0000  \n",
      "                    3rd Qu.:-0.1145   3rd Qu.: 0.9879  \n",
      "                    Max.   :42.0322   Max.   : 1.3150  \n",
      "                    NA's   :973                        \n"
     ]
    }
   ],
   "source": [
    "for (dataset_name in dataset_list){\n",
    "    # Print a summary for each data set to check whether the column names were correctly converted\n",
    "    ds = read.csv(dataset_name)\n",
    "    print(summary(ds))\n",
    "}"
   ]
  },
  {
   "cell_type": "markdown",
   "id": "16f36ea2-f91c-43cf-8884-2b7b7d78968d",
   "metadata": {},
   "source": [
    "## Process the web-scraped bike sharing system dataset \n"
   ]
  },
  {
   "cell_type": "markdown",
   "id": "12365c3f-c9bf-415d-91e9-580ac7bad927",
   "metadata": {},
   "source": [
    "By now we have standardized all column names. Next, we will focus on cleaning up the values in the web-scraped bike sharing systems dataset.\n"
   ]
  },
  {
   "cell_type": "code",
   "execution_count": 12,
   "id": "b1a28709-fe2c-4cd3-88c4-caec7306dd91",
   "metadata": {},
   "outputs": [
    {
     "name": "stderr",
     "output_type": "stream",
     "text": [
      "\u001b[1mRows: \u001b[22m\u001b[34m554\u001b[39m \u001b[1mColumns: \u001b[22m\u001b[34m11\u001b[39m\n",
      "\u001b[36m──\u001b[39m \u001b[1mColumn specification\u001b[22m \u001b[36m────────────────────────────────────────────────────────\u001b[39m\n",
      "\u001b[1mDelimiter:\u001b[22m \",\"\n",
      "\u001b[31mchr\u001b[39m (10): COUNTRY, CITY, NAME, SYSTEM, OPERATOR, LAUNCHED, DISCONTINUED, STA...\n",
      "\u001b[32mdbl\u001b[39m  (1): ...1\n",
      "\n",
      "\u001b[36mℹ\u001b[39m Use `spec()` to retrieve the full column specification for this data.\n",
      "\u001b[36mℹ\u001b[39m Specify the column types or set `show_col_types = FALSE` to quiet this message.\n"
     ]
    }
   ],
   "source": [
    "# First load the dataset\n",
    "bike_sharing_df <- read_csv(\"raw_bike_sharing_systems.csv\")"
   ]
  },
  {
   "cell_type": "code",
   "execution_count": 13,
   "id": "7fe0c5dc-acaa-46d5-ab98-308ec2a6d9d2",
   "metadata": {},
   "outputs": [
    {
     "data": {
      "text/html": [
       "<table class=\"dataframe\">\n",
       "<caption>A tibble: 6 × 11</caption>\n",
       "<thead>\n",
       "\t<tr><th scope=col>...1</th><th scope=col>COUNTRY</th><th scope=col>CITY</th><th scope=col>NAME</th><th scope=col>SYSTEM</th><th scope=col>OPERATOR</th><th scope=col>LAUNCHED</th><th scope=col>DISCONTINUED</th><th scope=col>STATIONS</th><th scope=col>BICYCLES</th><th scope=col>DAILY_RIDERSHIP</th></tr>\n",
       "\t<tr><th scope=col>&lt;dbl&gt;</th><th scope=col>&lt;chr&gt;</th><th scope=col>&lt;chr&gt;</th><th scope=col>&lt;chr&gt;</th><th scope=col>&lt;chr&gt;</th><th scope=col>&lt;chr&gt;</th><th scope=col>&lt;chr&gt;</th><th scope=col>&lt;chr&gt;</th><th scope=col>&lt;chr&gt;</th><th scope=col>&lt;chr&gt;</th><th scope=col>&lt;chr&gt;</th></tr>\n",
       "</thead>\n",
       "<tbody>\n",
       "\t<tr><td>-1.727366</td><td>Albania  </td><td>Tirana[5]            </td><td>Ecovolis            </td><td>NA               </td><td>NA                          </td><td>March 2011      </td><td>NA                  </td><td>8  </td><td>200 </td><td>NA   </td></tr>\n",
       "\t<tr><td>-1.721119</td><td>Argentina</td><td>Buenos Aires[6][7]   </td><td>Ecobici             </td><td>Serttel Brasil[8]</td><td>Bike In Baires Consortium[9]</td><td>2010            </td><td>NA                  </td><td>400</td><td>4000</td><td>21917</td></tr>\n",
       "\t<tr><td>-1.714872</td><td>Argentina</td><td>Mendoza[10]          </td><td>Metrobici           </td><td>NA               </td><td>NA                          </td><td>2014            </td><td>NA                  </td><td>2  </td><td>40  </td><td>NA   </td></tr>\n",
       "\t<tr><td>-1.708624</td><td>Argentina</td><td>Rosario              </td><td>Mi Bici Tu Bici[11] </td><td>NA               </td><td>NA                          </td><td>2 December 2015 </td><td>NA                  </td><td>47 </td><td>480 </td><td>NA   </td></tr>\n",
       "\t<tr><td>-1.702377</td><td>Argentina</td><td>San Lorenzo, Santa Fe</td><td>Biciudad            </td><td>Biciudad         </td><td>NA                          </td><td>27 November 2016</td><td>NA                  </td><td>8  </td><td>80  </td><td>NA   </td></tr>\n",
       "\t<tr><td>-1.696130</td><td>Australia</td><td><span style=white-space:pre-wrap>Melbourne[12]        </span></td><td>Melbourne Bike Share</td><td><span style=white-space:pre-wrap>PBSC &amp; 8D        </span></td><td><span style=white-space:pre-wrap>Motivate                    </span></td><td><span style=white-space:pre-wrap>June 2010       </span></td><td>30 November 2019[13]</td><td>53 </td><td>676 </td><td><span style=white-space:pre-wrap>NA   </span></td></tr>\n",
       "</tbody>\n",
       "</table>\n"
      ],
      "text/latex": [
       "A tibble: 6 × 11\n",
       "\\begin{tabular}{lllllllllll}\n",
       " ...1 & COUNTRY & CITY & NAME & SYSTEM & OPERATOR & LAUNCHED & DISCONTINUED & STATIONS & BICYCLES & DAILY\\_RIDERSHIP\\\\\n",
       " <dbl> & <chr> & <chr> & <chr> & <chr> & <chr> & <chr> & <chr> & <chr> & <chr> & <chr>\\\\\n",
       "\\hline\n",
       "\t -1.727366 & Albania   & Tirana{[}5{]}             & Ecovolis             & NA                & NA                           & March 2011       & NA                   & 8   & 200  & NA   \\\\\n",
       "\t -1.721119 & Argentina & Buenos Aires{[}6{]}{[}7{]}    & Ecobici              & Serttel Brasil{[}8{]} & Bike In Baires Consortium{[}9{]} & 2010             & NA                   & 400 & 4000 & 21917\\\\\n",
       "\t -1.714872 & Argentina & Mendoza{[}10{]}           & Metrobici            & NA                & NA                           & 2014             & NA                   & 2   & 40   & NA   \\\\\n",
       "\t -1.708624 & Argentina & Rosario               & Mi Bici Tu Bici{[}11{]}  & NA                & NA                           & 2 December 2015  & NA                   & 47  & 480  & NA   \\\\\n",
       "\t -1.702377 & Argentina & San Lorenzo, Santa Fe & Biciudad             & Biciudad          & NA                           & 27 November 2016 & NA                   & 8   & 80   & NA   \\\\\n",
       "\t -1.696130 & Australia & Melbourne{[}12{]}         & Melbourne Bike Share & PBSC \\& 8D         & Motivate                     & June 2010        & 30 November 2019{[}13{]} & 53  & 676  & NA   \\\\\n",
       "\\end{tabular}\n"
      ],
      "text/markdown": [
       "\n",
       "A tibble: 6 × 11\n",
       "\n",
       "| ...1 &lt;dbl&gt; | COUNTRY &lt;chr&gt; | CITY &lt;chr&gt; | NAME &lt;chr&gt; | SYSTEM &lt;chr&gt; | OPERATOR &lt;chr&gt; | LAUNCHED &lt;chr&gt; | DISCONTINUED &lt;chr&gt; | STATIONS &lt;chr&gt; | BICYCLES &lt;chr&gt; | DAILY_RIDERSHIP &lt;chr&gt; |\n",
       "|---|---|---|---|---|---|---|---|---|---|---|\n",
       "| -1.727366 | Albania   | Tirana[5]             | Ecovolis             | NA                | NA                           | March 2011       | NA                   | 8   | 200  | NA    |\n",
       "| -1.721119 | Argentina | Buenos Aires[6][7]    | Ecobici              | Serttel Brasil[8] | Bike In Baires Consortium[9] | 2010             | NA                   | 400 | 4000 | 21917 |\n",
       "| -1.714872 | Argentina | Mendoza[10]           | Metrobici            | NA                | NA                           | 2014             | NA                   | 2   | 40   | NA    |\n",
       "| -1.708624 | Argentina | Rosario               | Mi Bici Tu Bici[11]  | NA                | NA                           | 2 December 2015  | NA                   | 47  | 480  | NA    |\n",
       "| -1.702377 | Argentina | San Lorenzo, Santa Fe | Biciudad             | Biciudad          | NA                           | 27 November 2016 | NA                   | 8   | 80   | NA    |\n",
       "| -1.696130 | Australia | Melbourne[12]         | Melbourne Bike Share | PBSC &amp; 8D         | Motivate                     | June 2010        | 30 November 2019[13] | 53  | 676  | NA    |\n",
       "\n"
      ],
      "text/plain": [
       "  ...1      COUNTRY   CITY                  NAME                \n",
       "1 -1.727366 Albania   Tirana[5]             Ecovolis            \n",
       "2 -1.721119 Argentina Buenos Aires[6][7]    Ecobici             \n",
       "3 -1.714872 Argentina Mendoza[10]           Metrobici           \n",
       "4 -1.708624 Argentina Rosario               Mi Bici Tu Bici[11] \n",
       "5 -1.702377 Argentina San Lorenzo, Santa Fe Biciudad            \n",
       "6 -1.696130 Australia Melbourne[12]         Melbourne Bike Share\n",
       "  SYSTEM            OPERATOR                     LAUNCHED        \n",
       "1 NA                NA                           March 2011      \n",
       "2 Serttel Brasil[8] Bike In Baires Consortium[9] 2010            \n",
       "3 NA                NA                           2014            \n",
       "4 NA                NA                           2 December 2015 \n",
       "5 Biciudad          NA                           27 November 2016\n",
       "6 PBSC & 8D         Motivate                     June 2010       \n",
       "  DISCONTINUED         STATIONS BICYCLES DAILY_RIDERSHIP\n",
       "1 NA                   8        200      NA             \n",
       "2 NA                   400      4000     21917          \n",
       "3 NA                   2        40       NA             \n",
       "4 NA                   47       480      NA             \n",
       "5 NA                   8        80       NA             \n",
       "6 30 November 2019[13] 53       676      NA             "
      ]
     },
     "metadata": {},
     "output_type": "display_data"
    }
   ],
   "source": [
    "# Print its head\n",
    "head(bike_sharing_df)"
   ]
  },
  {
   "cell_type": "markdown",
   "id": "2668045a-b738-45f2-b1a7-16646a94c9cc",
   "metadata": {},
   "source": [
    "Even from the first few rows, you can see there is plenty of undesireable embedded textual content, such as the reference link included in `Melbourne[12]`.\n"
   ]
  },
  {
   "cell_type": "markdown",
   "id": "391baa89-2e38-43c7-a6c6-9c4439068700",
   "metadata": {},
   "source": [
    "In this project, let's only focus on processing the following revelant columns (feel free to process the other columns for more practice):\n",
    " - `COUNTRY`: Country name \n",
    " - `CITY`: City name\n",
    " - `SYSTEM`: Bike-sharing system name\n",
    " - `BICYCLES`: Total number of bikes in the system\n"
   ]
  },
  {
   "cell_type": "code",
   "execution_count": 14,
   "id": "c3ff0a3e-b618-40b3-a866-3b98bf8d0174",
   "metadata": {},
   "outputs": [],
   "source": [
    "# Select the four columns\n",
    "sub_bike_sharing_df <- bike_sharing_df %>% select(COUNTRY, CITY, SYSTEM, BICYCLES)"
   ]
  },
  {
   "cell_type": "markdown",
   "id": "b30c9492-2820-4f00-85bb-92fe48915639",
   "metadata": {},
   "source": [
    "Let's see the types of the selected columns\n"
   ]
  },
  {
   "cell_type": "code",
   "execution_count": 15,
   "id": "b6a2d409-227c-432e-9900-4480167d446f",
   "metadata": {},
   "outputs": [
    {
     "data": {
      "text/html": [
       "<table class=\"dataframe\">\n",
       "<caption>A tibble: 4 × 2</caption>\n",
       "<thead>\n",
       "\t<tr><th scope=col>variable</th><th scope=col>class</th></tr>\n",
       "\t<tr><th scope=col>&lt;chr&gt;</th><th scope=col>&lt;chr&gt;</th></tr>\n",
       "</thead>\n",
       "<tbody>\n",
       "\t<tr><td>COUNTRY </td><td>character</td></tr>\n",
       "\t<tr><td>CITY    </td><td>character</td></tr>\n",
       "\t<tr><td>SYSTEM  </td><td>character</td></tr>\n",
       "\t<tr><td>BICYCLES</td><td>character</td></tr>\n",
       "</tbody>\n",
       "</table>\n"
      ],
      "text/latex": [
       "A tibble: 4 × 2\n",
       "\\begin{tabular}{ll}\n",
       " variable & class\\\\\n",
       " <chr> & <chr>\\\\\n",
       "\\hline\n",
       "\t COUNTRY  & character\\\\\n",
       "\t CITY     & character\\\\\n",
       "\t SYSTEM   & character\\\\\n",
       "\t BICYCLES & character\\\\\n",
       "\\end{tabular}\n"
      ],
      "text/markdown": [
       "\n",
       "A tibble: 4 × 2\n",
       "\n",
       "| variable &lt;chr&gt; | class &lt;chr&gt; |\n",
       "|---|---|\n",
       "| COUNTRY  | character |\n",
       "| CITY     | character |\n",
       "| SYSTEM   | character |\n",
       "| BICYCLES | character |\n",
       "\n"
      ],
      "text/plain": [
       "  variable class    \n",
       "1 COUNTRY  character\n",
       "2 CITY     character\n",
       "3 SYSTEM   character\n",
       "4 BICYCLES character"
      ]
     },
     "metadata": {},
     "output_type": "display_data"
    }
   ],
   "source": [
    "sub_bike_sharing_df %>% \n",
    "    summarize_all(class) %>%\n",
    "    gather(variable, class)"
   ]
  },
  {
   "cell_type": "markdown",
   "id": "32e7c6a2-5d11-4ccf-8fb7-c770c0eeb9e0",
   "metadata": {},
   "source": [
    "They are all interpreted as character columns, but we expect the `BICYCLES` column to be of numeric type. Let's see why it wasn't loaded as a numeric column - possibly some entries contain characters. Let's create a simple function called `find_character` to check that.\n"
   ]
  },
  {
   "cell_type": "code",
   "execution_count": 16,
   "id": "3cfefa1e-eeef-4948-afbb-3611597a2b72",
   "metadata": {},
   "outputs": [],
   "source": [
    "# grepl searches a string for non-digital characters, and returns TRUE or FALSE\n",
    "# if it finds any non-digital characters, then the bicyle column is not purely numeric\n",
    "find_character <- function(strings) grepl(\"[^0-9]\", strings)"
   ]
  },
  {
   "cell_type": "markdown",
   "id": "ededcb50-ed13-46d7-b7fb-7ca9b9808522",
   "metadata": {},
   "source": [
    "Let's try to find any elements in the `Bicycles` column containing non-numeric characters.\n"
   ]
  },
  {
   "cell_type": "code",
   "execution_count": 17,
   "id": "b033bd1f-4971-453b-a961-786a3df54eab",
   "metadata": {},
   "outputs": [
    {
     "data": {
      "text/html": [
       "<table class=\"dataframe\">\n",
       "<caption>A tibble: 10 × 1</caption>\n",
       "<thead>\n",
       "\t<tr><th scope=col>BICYCLES</th></tr>\n",
       "\t<tr><th scope=col>&lt;chr&gt;</th></tr>\n",
       "</thead>\n",
       "<tbody>\n",
       "\t<tr><td>1790 (2019)[21]                    </td></tr>\n",
       "\t<tr><td>4200 (2021)                        </td></tr>\n",
       "\t<tr><td>4115[25]                           </td></tr>\n",
       "\t<tr><td>7270 (regular)  2395 (electric)[38]</td></tr>\n",
       "\t<tr><td>310[65]                            </td></tr>\n",
       "\t<tr><td>500[75]                            </td></tr>\n",
       "\t<tr><td>[78]                               </td></tr>\n",
       "\t<tr><td>180[79]                            </td></tr>\n",
       "\t<tr><td>600[82]                            </td></tr>\n",
       "\t<tr><td>initially 800 (later 2500)         </td></tr>\n",
       "</tbody>\n",
       "</table>\n"
      ],
      "text/latex": [
       "A tibble: 10 × 1\n",
       "\\begin{tabular}{l}\n",
       " BICYCLES\\\\\n",
       " <chr>\\\\\n",
       "\\hline\n",
       "\t 1790 (2019){[}21{]}                    \\\\\n",
       "\t 4200 (2021)                        \\\\\n",
       "\t 4115{[}25{]}                           \\\\\n",
       "\t 7270 (regular)  2395 (electric){[}38{]}\\\\\n",
       "\t 310{[}65{]}                            \\\\\n",
       "\t 500{[}75{]}                            \\\\\n",
       "\t {[}78{]}                               \\\\\n",
       "\t 180{[}79{]}                            \\\\\n",
       "\t 600{[}82{]}                            \\\\\n",
       "\t initially 800 (later 2500)         \\\\\n",
       "\\end{tabular}\n"
      ],
      "text/markdown": [
       "\n",
       "A tibble: 10 × 1\n",
       "\n",
       "| BICYCLES &lt;chr&gt; |\n",
       "|---|\n",
       "| 1790 (2019)[21]                     |\n",
       "| 4200 (2021)                         |\n",
       "| 4115[25]                            |\n",
       "| 7270 (regular)  2395 (electric)[38] |\n",
       "| 310[65]                             |\n",
       "| 500[75]                             |\n",
       "| [78]                                |\n",
       "| 180[79]                             |\n",
       "| 600[82]                             |\n",
       "| initially 800 (later 2500)          |\n",
       "\n"
      ],
      "text/plain": [
       "   BICYCLES                           \n",
       "1  1790 (2019)[21]                    \n",
       "2  4200 (2021)                        \n",
       "3  4115[25]                           \n",
       "4  7270 (regular)  2395 (electric)[38]\n",
       "5  310[65]                            \n",
       "6  500[75]                            \n",
       "7  [78]                               \n",
       "8  180[79]                            \n",
       "9  600[82]                            \n",
       "10 initially 800 (later 2500)         "
      ]
     },
     "metadata": {},
     "output_type": "display_data"
    }
   ],
   "source": [
    "sub_bike_sharing_df %>% \n",
    "    select(BICYCLES) %>% \n",
    "    filter(find_character(BICYCLES)) %>%\n",
    "    slice(0:10)"
   ]
  },
  {
   "cell_type": "markdown",
   "id": "1981d469-932f-443d-a266-cffec016f4f5",
   "metadata": {},
   "source": [
    "As you can see, many rows have non-numeric characters, such as `32 (including 6 rollers) [162]` and `1000[253]`. This is actually very common for a table scraped from Wiki when no input validation is enforced. \n",
    "\n",
    "Later, you will use regular expressions to clean them up.\n"
   ]
  },
  {
   "cell_type": "markdown",
   "id": "53710bbc-6734-4dd2-a2cd-1931e1e7bee7",
   "metadata": {},
   "source": [
    "Next, let's take a look at the other columns, namely `COUNTRY`, `CITY`, and `SYSTEM`, to see if they contain any undesired reference links, such as in `Melbourne[12]`.\n"
   ]
  },
  {
   "cell_type": "code",
   "execution_count": 19,
   "id": "fb8fc648-a7f0-4f3e-8c25-81c9e87a3851",
   "metadata": {},
   "outputs": [],
   "source": [
    "# Define a 'reference link' character class, \n",
    "# `[A-z0-9]` means at least one character \n",
    "# `\\\\[` and `\\\\]` means the character is wrapped by [], such as for [12] or [abc]\n",
    "ref_pattern <- \"\\\\[[A-z0-9]+\\\\]\"\n",
    "find_reference_pattern <- function(strings) grepl(ref_pattern, strings)"
   ]
  },
  {
   "cell_type": "code",
   "execution_count": 20,
   "id": "5c66d874-abbd-4d46-a609-e5e3a3109a05",
   "metadata": {},
   "outputs": [
    {
     "data": {
      "text/html": [
       "<table class=\"dataframe\">\n",
       "<caption>A tibble: 0 × 1</caption>\n",
       "<thead>\n",
       "\t<tr><th scope=col>COUNTRY</th></tr>\n",
       "\t<tr><th scope=col>&lt;chr&gt;</th></tr>\n",
       "</thead>\n",
       "<tbody>\n",
       "</tbody>\n",
       "</table>\n"
      ],
      "text/latex": [
       "A tibble: 0 × 1\n",
       "\\begin{tabular}{l}\n",
       " COUNTRY\\\\\n",
       " <chr>\\\\\n",
       "\\hline\n",
       "\\end{tabular}\n"
      ],
      "text/markdown": [
       "\n",
       "A tibble: 0 × 1\n",
       "\n",
       "| COUNTRY &lt;chr&gt; |\n",
       "|---|\n",
       "\n"
      ],
      "text/plain": [
       "     COUNTRY"
      ]
     },
     "metadata": {},
     "output_type": "display_data"
    }
   ],
   "source": [
    "# Check whether the COUNTRY column has any reference links\n",
    "sub_bike_sharing_df %>% \n",
    "    select(COUNTRY) %>% \n",
    "    filter(find_reference_pattern(COUNTRY)) %>%\n",
    "    slice(0:10)"
   ]
  },
  {
   "cell_type": "markdown",
   "id": "5011cde3-e2d5-496c-9dda-4f62822d2a77",
   "metadata": {},
   "source": [
    "Ok, looks like the `COUNTRY` column is clean. Let's check the `CITY` column.\n"
   ]
  },
  {
   "cell_type": "code",
   "execution_count": 21,
   "id": "5f6aedf8-fc29-496d-9c06-ef19444699e8",
   "metadata": {},
   "outputs": [
    {
     "data": {
      "text/html": [
       "<table class=\"dataframe\">\n",
       "<caption>A tibble: 10 × 1</caption>\n",
       "<thead>\n",
       "\t<tr><th scope=col>CITY</th></tr>\n",
       "\t<tr><th scope=col>&lt;chr&gt;</th></tr>\n",
       "</thead>\n",
       "<tbody>\n",
       "\t<tr><td>Tirana[5]              </td></tr>\n",
       "\t<tr><td>Buenos Aires[6][7]     </td></tr>\n",
       "\t<tr><td>Mendoza[10]            </td></tr>\n",
       "\t<tr><td>Melbourne[12]          </td></tr>\n",
       "\t<tr><td>Melbourne[12]          </td></tr>\n",
       "\t<tr><td>Brisbane[14][15]       </td></tr>\n",
       "\t<tr><td>Lower Austria[16]      </td></tr>\n",
       "\t<tr><td>Different locations[19]</td></tr>\n",
       "\t<tr><td>Brussels[24]           </td></tr>\n",
       "\t<tr><td>Namur[26]              </td></tr>\n",
       "</tbody>\n",
       "</table>\n"
      ],
      "text/latex": [
       "A tibble: 10 × 1\n",
       "\\begin{tabular}{l}\n",
       " CITY\\\\\n",
       " <chr>\\\\\n",
       "\\hline\n",
       "\t Tirana{[}5{]}              \\\\\n",
       "\t Buenos Aires{[}6{]}{[}7{]}     \\\\\n",
       "\t Mendoza{[}10{]}            \\\\\n",
       "\t Melbourne{[}12{]}          \\\\\n",
       "\t Melbourne{[}12{]}          \\\\\n",
       "\t Brisbane{[}14{]}{[}15{]}       \\\\\n",
       "\t Lower Austria{[}16{]}      \\\\\n",
       "\t Different locations{[}19{]}\\\\\n",
       "\t Brussels{[}24{]}           \\\\\n",
       "\t Namur{[}26{]}              \\\\\n",
       "\\end{tabular}\n"
      ],
      "text/markdown": [
       "\n",
       "A tibble: 10 × 1\n",
       "\n",
       "| CITY &lt;chr&gt; |\n",
       "|---|\n",
       "| Tirana[5]               |\n",
       "| Buenos Aires[6][7]      |\n",
       "| Mendoza[10]             |\n",
       "| Melbourne[12]           |\n",
       "| Melbourne[12]           |\n",
       "| Brisbane[14][15]        |\n",
       "| Lower Austria[16]       |\n",
       "| Different locations[19] |\n",
       "| Brussels[24]            |\n",
       "| Namur[26]               |\n",
       "\n"
      ],
      "text/plain": [
       "   CITY                   \n",
       "1  Tirana[5]              \n",
       "2  Buenos Aires[6][7]     \n",
       "3  Mendoza[10]            \n",
       "4  Melbourne[12]          \n",
       "5  Melbourne[12]          \n",
       "6  Brisbane[14][15]       \n",
       "7  Lower Austria[16]      \n",
       "8  Different locations[19]\n",
       "9  Brussels[24]           \n",
       "10 Namur[26]              "
      ]
     },
     "metadata": {},
     "output_type": "display_data"
    }
   ],
   "source": [
    "# Check whether the CITY column has any reference links\n",
    "sub_bike_sharing_df %>% \n",
    "    select(CITY) %>% \n",
    "    filter(find_reference_pattern(CITY)) %>%\n",
    "    slice(0:10)"
   ]
  },
  {
   "cell_type": "markdown",
   "id": "18011d30-b1d6-4f6b-98b9-b5b952634c7d",
   "metadata": {},
   "source": [
    "Hmm, looks like the `CITY` column has some reference links to be removed. Next, let's check the `SYSTEM` column.\n"
   ]
  },
  {
   "cell_type": "code",
   "execution_count": 22,
   "id": "ebfc03a7-5dad-4093-8a29-43432014617e",
   "metadata": {},
   "outputs": [
    {
     "data": {
      "text/html": [
       "<table class=\"dataframe\">\n",
       "<caption>A tibble: 8 × 1</caption>\n",
       "<thead>\n",
       "\t<tr><th scope=col>SYSTEM</th></tr>\n",
       "\t<tr><th scope=col>&lt;chr&gt;</th></tr>\n",
       "</thead>\n",
       "<tbody>\n",
       "\t<tr><td>Serttel Brasil[8]                </td></tr>\n",
       "\t<tr><td>EasyBike[64]                     </td></tr>\n",
       "\t<tr><td>4 Gen.[72]                       </td></tr>\n",
       "\t<tr><td>3 Gen. SmooveKey[135]            </td></tr>\n",
       "\t<tr><td>3 Gen. Smoove[162][163][164][160]</td></tr>\n",
       "\t<tr><td>3 Gen. Smoove[200]               </td></tr>\n",
       "\t<tr><td>3 Gen. Smoove[202]               </td></tr>\n",
       "\t<tr><td>3 Gen. Smoove[204]               </td></tr>\n",
       "</tbody>\n",
       "</table>\n"
      ],
      "text/latex": [
       "A tibble: 8 × 1\n",
       "\\begin{tabular}{l}\n",
       " SYSTEM\\\\\n",
       " <chr>\\\\\n",
       "\\hline\n",
       "\t Serttel Brasil{[}8{]}                \\\\\n",
       "\t EasyBike{[}64{]}                     \\\\\n",
       "\t 4 Gen.{[}72{]}                       \\\\\n",
       "\t 3 Gen. SmooveKey{[}135{]}            \\\\\n",
       "\t 3 Gen. Smoove{[}162{]}{[}163{]}{[}164{]}{[}160{]}\\\\\n",
       "\t 3 Gen. Smoove{[}200{]}               \\\\\n",
       "\t 3 Gen. Smoove{[}202{]}               \\\\\n",
       "\t 3 Gen. Smoove{[}204{]}               \\\\\n",
       "\\end{tabular}\n"
      ],
      "text/markdown": [
       "\n",
       "A tibble: 8 × 1\n",
       "\n",
       "| SYSTEM &lt;chr&gt; |\n",
       "|---|\n",
       "| Serttel Brasil[8]                 |\n",
       "| EasyBike[64]                      |\n",
       "| 4 Gen.[72]                        |\n",
       "| 3 Gen. SmooveKey[135]             |\n",
       "| 3 Gen. Smoove[162][163][164][160] |\n",
       "| 3 Gen. Smoove[200]                |\n",
       "| 3 Gen. Smoove[202]                |\n",
       "| 3 Gen. Smoove[204]                |\n",
       "\n"
      ],
      "text/plain": [
       "  SYSTEM                           \n",
       "1 Serttel Brasil[8]                \n",
       "2 EasyBike[64]                     \n",
       "3 4 Gen.[72]                       \n",
       "4 3 Gen. SmooveKey[135]            \n",
       "5 3 Gen. Smoove[162][163][164][160]\n",
       "6 3 Gen. Smoove[200]               \n",
       "7 3 Gen. Smoove[202]               \n",
       "8 3 Gen. Smoove[204]               "
      ]
     },
     "metadata": {},
     "output_type": "display_data"
    }
   ],
   "source": [
    "# Check whether the System column has any reference links\n",
    "sub_bike_sharing_df %>% \n",
    "    select(SYSTEM) %>% \n",
    "    filter(find_reference_pattern(SYSTEM)) %>%\n",
    "    slice(0:10)"
   ]
  },
  {
   "cell_type": "markdown",
   "id": "3b07d8ae-2177-4012-8a57-5a9569bc5408",
   "metadata": {},
   "source": [
    "So the `SYSTEM` column also has some reference links.\n"
   ]
  },
  {
   "cell_type": "markdown",
   "id": "a322c2a1-eba1-48c8-8e2b-2da445af35d8",
   "metadata": {},
   "source": [
    "After some preliminary investigations, we identified that the `CITY` and `SYSTEM` columns have some undesired reference links, and the `BICYCLES` column has both reference links and some \n",
    "textual annotations.\n",
    "\n",
    "Next, you need to use regular expressions to clean up the unexpected reference links and text annotations in numeric values.\n"
   ]
  },
  {
   "cell_type": "markdown",
   "id": "1598e682-da41-4d66-a7e6-28c76aa805aa",
   "metadata": {},
   "source": [
    "# TASK: Remove undesired reference links using regular expressions\n"
   ]
  },
  {
   "cell_type": "markdown",
   "id": "4102580d-91bb-4376-b701-23ca68d53105",
   "metadata": {},
   "source": [
    "_TODO:_ Write a custom function using `stringr::str_replace_all` to replace all reference links with an empty character for columns `CITY` and `SYSTEM`\n"
   ]
  },
  {
   "cell_type": "code",
   "execution_count": 42,
   "id": "0f3fac25-3422-43fd-bc0c-00321c88239d",
   "metadata": {},
   "outputs": [],
   "source": [
    "# remove reference link\n",
    "remove_ref <- function(strings) {\n",
    "    ref_pattern <- \"Define a pattern matching a reference link such as [1]\"\n",
    "    # Replace all matched substrings with a white space using str_replace_all()\n",
    "    strings <- str_replace_all(strings, \"\\\\[[A-z0-9]+\\\\]\", '')\n",
    "    # Trim the reslt if you want\n",
    "    result <- trimws(strings)\n",
    "    return(result)\n",
    "}"
   ]
  },
  {
   "cell_type": "markdown",
   "id": "6905b5dd-63de-4189-8440-febedfb5debc",
   "metadata": {},
   "source": [
    "_TODO:_ Use the `dplyr::mutate()` function to apply the `remove_ref` function to the `CITY` and `SYSTEM` columns\n"
   ]
  },
  {
   "cell_type": "code",
   "execution_count": 44,
   "id": "9ce77592-1ca1-4546-839b-87cbc88d361e",
   "metadata": {},
   "outputs": [],
   "source": [
    "result <- sub_bike_sharing_df %>% mutate(CITY=remove_ref(CITY),SYSTEM = remove_ref(SYSTEM), BICYCLES=remove_ref(BICYCLES))\n"
   ]
  },
  {
   "cell_type": "markdown",
   "id": "594fea94-7087-4d5c-8883-f0aa4087dfe9",
   "metadata": {},
   "source": [
    "_TODO:_ Use the following code to check whether all reference links are removed:\n"
   ]
  },
  {
   "cell_type": "code",
   "execution_count": 45,
   "id": "f6dc2ecd-6ae0-4978-8840-760a6deb82eb",
   "metadata": {},
   "outputs": [
    {
     "data": {
      "text/html": [
       "<table class=\"dataframe\">\n",
       "<caption>A tibble: 0 × 3</caption>\n",
       "<thead>\n",
       "\t<tr><th scope=col>CITY</th><th scope=col>SYSTEM</th><th scope=col>BICYCLES</th></tr>\n",
       "\t<tr><th scope=col>&lt;chr&gt;</th><th scope=col>&lt;chr&gt;</th><th scope=col>&lt;chr&gt;</th></tr>\n",
       "</thead>\n",
       "<tbody>\n",
       "</tbody>\n",
       "</table>\n"
      ],
      "text/latex": [
       "A tibble: 0 × 3\n",
       "\\begin{tabular}{lll}\n",
       " CITY & SYSTEM & BICYCLES\\\\\n",
       " <chr> & <chr> & <chr>\\\\\n",
       "\\hline\n",
       "\\end{tabular}\n"
      ],
      "text/markdown": [
       "\n",
       "A tibble: 0 × 3\n",
       "\n",
       "| CITY &lt;chr&gt; | SYSTEM &lt;chr&gt; | BICYCLES &lt;chr&gt; |\n",
       "|---|---|---|\n",
       "\n"
      ],
      "text/plain": [
       "     CITY SYSTEM BICYCLES"
      ]
     },
     "metadata": {},
     "output_type": "display_data"
    }
   ],
   "source": [
    "result %>% \n",
    "    select(CITY, SYSTEM, BICYCLES) %>% \n",
    "    filter(find_reference_pattern(CITY) | find_reference_pattern(SYSTEM) | find_reference_pattern(BICYCLES))"
   ]
  },
  {
   "cell_type": "markdown",
   "id": "8c8e1947-28a0-462c-be45-536671bfa841",
   "metadata": {},
   "source": [
    "# TASK: Extract the numeric value using regular expressions\n"
   ]
  },
  {
   "cell_type": "markdown",
   "id": "df4bb61e-0d60-46ef-a019-aa439cd2999d",
   "metadata": {},
   "source": [
    "_TODO:_ Write a custom function using `stringr::str_extract` to extract the first digital substring match and convert it into numeric type For example, extract the value '32' from `32 (including 6 rollers) [162]`.\n"
   ]
  },
  {
   "cell_type": "code",
   "execution_count": 78,
   "id": "132aa00b-3bb1-4b35-8a4c-4169d5d11381",
   "metadata": {},
   "outputs": [],
   "source": [
    "extract_num <- function(columns) {\n",
    "  # Define a pattern matching a digital substring\n",
    "  digitals_pattern <- \"\\\\d+\"\n",
    "  \n",
    "  # Find the first match using str_extract\n",
    "  v <- str_extract(columns, digitals_pattern)\n",
    "  \n",
    "  # Convert the result to numeric using the as.numeric() function\n",
    "  v <- as.numeric(v)\n",
    "  \n",
    "  # Return the numeric values\n",
    "  return(v)\n",
    "}"
   ]
  },
  {
   "cell_type": "markdown",
   "id": "a2eef301-6209-4f52-9659-b23734974a76",
   "metadata": {},
   "source": [
    "_TODO:_ Use the `dplyr::mutate()` function to apply `extract_num` on the `BICYCLES` column\n"
   ]
  },
  {
   "cell_type": "code",
   "execution_count": 82,
   "id": "e24e94ad-927c-40a5-b572-d70aab3e4bc6",
   "metadata": {},
   "outputs": [],
   "source": [
    "# Use the mutate() function on the BICYCLES column\n",
    "result <- result %>% mutate(BICYCLES = extract_num(BICYCLES))"
   ]
  },
  {
   "cell_type": "markdown",
   "id": "045aa810-3662-4a59-93f5-3455a7206038",
   "metadata": {},
   "source": [
    "_TODO:_ Use the summary function to check the descriptive statistics of the numeric `BICYCLES` column\n"
   ]
  },
  {
   "cell_type": "code",
   "execution_count": 83,
   "id": "ecefaa67-6c53-439d-8b15-d506bf5e8923",
   "metadata": {},
   "outputs": [
    {
     "data": {
      "text/plain": [
       "   Min. 1st Qu.  Median    Mean 3rd Qu.    Max.    NA's \n",
       "      4      70     300    1842    1000   78000      99 "
      ]
     },
     "metadata": {},
     "output_type": "display_data"
    }
   ],
   "source": [
    "summary(result$BICYCLES)"
   ]
  },
  {
   "cell_type": "markdown",
   "id": "1a3f105f-2721-43b4-a499-b447559180c6",
   "metadata": {},
   "source": [
    "_TODO:_ Write the cleaned bike-sharing systems dataset into a csv file called `bike_sharing_systems.csv`\n"
   ]
  },
  {
   "cell_type": "code",
   "execution_count": 84,
   "id": "bd83d724-29b3-4b70-bd49-e1666bd82985",
   "metadata": {},
   "outputs": [],
   "source": [
    "# Write dataset to `bike_sharing_systems.csv`\n",
    "write.csv(result, 'bike_sharing_systems.csv')"
   ]
  },
  {
   "cell_type": "markdown",
   "id": "8e9e317e-a8dd-4c08-b320-b16340a2da39",
   "metadata": {},
   "source": [
    "# References:\n"
   ]
  },
  {
   "cell_type": "markdown",
   "id": "e7924a6b-0185-4358-a21b-6aef0482bdff",
   "metadata": {},
   "source": [
    "If you need to refresh your memory about regular expressions, please refer to this good Regular Expression cheat sheet:\n",
    "\n",
    "<a href=\"https://www.rstudio.com/wp-content/uploads/2016/09/RegExCheatsheet.pdf?utm_medium=Exinfluencer&utm_source=Exinfluencer&utm_content=000026UJ&utm_term=10006555&utm_id=NA-SkillsNetwork-Channel-SkillsNetworkCoursesIBMDeveloperSkillsNetworkRP0321ENSkillsNetwork878-2022-01-01\" target=\"_blank\">Basic Regular Expressions in R</a>\n"
   ]
  },
  {
   "cell_type": "markdown",
   "id": "8966eab1-a675-48ee-8ebb-836ea5542d36",
   "metadata": {},
   "source": [
    "# Next Steps\n"
   ]
  },
  {
   "cell_type": "markdown",
   "id": "9cde22c7-d36a-4f65-97a8-75390eab5e36",
   "metadata": {},
   "source": [
    "Great! Now you have cleaned up the bike-sharing system dataset using regular expressions. Next, you will use other `tidyverse` functions to perform data wrangling on the bike-sharing demand dataset.\n"
   ]
  },
  {
   "cell_type": "markdown",
   "id": "865c9b40-836b-47a4-a636-060f1d167f0e",
   "metadata": {},
   "source": [
    "## Authors\n",
    "\n",
    "<a href=\"https://www.linkedin.com/in/yan-luo-96288783/?utm_medium=Exinfluencer&utm_source=Exinfluencer&utm_content=000026UJ&utm_term=10006555&utm_id=NA-SkillsNetwork-Channel-SkillsNetworkCoursesIBMDeveloperSkillsNetworkRP0321ENSkillsNetwork878-2022-01-01\" target=\"_blank\">Yan Luo</a>\n"
   ]
  },
  {
   "cell_type": "markdown",
   "id": "a3829a65-1a4b-4572-a9d5-4fed97883236",
   "metadata": {},
   "source": [
    "### Other Contributors\n",
    "\n",
    "Jeff Grossman\n"
   ]
  },
  {
   "cell_type": "markdown",
   "id": "8d7b7c34-cf38-4bd5-8631-0ffff692e538",
   "metadata": {},
   "source": [
    "## Change Log\n",
    "\n",
    "| Date (YYYY-MM-DD) | Version | Changed By | Change Description           |\n",
    "| ----------------- | ------- | ---------- | ---------------------------- |\n",
    "| 2021-04-08        | 1.0     | Yan        | Initial version created      |\n",
    "|                   |         |            |                              |\n",
    "|                   |         |            |                              |\n",
    "\n",
    "## <h3 align=\"center\"> © IBM Corporation 2021. All rights reserved. <h3/>\n"
   ]
  }
 ],
 "metadata": {
  "kernelspec": {
   "display_name": "R",
   "language": "R",
   "name": "ir"
  },
  "language_info": {
   "codemirror_mode": "r",
   "file_extension": ".r",
   "mimetype": "text/x-r-source",
   "name": "R",
   "pygments_lexer": "r",
   "version": "4.3.0"
  }
 },
 "nbformat": 4,
 "nbformat_minor": 4
}
