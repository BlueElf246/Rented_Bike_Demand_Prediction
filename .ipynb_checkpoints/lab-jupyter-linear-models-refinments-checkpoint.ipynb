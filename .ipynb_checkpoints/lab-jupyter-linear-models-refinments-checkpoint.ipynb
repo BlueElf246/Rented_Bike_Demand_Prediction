{
 "cells": [
  {
   "cell_type": "markdown",
   "id": "c44a1bc5-7123-4145-b534-b3eea49ae5d4",
   "metadata": {},
   "outputs": [],
   "source": [
    "<center>\n",
    "<img src=\"https://cf-courses-data.s3.us.cloud-object-storage.appdomain.cloud/IBMDeveloperSkillsNetwork-RP0321EN-SkillsNetwork/labs/module_1/images/SN_web_lightmode.png\" width=\"300\"> \n",
    "</center>\n"
   ]
  },
  {
   "cell_type": "markdown",
   "id": "3ed947d0-8c23-4d47-9d3f-520c5764e1cc",
   "metadata": {},
   "outputs": [],
   "source": [
    "<h1>Refine the Baseline Regression Models</h1>\n",
    "\n",
    "Estimated time needed: **120** minutes\n"
   ]
  },
  {
   "cell_type": "markdown",
   "id": "ca05ec6e-671e-48fc-a99f-93d45672f25f",
   "metadata": {},
   "outputs": [],
   "source": [
    "## Lab Overview:\n",
    "\n",
    "Now you have built a baseline regression model with some relatively good RMSE and R-squared reported values. However, we could still improve it by using methods like adding polynomial and interaction terms, regularization, and so on.\n",
    "\n",
    "In this lab, you will be asked to continue using `tidymodels` to improve the performance of baseline model:\n",
    "\n",
    "- **TASK: Add polynomial terms**\n",
    "- **TASK: Add interactions terms**\n",
    "- **TASK: Add regularizations terms**\n",
    "- **TASK: Experiment to search for improved models**\n",
    "\n",
    "\n",
    "Let's start!\n"
   ]
  },
  {
   "cell_type": "markdown",
   "id": "9d19e33b-2cbc-4402-92ab-5b888828dbbf",
   "metadata": {},
   "outputs": [],
   "source": [
    "First install and import necessary libraries\n"
   ]
  },
  {
   "cell_type": "code",
   "id": "2f43789d-2669-4b3a-a546-67698d017730",
   "metadata": {},
   "outputs": [],
   "source": [
    "library(\"tidymodels\")\nlibrary(\"tidyverse\")\nlibrary(\"stringr\")"
   ]
  },
  {
   "cell_type": "markdown",
   "id": "4292af07-1b3a-437a-b17a-8bba2a7b0888",
   "metadata": {},
   "outputs": [],
   "source": [
    "The processed Seoul bike sharing dataset `seoul_bike_sharing_converted_normalized.csv`,  includes the converted indicator variables, and the numerical variables have been normalized. \n",
    "Let's read it as a dataframe first:\n"
   ]
  },
  {
   "cell_type": "code",
   "id": "045e916f-cf0d-4422-b651-3ccf51d77984",
   "metadata": {},
   "outputs": [],
   "source": [
    "# Dataset URL\ndataset_url <- \"https://cf-courses-data.s3.us.cloud-object-storage.appdomain.cloud/IBMDeveloperSkillsNetwork-RP0321EN-SkillsNetwork/labs/datasets/seoul_bike_sharing_converted_normalized.csv\"\nbike_sharing_df <- read_csv(dataset_url)\nspec(bike_sharing_df)"
   ]
  },
  {
   "cell_type": "markdown",
   "id": "54391a99-74a9-49d5-9ce6-2f00bbd2ae8c",
   "metadata": {},
   "outputs": [],
   "source": [
    "We won't be using the `DATE` column, because 'as is', it basically acts like an data entry index. (However, given more time, we could use the `DATE` colum to create a 'day of week' or 'isWeekend' column, which we might expect has an affect on preferred bike rental times.) We also do not need the `FUNCTIONAL DAY` column because it only has one distinct value remaining (`YES`) after missing value processing.\n"
   ]
  },
  {
   "cell_type": "code",
   "id": "c1f84beb-40fc-4c98-a77a-bfad329c56ed",
   "metadata": {},
   "outputs": [],
   "source": [
    "bike_sharing_df <- bike_sharing_df %>% \n                   select(-DATE, -FUNCTIONING_DAY)"
   ]
  },
  {
   "cell_type": "markdown",
   "id": "10b4ce50-37e8-4b95-a219-c694eba889aa",
   "metadata": {},
   "outputs": [],
   "source": [
    "Define a linear regression model specification.\n"
   ]
  },
  {
   "cell_type": "code",
   "id": "78980d6c-275c-4e67-afa2-0555afbaf3bc",
   "metadata": {},
   "outputs": [],
   "source": [
    "lm_spec <- linear_reg() %>%\n  set_engine(\"lm\") %>% \n  set_mode(\"regression\")"
   ]
  },
  {
   "cell_type": "markdown",
   "id": "458cf98e-a629-4e84-ad57-1b70e94053a7",
   "metadata": {},
   "outputs": [],
   "source": [
    "Split the data into training and testing datasets.\n"
   ]
  },
  {
   "cell_type": "code",
   "id": "8530c7ff-aa6a-41d0-8d7b-914d36e5f791",
   "metadata": {},
   "outputs": [],
   "source": [
    "set.seed(1234)\ndata_split <- initial_split(bike_sharing_df, prop = 4/5)\ntrain_data <- training(data_split)\ntest_data <- testing(data_split)"
   ]
  },
  {
   "cell_type": "markdown",
   "id": "5f85bbe8-941d-4491-8a14-e65494a6ce24",
   "metadata": {},
   "outputs": [],
   "source": [
    "Now we are ready to refine the previous baseline regression model.\n"
   ]
  },
  {
   "cell_type": "markdown",
   "id": "fffd4d80-9655-4fab-9529-89c8d698f344",
   "metadata": {},
   "outputs": [],
   "source": [
    "# TASK: Add polynomial terms\n"
   ]
  },
  {
   "cell_type": "markdown",
   "id": "23a3972b-f05c-4ad0-a328-1ee718f0c17a",
   "metadata": {},
   "outputs": [],
   "source": [
    "Linear regression models are the most suitable models to capture the linear correlations among variables. However, in real world data, many relationships may be non-linear.\n"
   ]
  },
  {
   "cell_type": "markdown",
   "id": "97b30176-0a9f-49a9-bbf7-56b88778a258",
   "metadata": {},
   "outputs": [],
   "source": [
    "For example, the correlation between `RENTED_BIKE_COUNT` and `TEMPERATURE` does not look like linear:\n"
   ]
  },
  {
   "cell_type": "code",
   "id": "a5e39ab7-c364-41aa-b658-f97232ded363",
   "metadata": {},
   "outputs": [],
   "source": [
    "ggplot(data = train_data, aes(RENTED_BIKE_COUNT, TEMPERATURE)) + \n    geom_point() "
   ]
  },
  {
   "cell_type": "raw",
   "id": "c1e4d836-d7b7-46af-916b-1e59e5310cab",
   "metadata": {},
   "outputs": [],
   "source": [
    "One solution to handle such nonlinearity is using polynomial regression by adding polynomial terms. As shown before, higher order polynomials are better than the first order polynomial.  "
   ]
  },
  {
   "cell_type": "code",
   "id": "946824d2-95de-4299-a2dd-dfe7f0b76ca4",
   "metadata": {},
   "outputs": [],
   "source": [
    "# Plot the higher order polynomial fits\nggplot(data=train_data, aes(RENTED_BIKE_COUNT, TEMPERATURE)) + \n    geom_point() + \n    geom_smooth(method = \"lm\", formula = y ~ x, color=\"red\") + \n    geom_smooth(method = \"lm\", formula = y ~ poly(x, 2), color=\"yellow\") + \n    geom_smooth(method = \"lm\", formula = y ~ poly(x, 4), color=\"green\") + \n    geom_smooth(method = \"lm\", formula = y ~ poly(x, 6), color=\"blue\")"
   ]
  },
  {
   "cell_type": "markdown",
   "id": "a4d0bcec-a704-4484-8cda-16745bb38360",
   "metadata": {},
   "outputs": [],
   "source": [
    "OK, let's add some higher order polynomials of important variables to the regression models\n"
   ]
  },
  {
   "cell_type": "markdown",
   "id": "f5c65791-63a2-4d60-b9ac-1d617a69a7f5",
   "metadata": {},
   "outputs": [],
   "source": [
    "_TODO:_ Fit a linear regression model `lm_poly` with higher order polynomial terms on the important variables (larger coefficients) found in the baseline model\n"
   ]
  },
  {
   "cell_type": "code",
   "id": "ff193589-c72d-4f13-9685-338d86329b30",
   "metadata": {},
   "outputs": [],
   "source": [
    "# Fit a linear model with higher order polynomial on some important variables \n\n# #HINT: Use ploy function to build polynomial terms, lm_poly <- RENTED_BIKE_COUNT ~ poly(TEMPERATURE, 6) + poly(HUMIDITY, 4) .....\n"
   ]
  },
  {
   "cell_type": "code",
   "id": "884762e9-ff77-429f-a24f-2e6a62640bb0",
   "metadata": {},
   "outputs": [],
   "source": [
    "# Print model summary\n\n# summary(lm_poly$fit)"
   ]
  },
  {
   "cell_type": "markdown",
   "id": "d7da2fdc-a84a-4c4e-93af-2cece98a7860",
   "metadata": {},
   "outputs": [],
   "source": [
    "_TODO:_ Make predictions on test dataset using the `lm_poly` models\n"
   ]
  },
  {
   "cell_type": "code",
   "id": "9d6d9945-2887-4306-80a4-c58652a6e821",
   "metadata": {},
   "outputs": [],
   "source": [
    "# Use predict() function to generate test results for `lm_poly`\n"
   ]
  },
  {
   "cell_type": "markdown",
   "id": "991efc59-4ecf-4aea-af81-96547138583d",
   "metadata": {},
   "outputs": [],
   "source": [
    "Another minor improvement we could do here is to convert all negative prediction results to zero, because we can not have negative rented bike counts\n"
   ]
  },
  {
   "cell_type": "code",
   "id": "33dacd50-ec36-479a-ae2d-917cdd6d3d75",
   "metadata": {},
   "outputs": [],
   "source": [
    "# e.g., test_results[test_results<0] <- 0"
   ]
  },
  {
   "cell_type": "markdown",
   "id": "1f1c4472-c25c-4e98-9119-7d45da6a439d",
   "metadata": {},
   "outputs": [],
   "source": [
    "Now, calculate R-squared and RMSE for the test results generated by `lm_ploy` model\n"
   ]
  },
  {
   "cell_type": "code",
   "id": "bbbb1215-843a-41cb-89ea-af85ec1fff1b",
   "metadata": {},
   "outputs": [],
   "source": [
    "# Calculate R-squared and RMSE from the test results\n"
   ]
  },
  {
   "cell_type": "markdown",
   "id": "77e4370a-7b11-4b5e-91db-67a2be19da90",
   "metadata": {},
   "outputs": [],
   "source": [
    "If you include all variables, and additionally include some of the more important ones as higher order poly terms, then you should notice improved  `R-squared` and `RMSE` values.\n"
   ]
  },
  {
   "cell_type": "markdown",
   "id": "136b887e-d14c-4c39-9260-29789b7fd62b",
   "metadata": {},
   "outputs": [],
   "source": [
    "# TASK: Add interaction terms\n"
   ]
  },
  {
   "cell_type": "markdown",
   "id": "a0e47fa6-dbb3-4d8d-82aa-4267fe5e824f",
   "metadata": {},
   "outputs": [],
   "source": [
    "In real-world scenarios, in addition to non-linear relationships between response variables and predictor variables, you may also encounter relationships among variables called `interaction effects`.\n",
    "\n",
    "For example, the effect of predictor variable `TEMPERATURE` on `RENTED_BIKE_COUNT` may also depend on other variables such as `HUMIDITY`, `RAINFALL`, or both (they `interact`) and the effect of `SEASON` on `RENTED_BIKE_COUNT` may also depend on `HOLIDAY`, `HOUR`, or both.\n",
    "\n",
    "To capture such interaction effects, we could add some interaction terms such as `RAINFALL*HUMIDITY` to the regression model, similar to what we did with polynominal terms. In this task, you will explore and conduct some experiments to search for interaction terms which will improve the model performance.\n"
   ]
  },
  {
   "cell_type": "markdown",
   "id": "ba462663-85fb-4e5f-b7d8-812076020e65",
   "metadata": {},
   "outputs": [],
   "source": [
    "_TODO:_ Try adding some interaction terms to the previous polynomial models.\n"
   ]
  },
  {
   "cell_type": "code",
   "id": "c7b55328-acd5-4bba-bd5a-4d57c2eda503",
   "metadata": {},
   "outputs": [],
   "source": [
    "# Add interaction terms to the poly regression built in previous step\n\n# HINT: You could use `*` operator to create interaction terms such as HUMIDITY*TEMPERATURE and make the formula look like:\n# RENTED_BIKE_COUNT ~ RAINFALL*HUMIDITY ...\n"
   ]
  },
  {
   "cell_type": "code",
   "id": "8621df7c-f318-4c38-8ac2-4bb2fe1728f2",
   "metadata": {},
   "outputs": [],
   "source": [
    "# Print model summary"
   ]
  },
  {
   "cell_type": "code",
   "id": "a2123294-ecc5-4a14-b725-3ba3e8ffc2e6",
   "metadata": {},
   "outputs": [],
   "source": [
    "# Calculate R-squared and RMSE for the new model to see if performance has improved\n"
   ]
  },
  {
   "cell_type": "markdown",
   "id": "51af2e31-8790-4107-9d0c-8a4096bcacc7",
   "metadata": {},
   "outputs": [],
   "source": [
    "# TASK: Add regularization\n"
   ]
  },
  {
   "cell_type": "markdown",
   "id": "f936ab6f-e981-4a15-87a9-82489e2658c5",
   "metadata": {},
   "outputs": [],
   "source": [
    "In previous tasks, you were asked to add polynominal and interaction terms to the model, aiming to capture nonlinearity and interaction effects between the predictor variables. Hopefully, your updated models have better R-squared and RMSE values.\n",
    "\n",
    "However, adding these terms makes your model more complicated, more difficult to explain, and more likely to suffer from overfitting. To overcome these issues, one solution is to add regularization terms to your models.\n"
   ]
  },
  {
   "cell_type": "markdown",
   "id": "28dce7a1-3e40-4c42-bed4-50b2cc9cf6c9",
   "metadata": {},
   "outputs": [],
   "source": [
    "When building the baseline model, we used the basic `lm` engine. In this task, you will use a more advanced and generalized `glmnet` engine. It provides a generalized linear model with Lasso, Ridge, and Elastic Net regularizations.\n",
    "\n",
    "In general, using `glmnet` can enhance your models in the following ways:\n",
    "- Address overfitting issues by shrinking the coefficients\n",
    "- Address predictor variable colinearity by selecting only one variable from each group of colinear variables (by shrinking their coefficients to zero)\n",
    "- Make your models more interpretable due to simplification (fewer variables in the outcome models)\n"
   ]
  },
  {
   "cell_type": "markdown",
   "id": "33b1b460-adf4-4988-9d87-46dc3531b45e",
   "metadata": {},
   "outputs": [],
   "source": [
    "Now, let's switch our regression engine to `glmnet`\n"
   ]
  },
  {
   "cell_type": "markdown",
   "id": "5a1652da-095f-429c-b731-72e5d37205a8",
   "metadata": {},
   "outputs": [],
   "source": [
    "_TODO:_ Define a linear regression model specification `glmnet_spec` using `glmnet` engine\n"
   ]
  },
  {
   "cell_type": "code",
   "id": "7fd4db42-003a-436e-9060-383b24fa7e58",
   "metadata": {},
   "outputs": [],
   "source": [
    "# HINT: Use linear_reg() function with two parameters: penalty and mixture\n# - penalty controls the intensity of model regularization\n# - mixture controls the tradeoff between L1 and L2 regularizations\n\n# You could manually try different parameter combinations or use grid search to find optimal combinations\n"
   ]
  },
  {
   "cell_type": "markdown",
   "id": "03efbb99-de5b-4695-b46f-c83ca842a9a8",
   "metadata": {},
   "outputs": [],
   "source": [
    "Fit a glmnet model called  `lm_glmnet` using the `fit()` function. For the formula part, keep the polynominal and interaction terms you used in the previous task.\n"
   ]
  },
  {
   "cell_type": "code",
   "id": "231dc326-ec99-4cb4-92f4-3f5a57f1be15",
   "metadata": {},
   "outputs": [],
   "source": [
    "install.packages('glmnet')\nlibrary('glmnet')"
   ]
  },
  {
   "cell_type": "code",
   "id": "dcd5a29e-b943-4e66-a2f5-cc98687ba945",
   "metadata": {},
   "outputs": [],
   "source": [
    "# Fit a glmnet model using the fit() function\n"
   ]
  },
  {
   "cell_type": "code",
   "id": "778f1c8c-00f9-4f15-91a0-b9ae14099558",
   "metadata": {},
   "outputs": [],
   "source": [
    "# Report rsq and rmse of the `lm_glmnet` model\n"
   ]
  },
  {
   "cell_type": "markdown",
   "id": "294dd5f5-ae0b-4318-9cd1-a0a095ecc30c",
   "metadata": {},
   "outputs": [],
   "source": [
    "# TASK: Experiment to search for improved models\n"
   ]
  },
  {
   "cell_type": "markdown",
   "id": "7ab717b8-4c29-4c09-a604-bd2db0a11d7c",
   "metadata": {},
   "outputs": [],
   "source": [
    "Now you understand some of the methods that you can use to try to improve your models.\n"
   ]
  },
  {
   "cell_type": "markdown",
   "id": "756882c9-f0cd-48bc-a9fe-6bb0fd689887",
   "metadata": {},
   "outputs": [],
   "source": [
    "_TODO:_ Experiment by building and testing at least five different models. For each of your experiments, include polynomial terms, interaction terms, and one of the three regularizations we introduced.\n"
   ]
  },
  {
   "cell_type": "code",
   "id": "29c2c599-25fd-4841-9276-ad451114180e",
   "metadata": {},
   "outputs": [],
   "source": [
    "# Build at least five different models using polynomial terms, interaction terms, and regularizations.\n\n# Save their rmse and rsq values"
   ]
  },
  {
   "cell_type": "code",
   "id": "09a468f7-41d8-4381-b78d-c5b207861dfb",
   "metadata": {},
   "outputs": [],
   "source": [
    "# Report the best performed model in terms of rmse and rsq\n"
   ]
  },
  {
   "cell_type": "markdown",
   "id": "4a11b52c-31a3-4a3b-9272-1d08b9585f18",
   "metadata": {},
   "outputs": [],
   "source": [
    "Here are the performance requirements for your best model:\n",
    "- The RMSE should be less than 330 (rougly 10% of the max value in test dataset)\n",
    "- R-squared should be greater than 0.72\n"
   ]
  },
  {
   "cell_type": "markdown",
   "id": "64a1901a-2cfa-4ef7-b3c5-10e2a4f381e6",
   "metadata": {},
   "outputs": [],
   "source": [
    "_TODO:_ Visualize the saved RMSE and R-squared values using a grouped barchart\n"
   ]
  },
  {
   "cell_type": "code",
   "id": "57531571-8968-4314-8695-12e6c788cf4e",
   "metadata": {},
   "outputs": [],
   "source": [
    "# HINT: Use ggplot() + geom_bar()\n"
   ]
  },
  {
   "cell_type": "markdown",
   "id": "471febdb-02d7-4687-b59f-070fa3ae856a",
   "metadata": {},
   "outputs": [],
   "source": [
    "_TODO:_ Create a Q-Q plot by plotting the distribution difference between the predictions generated by your best model and the true values on the test dataset.\n"
   ]
  },
  {
   "cell_type": "code",
   "id": "77ff9a37-5689-4e84-b203-5bdc76fa2e91",
   "metadata": {},
   "outputs": [],
   "source": [
    "# HINT: Use ggplot() +\n    # stat_qq(aes(sample=truth), color='green') +\n    # stat_qq(aes(sample=prediction), color='red')"
   ]
  },
  {
   "cell_type": "markdown",
   "id": "bf2c2273-d731-4b70-a6c9-08885fc08b53",
   "metadata": {},
   "outputs": [],
   "source": [
    "One example of such Q-Q plot may look like this:\n"
   ]
  },
  {
   "cell_type": "markdown",
   "id": "524724cb-f9bc-4805-a402-407e5a0e16c4",
   "metadata": {},
   "outputs": [],
   "source": [
    "<a href=\"https://cognitiveclass.ai/?utm_medium=Exinfluencer&utm_source=Exinfluencer&utm_content=000026UJ&utm_term=10006555&utm_id=NA-SkillsNetwork-Channel-SkillsNetworkCoursesIBMDeveloperSkillsNetworkRP0321ENSkillsNetwork878-2022-01-01\">\n",
    "    <img src=\"https://cf-courses-data.s3.us.cloud-object-storage.appdomain.cloud/IBMDeveloperSkillsNetwork-RP0321EN-SkillsNetwork/labs/module_4/images/example_qq_plot.png\" width=\"600\" align=\"center\">\n",
    "</a>\n"
   ]
  },
  {
   "cell_type": "markdown",
   "id": "ed2767a6-df53-40cf-b2c4-261f5dc2d54e",
   "metadata": {},
   "outputs": [],
   "source": [
    "# More model improvment methods beyond this course\n"
   ]
  },
  {
   "cell_type": "markdown",
   "id": "7a55dafc-3f17-423e-8a38-f89856104d87",
   "metadata": {},
   "outputs": [],
   "source": [
    "In addition to the methods mentioned in this lab and previous data analysis courses, you could also explore to try the following methods yourself to see if they could improve model performance:\n",
    " - Remove potential redundant variables. If two variables have extremly high correlated, it is possible that they are redundant and could be removed from the model to improve the performance.\n",
    " - Remove some outliers. Linear regression models are very sensitive to outliers, you could try to remove some outliers to see if it would improve performance\n",
    " - Apply logarithm transformation. In case variable distributions are not normal distribution such as log-normal distribution, you could apply logaritm transformation on the variable to make them more look like normal distribution. In addition, logarithm transformation helps capture the non-linear relationships.\n",
    " \n",
    "If you have time, you could research and try more methods by searching related research papers/articles, discussion forums, etc. If you know how to use other machine learning models with `Tidymodels` such as Neural Networks, Tree models, or Boosting models, you can also try and compare them with the linear regression models.\n"
   ]
  },
  {
   "cell_type": "markdown",
   "id": "c4d90af9-bdab-444e-8330-d99d9ebe3ae0",
   "metadata": {},
   "outputs": [],
   "source": [
    "# Next Steps:\n"
   ]
  },
  {
   "cell_type": "markdown",
   "id": "ca38cbe2-a480-4fe8-8916-0da799574dfe",
   "metadata": {},
   "outputs": [],
   "source": [
    "Great! You have improved your baseline model using polynomial terms, interaction terms, and regularizations, and have found your best model.\n",
    "\n",
    "Now it's time to build an interactive dashboard to provide more interactive user-interactions.\n"
   ]
  },
  {
   "cell_type": "markdown",
   "id": "2ea2bdae-57ed-41c6-ba4b-042b757330ef",
   "metadata": {},
   "outputs": [],
   "source": [
    "## Authors\n",
    "\n",
    "<a href=\"https://www.linkedin.com/in/yan-luo-96288783/?utm_medium=Exinfluencer&utm_source=Exinfluencer&utm_content=000026UJ&utm_term=10006555&utm_id=NA-SkillsNetwork-Channel-SkillsNetworkCoursesIBMDeveloperSkillsNetworkRP0321ENSkillsNetwork878-2022-01-01\" target=\"_blank\">Yan Luo</a>\n"
   ]
  },
  {
   "cell_type": "markdown",
   "id": "b96e72e9-13d7-42d5-b1f4-3da419e0c4cc",
   "metadata": {},
   "outputs": [],
   "source": [
    "### Other Contributors\n",
    "\n",
    "Jeff Grossman\n"
   ]
  },
  {
   "cell_type": "markdown",
   "id": "a3dcff59-f1df-42db-b6a8-6afc37d9b534",
   "metadata": {},
   "outputs": [],
   "source": [
    "## Change Log\n",
    "\n",
    "| Date (YYYY-MM-DD) | Version | Changed By | Change Description           |\n",
    "| ----------------- | ------- | ---------- | ---------------------------- |\n",
    "| 2021-04-08        | 1.0     | Yan        | Initial version created      |\n",
    "|                   |         |            |                              |\n",
    "|                   |         |            |                              |\n",
    "\n",
    "## <h3 align=\"center\"> © IBM Corporation 2021. All rights reserved. <h3/>\n"
   ]
  }
 ],
 "metadata": {
  "kernelspec": {
   "display_name": "Python",
   "language": "python",
   "name": "conda-env-python-py"
  },
  "language_info": {
   "name": ""
  }
 },
 "nbformat": 4,
 "nbformat_minor": 4
}
