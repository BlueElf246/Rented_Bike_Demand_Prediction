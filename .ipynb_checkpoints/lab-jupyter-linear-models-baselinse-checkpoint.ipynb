{
 "cells": [
  {
   "cell_type": "markdown",
   "id": "85929c65-8601-4936-ab49-ede434a2b0b2",
   "metadata": {},
   "outputs": [],
   "source": [
    "<center>\n",
    "<img src=\"https://cf-courses-data.s3.us.cloud-object-storage.appdomain.cloud/IBMDeveloperSkillsNetwork-RP0321EN-SkillsNetwork/labs/module_1/images/SN_web_lightmode.png\" width=\"300\"> \n",
    "</center>\n"
   ]
  },
  {
   "cell_type": "markdown",
   "id": "02a9608f-7909-47af-b0e7-34ca9bc6250f",
   "metadata": {},
   "outputs": [],
   "source": [
    "<h1>Predict Hourly Rented Bike Count using Basic Linear Regression Models</h1>\n",
    "\n",
    "Estimated time needed: **90** minutes\n"
   ]
  },
  {
   "cell_type": "markdown",
   "id": "24559d7a-4d4a-4d12-9927-d1dd0838a41d",
   "metadata": {},
   "outputs": [],
   "source": [
    "## Lab Overview:\n",
    "\n",
    "Now that you have performed exploratory analysis on the bike sharing demand dataset and obtained some insights on the attributes, it's time to build predictive models to predict the hourly rented bike count using related weather and date information.\n",
    "\n",
    "In this lab, you will be asked to use `tidymodels` to build some baseline linear regression models:\n",
    "- **TASK: Split data into training and testing datasets**\n",
    "- **TASK: Build a linear regression model using only the weather variables**\n",
    "- **TASK: Build a linear regression model using both weather and date variables**\n",
    "- **TASK: Evaluate the models and identify important variables**\n",
    "\n",
    "Let's start!\n"
   ]
  },
  {
   "cell_type": "markdown",
   "id": "849aacc7-b218-44a9-886a-bdf13cfe8627",
   "metadata": {},
   "outputs": [],
   "source": [
    "First install and import the necessary libraries\n"
   ]
  },
  {
   "cell_type": "code",
   "id": "e84ecb0d-7986-47bf-b626-fba59ead2c0b",
   "metadata": {},
   "outputs": [],
   "source": [
    "# It may take several minutes to install those libraries in Watson Studio\ninstall.packages(\"rlang\")\ninstall.packages(\"tidymodels\")"
   ]
  },
  {
   "cell_type": "code",
   "id": "ec21bc52-7c1d-459d-a245-7289d366e6eb",
   "metadata": {},
   "outputs": [],
   "source": [
    "library(\"tidymodels\")\nlibrary(\"tidyverse\")\nlibrary(\"stringr\")"
   ]
  },
  {
   "cell_type": "markdown",
   "id": "5dacc18d-0114-4db4-8eb5-60a279a42798",
   "metadata": {},
   "outputs": [],
   "source": [
    "The `seoul_bike_sharing_converted_normalized.csv` will be our main dataset which has following variables:\n",
    "\n",
    "The response variable:\n",
    "- `RENTED BIKE COUNT`- Count of bikes rented at each hour\n",
    "\n",
    "Weather predictor variables:\n",
    "- `TEMPERATURE` - Temperature in Celsius\n",
    "- `HUMIDITY` - Unit is `%`\n",
    "- `WIND_SPEED` - Unit is `m/s`\n",
    "- `VISIBILITY` - Multiplied by 10m\n",
    "- `DEW_POINT_TEMPERATURE` - The temperature to which the air would have to cool down in order to reach saturation, unit is Celsius\n",
    "- `SOLAR_RADIATION` - MJ/m2\n",
    "- `RAINFALL` - mm\n",
    "- `SNOWFALL` - cm\n",
    "\n",
    "Date/time predictor variables:\n",
    "- `DATE` - Year-month-day\n",
    "- `HOUR`- Hour of he day\n",
    "- `FUNCTIONAL DAY` - NoFunc(Non Functional Hours), Fun(Functional hours)\n",
    "- `HOLIDAY` - Holiday/No holiday\n",
    "- `SEASONS` - Winter, Spring, Summer, Autumn\n"
   ]
  },
  {
   "cell_type": "markdown",
   "id": "88dabd61-1781-43f3-9ffe-c2d15c0b1570",
   "metadata": {},
   "outputs": [],
   "source": [
    "Let's read the dataset as a dataframe first:\n"
   ]
  },
  {
   "cell_type": "code",
   "id": "91cb2fb0-9b73-4378-bf24-e9f9d9452a88",
   "metadata": {},
   "outputs": [],
   "source": [
    "# Dataset URL\ndataset_url <- \"https://cf-courses-data.s3.us.cloud-object-storage.appdomain.cloud/IBMDeveloperSkillsNetwork-RP0321EN-SkillsNetwork/labs/datasets/seoul_bike_sharing_converted_normalized.csv\"\nbike_sharing_df <- read_csv(dataset_url)\nspec(bike_sharing_df)"
   ]
  },
  {
   "cell_type": "markdown",
   "id": "531c5feb-8cd7-493a-9da3-f3d831fc19d4",
   "metadata": {},
   "outputs": [],
   "source": [
    "We won't be using the `DATE` column, because 'as is', it basically acts like an data entry index. (However, given more time, we could use the `DATE` colum to create a 'day of week' or 'isWeekend' column, which we might expect has an affect on preferred bike rental times.) We also do not need the `FUNCTIONAL DAY` column because it only has one distinct value remaining (`YES`) after missing value processing.\n"
   ]
  },
  {
   "cell_type": "code",
   "id": "56770629-c861-4b37-af1d-d2a451935f04",
   "metadata": {},
   "outputs": [],
   "source": [
    "bike_sharing_df <- bike_sharing_df %>% \n                   select(-DATE, -FUNCTIONING_DAY)"
   ]
  },
  {
   "cell_type": "markdown",
   "id": "90ed4af4-271f-43f1-be5c-f3187bf5e4c4",
   "metadata": {},
   "outputs": [],
   "source": [
    "# TASK: Split training and testing data\n"
   ]
  },
  {
   "cell_type": "markdown",
   "id": "781eb67a-c777-4dc7-a124-451294c8f407",
   "metadata": {},
   "outputs": [],
   "source": [
    "First, we need to split the full dataset into training and testing datasets.\n",
    "\n",
    "The training dataset will be used for fitting regression models, and the testing dataset will be used to evaluate the trained models.\n"
   ]
  },
  {
   "cell_type": "markdown",
   "id": "7d00b533-22c8-4c02-af53-838420554ba5",
   "metadata": {},
   "outputs": [],
   "source": [
    "_TODO:_ Use the `initial_split()`, `training()`, and `testing()` functions to generate a training dataset consisting of 75% of the original dataset, and a testing dataset using the remaining 25%. \n"
   ]
  },
  {
   "cell_type": "code",
   "id": "7afe26ba-9153-4148-a38f-6a34723f1ccb",
   "metadata": {},
   "outputs": [],
   "source": [
    "# Use the `initial_split()`, `training()`, and `testing()` functions to split the dataset\n# With seed 1234\nset.seed(1234)\n# prop = 3/4\n# train_data \n# test_data"
   ]
  },
  {
   "cell_type": "markdown",
   "id": "4551afa1-4f98-49f8-9889-2560ffd73aef",
   "metadata": {},
   "outputs": [],
   "source": [
    "# TASK: Build a linear regression model using weather variables only\n"
   ]
  },
  {
   "cell_type": "markdown",
   "id": "f6242df2-307b-4f4f-bb0c-59df08f03030",
   "metadata": {},
   "outputs": [],
   "source": [
    "As you could imagine, weather conditions may affect people's bike renting decisions. For example, on a cold and rainy day, you may choose alternate transportation such as a bus or taxi.  While on a nice sunny day, you may want to rent a bike for a short-distance travel.\n"
   ]
  },
  {
   "cell_type": "markdown",
   "id": "e62296c1-4579-451b-b102-ec7b89de5915",
   "metadata": {},
   "outputs": [],
   "source": [
    "Thus, can we predict a city's bike-sharing demand based on its local weather information? Let's try to build a regression model to do that.\n"
   ]
  },
  {
   "cell_type": "markdown",
   "id": "da36c42a-2a63-4cc7-bc78-3c47bbe6a6cb",
   "metadata": {},
   "outputs": [],
   "source": [
    "_TODO:_ Build a linear regression model called `lm_model_weather` using the following variables:\n",
    "\n",
    "- `TEMPERATURE` - Temperature in Celsius\n",
    "- `HUMIDITY` - Unit is `%`\n",
    "- `WIND_SPEED` - Unit is `m/s`\n",
    "- `VISIBILITY` - Multiplied by 10m\n",
    "- `DEW_POINT_TEMPERATURE` - The temperature to which the air would have to cool down in order to reach saturation, unit is Celsius\n",
    "- `SOLAR_RADIATION` - MJ/m2\n",
    "- `RAINFALL` - mm\n",
    "- `SNOWFALL` - cm\n"
   ]
  },
  {
   "cell_type": "markdown",
   "id": "99406be2-fea8-43e0-9fbe-1629b2caf6c6",
   "metadata": {},
   "outputs": [],
   "source": [
    "Define a linear regression model specification.\n"
   ]
  },
  {
   "cell_type": "code",
   "id": "6d98b3c8-bbcc-47c9-81fc-d3f7dffc9804",
   "metadata": {},
   "outputs": [],
   "source": [
    "# Use `linear_reg()` with engine `lm` and mode `regression`\n"
   ]
  },
  {
   "cell_type": "markdown",
   "id": "6c873b68-220b-4e89-b6d9-2ffd47d2d96b",
   "metadata": {},
   "outputs": [],
   "source": [
    "Fit a model with the response variable `RENTED_BIKE_COUNT` and predictor variables `TEMPERATURE + HUMIDITY + WIND_SPEED + VISIBILITY + DEW_POINT_TEMPERATURE + SOLAR_RADIATION + RAINFALL + SNOWFALL`\n"
   ]
  },
  {
   "cell_type": "code",
   "id": "eba6c820-5797-4b41-921c-d14df77e400d",
   "metadata": {},
   "outputs": [],
   "source": [
    "# Fit the model called `lm_model_weather`\n# RENTED_BIKE_COUNT ~ TEMPERATURE + HUMIDITY + WIND_SPEED + VISIBILITY + DEW_POINT_TEMPERATURE + SOLAR_RADIATION + RAINFALL + SNOWFALL,  with the training data\n"
   ]
  },
  {
   "cell_type": "markdown",
   "id": "4eb2dcdc-70e1-45f1-a300-8f74dd9f632b",
   "metadata": {},
   "outputs": [],
   "source": [
    "Print the fit summary for the `lm_model_weather` model.\n"
   ]
  },
  {
   "cell_type": "code",
   "id": "44dc8f38-2261-40cc-bcc8-1e0c331ba684",
   "metadata": {},
   "outputs": [],
   "source": [
    "# print(lm_model_weather$fit)"
   ]
  },
  {
   "cell_type": "markdown",
   "id": "c6e4f27d-aff8-4347-8d21-35e81d93273b",
   "metadata": {},
   "outputs": [],
   "source": [
    "You should see the model details such as formula, residuals, and coefficients.\n"
   ]
  },
  {
   "cell_type": "markdown",
   "id": "2282dfea-9d2f-42a5-946e-5069b6c355ba",
   "metadata": {},
   "outputs": [],
   "source": [
    "# TASK: Build a linear regression model using all variables\n"
   ]
  },
  {
   "cell_type": "markdown",
   "id": "e02202fa-8d37-4df0-809a-d20836578f2c",
   "metadata": {},
   "outputs": [],
   "source": [
    "In addition to weather, there could be other factors that may affect bike rental demand, such as the time of a day or if today is a holiday or not.\n"
   ]
  },
  {
   "cell_type": "markdown",
   "id": "aa3c9fa1-6d49-4046-9ceb-c04905093da4",
   "metadata": {},
   "outputs": [],
   "source": [
    "Next, let's build a linear regression model using all variables (weather + date/time) in this task.\n"
   ]
  },
  {
   "cell_type": "markdown",
   "id": "7e95788f-3f85-45b9-9ba2-990b8a416902",
   "metadata": {},
   "outputs": [],
   "source": [
    "_TODO:_ Build a linear regression model called `lm_model_all` using all variables `RENTED_BIKE_COUNT ~ .`\n"
   ]
  },
  {
   "cell_type": "code",
   "id": "0c5ca5ab-5de4-49fc-8404-45393521ece3",
   "metadata": {},
   "outputs": [],
   "source": [
    "# Fit the model called `lm_model_all`\n# `RENTED_BIKE_COUNT ~ .` means use all other variables except for the response variable\n"
   ]
  },
  {
   "cell_type": "markdown",
   "id": "e4f02811-3c2a-47b1-9373-94c9040835f6",
   "metadata": {},
   "outputs": [],
   "source": [
    "Print the fit summary for `lm_model_all`.\n"
   ]
  },
  {
   "cell_type": "code",
   "id": "1cbec832-4f67-4de5-ace2-f9bac55441ec",
   "metadata": {},
   "outputs": [],
   "source": [
    "# summary(lm_model_all$fit)"
   ]
  },
  {
   "cell_type": "markdown",
   "id": "04e9a0b5-9d74-4ebd-8eed-14355ab0cf48",
   "metadata": {},
   "outputs": [],
   "source": [
    "Now you have built two basic linear regression models with different predictor variables, let's evaluate which model has better performance,\n"
   ]
  },
  {
   "cell_type": "markdown",
   "id": "619f610e-c7b5-4fd5-bce6-ed81f12bddbf",
   "metadata": {},
   "outputs": [],
   "source": [
    "# TASK: Model evaluation and identification of important variables\n"
   ]
  },
  {
   "cell_type": "markdown",
   "id": "55a9a8f3-8bf9-49d6-98a9-96501b3a2a45",
   "metadata": {},
   "outputs": [],
   "source": [
    "Now that you have built two regression models, `lm_model_weather` and `lm_model_all`, with different predictor variables, you need to compare their performance to see which one is better.\n"
   ]
  },
  {
   "cell_type": "markdown",
   "id": "78fd4a09-30f2-499a-af77-b341f7d451a1",
   "metadata": {},
   "outputs": [],
   "source": [
    "In this project, you will be asked to use very important metrics that are often used in Statistics to determine the performance of a model:\n",
    "\n",
    "1.  R^2 / R-squared \n",
    "2.  Root Mean Squared Error (RMSE)\n",
    "\n",
    "**R-squared**\n",
    "\n",
    "<p>R squared, also known as the coefficient of determination, is a measure to indicate how close the data is to the fitted regression line. The value of R-squared is the percentage of variation of the response variable (y) that is explained by a linear model.</p>\n",
    "\n",
    "**Root Mean Squared Error (RMSE)**\n",
    "$$\n",
    "RMSE = \\sqrt{MSE}\n",
    "$$\n",
    "\n",
    "As you know, the Mean Squared Error measures the average of the squares of errors, where 'error' is the difference between the actual value ($y$) and the estimated value ($ŷ$). \n",
    "Another metric that is related to MSE is **Root Mean Squared Error (RMSE)** and is simply the square root of MSE.\n"
   ]
  },
  {
   "cell_type": "markdown",
   "id": "fc2ce83c-bd25-4050-92f2-e15336e05273",
   "metadata": {},
   "outputs": [],
   "source": [
    "We first need to test the `lm_model_weather` and `lm_model_all` models against the test dataset `test_data`, and generate `RENTED_BIKE_COUNT` prediction results.\n"
   ]
  },
  {
   "cell_type": "markdown",
   "id": "9c82e16e-3d5f-43df-be97-843b6027a813",
   "metadata": {},
   "outputs": [],
   "source": [
    "_TODO:_ Make predictions on the testing dataset using both `lm_model_weather` and `lm_model_all` models\n"
   ]
  },
  {
   "cell_type": "code",
   "id": "cc7a5e57-e809-41bc-a8c9-714a4ce35343",
   "metadata": {},
   "outputs": [],
   "source": [
    "# Use predict() function to generate test results for `lm_model_weather` and `lm_model_all`\n# and generate two test results dataframe with a truth column:\n\n# test_results_weather for lm_model_weather model\n\n# test_results_all for lm_model_all\n"
   ]
  },
  {
   "cell_type": "markdown",
   "id": "818fabda-96db-470a-8090-97ec4e73ebdf",
   "metadata": {},
   "outputs": [],
   "source": [
    "NOTE: if you happen to see a warning like : `prediction from a rank-deficient fit may be misleading`, it may be casued by collinearity in the predictor variables. Collinearity means that one predictor variable can be predicted from other predictor variables to some degree. For example, `RAINFALL` could be predicted by `HUMIDITY`.\n",
    "\n",
    "But dont worry, you will address `glmnet` models (Lasso and Elastic-Net Regularized Generalized Linear Models) instead of regular `regression` models to solve this issue and futher improve the model performance.\n"
   ]
  },
  {
   "cell_type": "markdown",
   "id": "f91115aa-fa9e-458b-b8fc-7df86eb5f398",
   "metadata": {},
   "outputs": [],
   "source": [
    "Next, let's calculate and print the R-squared and RMSE for the two test results\n"
   ]
  },
  {
   "cell_type": "markdown",
   "id": "2942bb7d-6d38-41e7-b32f-161b842de225",
   "metadata": {},
   "outputs": [],
   "source": [
    "_TODO:_ Use `rsq()` and `rmse()` functions to calculate R-squared and RMSE metrics for the two test results\n"
   ]
  },
  {
   "cell_type": "code",
   "id": "b2d509b3-8e44-4d35-9eee-5e72bf706a27",
   "metadata": {},
   "outputs": [],
   "source": [
    "# rsq_weather <- rsq(...)\n# rsq_all <- rsq(...)\n\n# rmse_weather <- rmse(...)\n# rmse_all <- rmse(...)"
   ]
  },
  {
   "cell_type": "markdown",
   "id": "ca1329df-07db-4cca-bcea-e4893f487e73",
   "metadata": {},
   "outputs": [],
   "source": [
    "From these tables, you should find that the test results from `lm_model_all` are much better. It means that using both weather and datetime variables in the model generates better prediction results.\n"
   ]
  },
  {
   "cell_type": "markdown",
   "id": "95adb4f6-1b43-4e62-b45e-1b97c9f884be",
   "metadata": {},
   "outputs": [],
   "source": [
    "Since `lm_model_all` has many predictor variables, let's check which predictor variables have larger coefficients. Variables with larger coefficients in the model means they attribute more in the prediction of `RENTED_BIKE_COUNT`. In addition, since all predictor variables are normalized to the same scale, 0 to 1, we thus can compare their coefficients directly.\n"
   ]
  },
  {
   "cell_type": "markdown",
   "id": "03a0fb46-01cc-4db0-bf47-128a759c5279",
   "metadata": {},
   "outputs": [],
   "source": [
    "You could try building another regression model using the non-normalized `seoul_bike_sharing_converted.csv` dataset, and you would find that the coefficients are much different.\n"
   ]
  },
  {
   "cell_type": "markdown",
   "id": "a1f5214e-59d2-4cd7-9327-9f92b0ae4e05",
   "metadata": {},
   "outputs": [],
   "source": [
    "First let's print all coefficients:\n"
   ]
  },
  {
   "cell_type": "code",
   "id": "80fabbee-9d94-4fd5-bcdd-543341b3c695",
   "metadata": {},
   "outputs": [],
   "source": [
    "lm_model_all$fit$coefficients"
   ]
  },
  {
   "cell_type": "markdown",
   "id": "60b4ccf1-87c6-4b85-a9ec-b4332598718a",
   "metadata": {},
   "outputs": [],
   "source": [
    "hmm, it's not very clear to compare the coefficients from a long and unsorted list. Next, you need to sort and visualize them using a bar chart\n"
   ]
  },
  {
   "cell_type": "markdown",
   "id": "83def8e0-8b59-4721-a185-b489494f473b",
   "metadata": {},
   "outputs": [],
   "source": [
    "_TODO:_ Sort the coefficient list in descending order and visualize the result using `ggplot` and `geom_bar` \n"
   ]
  },
  {
   "cell_type": "code",
   "id": "dc238cc9-6c3f-425f-a8ea-be6855600756",
   "metadata": {},
   "outputs": [],
   "source": [
    "# Sort coefficient list"
   ]
  },
  {
   "cell_type": "code",
   "id": "0bc80b8e-e8c9-4df6-87f7-3e29c04145fc",
   "metadata": {},
   "outputs": [],
   "source": [
    "# Visualize the list using ggplot and geom_bar"
   ]
  },
  {
   "cell_type": "markdown",
   "id": "51d6eb4a-06ae-4fd9-8165-dbab040571d6",
   "metadata": {},
   "outputs": [],
   "source": [
    "You should see a sorted coefficient bar chart like the following example: \n"
   ]
  },
  {
   "cell_type": "markdown",
   "id": "85a9cf96-9b2b-4eff-a894-0270da75dd70",
   "metadata": {},
   "outputs": [],
   "source": [
    "<a href=\"https://cognitiveclass.ai/?utm_medium=Exinfluencer&utm_source=Exinfluencer&utm_content=000026UJ&utm_term=10006555&utm_id=NA-SkillsNetwork-Channel-SkillsNetworkCoursesIBMDeveloperSkillsNetworkRP0321ENSkillsNetwork878-2022-01-01\">\n",
    "    <img src=\"https://cf-courses-data.s3.us.cloud-object-storage.appdomain.cloud/IBMDeveloperSkillsNetwork-RP0321EN-SkillsNetwork/labs/module_4/images/coefficient_chart.png\" width=\"600\" align=\"center\">\n",
    "</a>\n"
   ]
  },
  {
   "cell_type": "markdown",
   "id": "de600de7-3f8c-4271-b9a2-62b84dda994f",
   "metadata": {},
   "outputs": [],
   "source": [
    "Mark down these 'top-ranked variables by coefficient', which will be used for model refinments in the next labs.\n"
   ]
  },
  {
   "cell_type": "markdown",
   "id": "3a26da70-3ccc-412c-9374-22e75f80d238",
   "metadata": {},
   "outputs": [],
   "source": [
    "Note that here the main reason we use absolute value is to easily identify important variables, i.e. variables with large magnitudes, no matter it's negative or positive. If we want to interprete the model then it's better to seperate the positive and negative coefficients.\n"
   ]
  },
  {
   "cell_type": "markdown",
   "id": "6fb37bc6-73f1-4b8e-a407-3ac02005d0cc",
   "metadata": {},
   "outputs": [],
   "source": [
    "# Next Steps\n"
   ]
  },
  {
   "cell_type": "markdown",
   "id": "ad5686c8-7c51-4e4d-bdbf-9422ffca668e",
   "metadata": {},
   "outputs": [],
   "source": [
    "Great! Now you have built a baseline linear regression model to predict hourly bike rent count, with reasonably good performance. In the next lab, you will be refining the baseline model to improve its performance.\n"
   ]
  },
  {
   "cell_type": "markdown",
   "id": "f427e7ae-0c62-48e9-b74b-24eda0f9c773",
   "metadata": {},
   "outputs": [],
   "source": [
    "## Authors\n",
    "\n",
    "<a href=\"https://www.linkedin.com/in/yan-luo-96288783/?utm_medium=Exinfluencer&utm_source=Exinfluencer&utm_content=000026UJ&utm_term=10006555&utm_id=NA-SkillsNetwork-Channel-SkillsNetworkCoursesIBMDeveloperSkillsNetworkRP0321ENSkillsNetwork878-2022-01-01\" target=\"_blank\">Yan Luo</a>\n"
   ]
  },
  {
   "cell_type": "markdown",
   "id": "0377e7ab-4a66-4173-9644-f0ea1379e2b3",
   "metadata": {},
   "outputs": [],
   "source": [
    "### Other Contributors\n",
    "\n",
    "Jeff Grossman\n"
   ]
  },
  {
   "cell_type": "markdown",
   "id": "04eed89b-87e9-4193-9b06-9ee869d1ac29",
   "metadata": {},
   "outputs": [],
   "source": [
    "## Change Log\n",
    "\n",
    "| Date (YYYY-MM-DD) | Version | Changed By | Change Description           |\n",
    "| ----------------- | ------- | ---------- | ---------------------------- |\n",
    "| 2021-04-08        | 1.0     | Yan        | Initial version created      |\n",
    "|                   |         |            |                              |\n",
    "|                   |         |            |                              |\n",
    "\n",
    "## <h3 align=\"center\"> © IBM Corporation 2021. All rights reserved. <h3/>\n"
   ]
  }
 ],
 "metadata": {
  "kernelspec": {
   "display_name": "Python",
   "language": "python",
   "name": "conda-env-python-py"
  },
  "language_info": {
   "name": ""
  }
 },
 "nbformat": 4,
 "nbformat_minor": 4
}
