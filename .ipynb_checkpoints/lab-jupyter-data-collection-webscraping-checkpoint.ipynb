{
 "cells": [
  {
   "cell_type": "markdown",
   "id": "d4cec967-c63a-486a-8020-49b8dda55d8f",
   "metadata": {},
   "outputs": [],
   "source": [
    "<center>\n",
    "<img src=\"https://cf-courses-data.s3.us.cloud-object-storage.appdomain.cloud/IBMDeveloperSkillsNetwork-RP0321EN-SkillsNetwork/labs/module_1/images/SN_web_lightmode.png\" width=\"300\"> \n",
    "</center>\n"
   ]
  },
  {
   "cell_type": "markdown",
   "id": "e3ac61cc-6e8b-43aa-99ea-1c528a905de0",
   "metadata": {},
   "outputs": [],
   "source": [
    "<h1>Web scrape a Global Bike-Sharing Systems Wiki Page</h1>\n",
    "\n",
    "Estimated time needed: **20** minutes\n"
   ]
  },
  {
   "cell_type": "markdown",
   "id": "c720b6bc-78f8-4f55-9208-ccc8404dad20",
   "metadata": {},
   "outputs": [],
   "source": [
    "## Lab Overview:\n",
    "\n",
    "Before getting your hands dirty on the actual data analysis tasks, you first need to obtain some background and context information about well-known bike sharing systems worldwide, such as their location, launch date, rental bike size, and so on.\n",
    "\n",
    "You can get such information from this Wiki page: \n",
    "\n",
    "https://en.wikipedia.org/wiki/List_of_bicycle-sharing_systems\n",
    "\n",
    "<a href=\"https://cognitiveclass.ai/?utm_medium=Exinfluencer&utm_source=Exinfluencer&utm_content=000026UJ&utm_term=10006555&utm_id=NA-SkillsNetwork-Channel-SkillsNetworkCoursesIBMDeveloperSkillsNetworkRP0321ENSkillsNetwork878-2022-01-01\">\n",
    "    <img src=\"https://cf-courses-data.s3.us.cloud-object-storage.appdomain.cloud/IBMDeveloperSkillsNetwork-RP0321EN-SkillsNetwork/labs/module_1/images/l2-list-bike-sharing-systems.png\" width=\"600\" align=\"center\">\n",
    "</a>\n"
   ]
  },
  {
   "cell_type": "markdown",
   "id": "28e3c0d9-d2cc-4b98-b23d-34f9d398cdd2",
   "metadata": {},
   "outputs": [],
   "source": [
    "First import necessary libraries for the webscraping task.\n"
   ]
  },
  {
   "cell_type": "markdown",
   "id": "31226bdb-cb23-4494-a376-a11bceeed16a",
   "metadata": {},
   "outputs": [],
   "source": [
    "\n",
    "In this lab, you need to use the `rvest` library to obtain the bike sharing systems table from the above web page, convert the table into a data frame, and write the data frame to a csv file for future data wrangling and analysis tasks.\n"
   ]
  },
  {
   "cell_type": "code",
   "id": "c56973d5-5b95-4abb-80f7-3488054538d0",
   "metadata": {},
   "outputs": [],
   "source": [
    "# Check if need to install rvest` library\nrequire(\"rvest\")\n\nlibrary(rvest)"
   ]
  },
  {
   "cell_type": "markdown",
   "id": "e39d7828-5e0a-419e-9586-163a5459918f",
   "metadata": {},
   "outputs": [],
   "source": [
    "# TASK: Extract bike sharing systems HTML table from a Wiki page and convert it into a data frame\n"
   ]
  },
  {
   "cell_type": "markdown",
   "id": "7db6fcd6-8271-4b50-b40c-472ed7e9064a",
   "metadata": {},
   "outputs": [],
   "source": [
    "_TODO:_ Get the root HTML node\n"
   ]
  },
  {
   "cell_type": "code",
   "id": "d75408d3-dad5-4cd9-a5c3-364516499390",
   "metadata": {},
   "outputs": [],
   "source": [
    "url <- \"https://en.wikipedia.org/wiki/List_of_bicycle-sharing_systems\"\n# Get the root HTML node by calling the `read_html()` method with URL\n"
   ]
  },
  {
   "cell_type": "markdown",
   "id": "5fda4632-e320-4e12-b7cc-1115c9fc6495",
   "metadata": {},
   "outputs": [],
   "source": [
    "Note that this HTML page at least contains three child `<table>` nodes under the root HTML node. So, you will need to use `html_nodes(root_node, \"table\")` function to get all its child `<table>` nodes:\n",
    "\n",
    "```\n",
    "<html>\n",
    "  <table>(table1)</table>\n",
    "  <table>(table2)</table>\n",
    "  <table>(table3)</table>\n",
    "  ...\n",
    "</html>\n",
    "```\n"
   ]
  },
  {
   "cell_type": "markdown",
   "id": "85a60b75-8164-401c-8668-e9c3bdc8a192",
   "metadata": {},
   "outputs": [],
   "source": [
    "table_nodes <- html_nodes(root_node, \"table\")\n"
   ]
  },
  {
   "cell_type": "markdown",
   "id": "35ef394e-2ea7-46d4-bcfe-83027262623f",
   "metadata": {},
   "outputs": [],
   "source": [
    "You can use a `for` loop to print each table, and then you will see that the actual the bike sharing table is the first element `table_nodes[[1]]`.\n"
   ]
  },
  {
   "cell_type": "markdown",
   "id": "2e37b1da-fc5a-4c05-a0b1-f335f55eeb56",
   "metadata": {},
   "outputs": [],
   "source": [
    "Next, you need to convert this HTML table into a data frame using the `html_table()` function. You may choose to include `fill = TRUE` argument to fill any empty table rows/columns.\n"
   ]
  },
  {
   "cell_type": "code",
   "id": "4483850c-85b7-4765-a9ce-d15ec1b51433",
   "metadata": {},
   "outputs": [],
   "source": [
    "# Convert the bike-sharing system table into a dataframe\n"
   ]
  },
  {
   "cell_type": "markdown",
   "id": "ecfd6a0a-a0ba-4f64-9476-3a194a4804f3",
   "metadata": {},
   "outputs": [],
   "source": [
    "Summarize the bike sharing system data frame\n"
   ]
  },
  {
   "cell_type": "code",
   "id": "85ca8dfb-85d3-4749-91f5-82c9e9ccc5d8",
   "metadata": {},
   "outputs": [],
   "source": [
    "# Summarize the dataframe\n"
   ]
  },
  {
   "cell_type": "markdown",
   "id": "d3dc08f9-1788-4ad0-93d9-444f73daed79",
   "metadata": {},
   "outputs": [],
   "source": [
    "Export the data frame as a csv file called `raw_bike_sharing_systems.csv`\n"
   ]
  },
  {
   "cell_type": "code",
   "id": "801ea720-0ceb-494a-8fcc-6e95b3c2d7e7",
   "metadata": {},
   "outputs": [],
   "source": [
    "# Export the dataframe into a csv file\n"
   ]
  },
  {
   "cell_type": "markdown",
   "id": "d9e075d6-d0dc-47b6-8549-08971bc0b720",
   "metadata": {},
   "outputs": [],
   "source": [
    "For more details about webscraping with `rvest`, please refer to the previous webscraping notebook here:\n",
    "\n",
    "[Webscraping in R](https://cf-courses-data.s3.us.cloud-object-storage.appdomain.cloud/IBMDeveloperSkillsNetwork-RP0101EN-Coursera/v2/M4_Working_With_Data/lab3_jupyter_webscraping.ipynb)\n"
   ]
  },
  {
   "cell_type": "markdown",
   "id": "c65062e3-63a4-4771-be62-7f0564fb53c5",
   "metadata": {},
   "outputs": [],
   "source": [
    "## Authors\n",
    "\n",
    "<a href=\"https://www.linkedin.com/in/yan-luo-96288783/?utm_medium=Exinfluencer&utm_source=Exinfluencer&utm_content=000026UJ&utm_term=10006555&utm_id=NA-SkillsNetwork-Channel-SkillsNetworkCoursesIBMDeveloperSkillsNetworkRP0321ENSkillsNetwork878-2022-01-01\" target=\"_blank\">Yan Luo</a>\n"
   ]
  },
  {
   "cell_type": "markdown",
   "id": "0e196379-bf85-459b-9939-d6c272c08cb0",
   "metadata": {},
   "outputs": [],
   "source": [
    "### Other Contributors\n"
   ]
  },
  {
   "cell_type": "markdown",
   "id": "ce5d5904-452f-42d5-b3f3-ea8582590fd4",
   "metadata": {},
   "outputs": [],
   "source": [
    "## Change Log\n",
    "\n",
    "| Date (YYYY-MM-DD) | Version | Changed By | Change Description           |\n",
    "| ----------------- | ------- | ---------- | ---------------------------- |\n",
    "| 2021-04-05        | 0.1     | Yan        | Initial version created      |\n",
    "|                   |         |            |                              |\n",
    "|                   |         |            |                              |\n",
    "\n",
    "## <h3 align=\"center\"> © IBM Corporation 2021. All rights reserved. <h3/>\n"
   ]
  }
 ],
 "metadata": {
  "kernelspec": {
   "display_name": "Python",
   "language": "python",
   "name": "conda-env-python-py"
  },
  "language_info": {
   "name": ""
  }
 },
 "nbformat": 4,
 "nbformat_minor": 4
}
