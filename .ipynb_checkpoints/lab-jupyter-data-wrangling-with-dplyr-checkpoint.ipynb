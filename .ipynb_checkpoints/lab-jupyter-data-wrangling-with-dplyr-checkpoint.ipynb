{
 "cells": [
  {
   "cell_type": "markdown",
   "id": "a84a382e-1e60-4f9e-b302-f9ac8e1a6d65",
   "metadata": {},
   "source": [
    "<center>\n",
    "<img src=\"https://cf-courses-data.s3.us.cloud-object-storage.appdomain.cloud/IBMDeveloperSkillsNetwork-RP0321EN-SkillsNetwork/labs/module_1/images/SN_web_lightmode.png\" width=\"300\"> \n",
    "</center>\n"
   ]
  },
  {
   "cell_type": "markdown",
   "id": "72ab3754-e441-4632-a6b4-fe5c59c06680",
   "metadata": {},
   "source": [
    "<h1>Data Wrangling with dplyr</h1>\n",
    "\n",
    "Estimated time needed: **60** minutes\n"
   ]
  },
  {
   "cell_type": "markdown",
   "id": "5467cdd4-9d53-4bf9-89a4-886713d7eca8",
   "metadata": {},
   "source": [
    "## Lab Overview:\n",
    "\n",
    "In this lab, you will focus on wrangling the Seoul bike-sharing demand historical dataset. This is the core dataset to build a predictive model later.\n",
    "\n",
    "It contains the following columns:\n",
    "\n",
    "- `DATE` : Year-month-day\n",
    "- `RENTED BIKE COUNT`- Count of bikes rented at each hour\n",
    "- `HOUR`- Hour of he day\n",
    "- `TEMPERATURE` - Temperature in Celsius\n",
    "- `HUMIDITY` - Unit is `%`\n",
    "- `WINDSPEED` - Unit is `m/s`\n",
    "- `VISIBILITY` - Multiplied by 10m\n",
    "- `DEW POINT TEMERATURE` - The temperature to which the air would have to cool down in order to reach saturation, unit is Celsius\n",
    "- `SOLAR RADIATION` - MJ/m2\n",
    "- `RAINFALL` - mm\n",
    "- `SNOWFALL` - cm\n",
    "- `SEASONS` - Winter, Spring, Summer, Autumn\n",
    "- `HOLIDAY` - Holiday/No holiday\n",
    "- `FUNCTIONAL DAY` - NoFunc(Non Functional Hours), Fun(Functional hours)\n",
    "\n",
    "\n",
    "For this dataset, you will be asked to use `tidyverse` to perform the following data wrangling tasks:\n",
    "\n",
    "- **TASK: Detect and handle missing values**\n",
    "- **TASK: Create indicator (dummy) variables for categorical variables**\n",
    "- **TASK: Normalize data**\n",
    "\n",
    "Let's start!\n"
   ]
  },
  {
   "cell_type": "markdown",
   "id": "aa62f2a1-9215-4af8-b6c8-7ea98e5dd3ff",
   "metadata": {},
   "source": [
    "First import the necessary library for this data wrangling task:\n"
   ]
  },
  {
   "cell_type": "code",
   "execution_count": 1,
   "id": "52f75dd7-1c1b-4598-84e3-daaabe7c2965",
   "metadata": {},
   "outputs": [
    {
     "name": "stderr",
     "output_type": "stream",
     "text": [
      "Loading required package: tidyverse\n",
      "\n",
      "── \u001b[1mAttaching core tidyverse packages\u001b[22m ──────────────────────── tidyverse 2.0.0 ──\n",
      "\u001b[32m✔\u001b[39m \u001b[34mdplyr    \u001b[39m 1.1.2     \u001b[32m✔\u001b[39m \u001b[34mreadr    \u001b[39m 2.1.4\n",
      "\u001b[32m✔\u001b[39m \u001b[34mforcats  \u001b[39m 1.0.0     \u001b[32m✔\u001b[39m \u001b[34mstringr  \u001b[39m 1.5.0\n",
      "\u001b[32m✔\u001b[39m \u001b[34mggplot2  \u001b[39m 3.4.2     \u001b[32m✔\u001b[39m \u001b[34mtibble   \u001b[39m 3.2.1\n",
      "\u001b[32m✔\u001b[39m \u001b[34mlubridate\u001b[39m 1.9.2     \u001b[32m✔\u001b[39m \u001b[34mtidyr    \u001b[39m 1.3.0\n",
      "\u001b[32m✔\u001b[39m \u001b[34mpurrr    \u001b[39m 1.0.1     \n",
      "── \u001b[1mConflicts\u001b[22m ────────────────────────────────────────── tidyverse_conflicts() ──\n",
      "\u001b[31m✖\u001b[39m \u001b[34mdplyr\u001b[39m::\u001b[32mfilter()\u001b[39m masks \u001b[34mstats\u001b[39m::filter()\n",
      "\u001b[31m✖\u001b[39m \u001b[34mdplyr\u001b[39m::\u001b[32mlag()\u001b[39m    masks \u001b[34mstats\u001b[39m::lag()\n",
      "\u001b[36mℹ\u001b[39m Use the conflicted package (\u001b[3m\u001b[34m<http://conflicted.r-lib.org/>\u001b[39m\u001b[23m) to force all conflicts to become errors\n"
     ]
    }
   ],
   "source": [
    "# Check if you need to install the `tidyverse` library\n",
    "require(\"tidyverse\")\n",
    "library(tidyverse)"
   ]
  },
  {
   "cell_type": "markdown",
   "id": "60dc2789-8e8c-42b0-8433-03157410a3b1",
   "metadata": {},
   "source": [
    "Then load the bike-sharing system data from the csv processed in the previous lab:\n"
   ]
  },
  {
   "cell_type": "code",
   "execution_count": 2,
   "id": "42893122-c26b-4152-930d-31d37b7ee8d4",
   "metadata": {},
   "outputs": [
    {
     "name": "stderr",
     "output_type": "stream",
     "text": [
      "\u001b[1mRows: \u001b[22m\u001b[34m8760\u001b[39m \u001b[1mColumns: \u001b[22m\u001b[34m14\u001b[39m\n",
      "\u001b[36m──\u001b[39m \u001b[1mColumn specification\u001b[22m \u001b[36m────────────────────────────────────────────────────────\u001b[39m\n",
      "\u001b[1mDelimiter:\u001b[22m \",\"\n",
      "\u001b[31mchr\u001b[39m  (4): DATE, SEASONS, HOLIDAY, FUNCTIONING_DAY\n",
      "\u001b[32mdbl\u001b[39m (10): RENTED_BIKE_COUNT, HOUR, TEMPERATURE, HUMIDITY, WIND_SPEED, VISIBI...\n",
      "\n",
      "\u001b[36mℹ\u001b[39m Use `spec()` to retrieve the full column specification for this data.\n",
      "\u001b[36mℹ\u001b[39m Specify the column types or set `show_col_types = FALSE` to quiet this message.\n"
     ]
    }
   ],
   "source": [
    "bike_sharing_df <- read_csv(\"raw_seoul_bike_sharing.csv\")"
   ]
  },
  {
   "cell_type": "code",
   "execution_count": 3,
   "id": "3d38bd22-8e7b-48d7-81e0-6cfec2fc794f",
   "metadata": {},
   "outputs": [],
   "source": [
    "# Or you may read it from here again\n",
    "# url <- \"https://cf-courses-data.s3.us.cloud-object-storage.appdomain.cloud/IBMDeveloperSkillsNetwork-RP0321EN-SkillsNetwork/labs/datasets/raw_seoul_bike_sharing.csv\"\n",
    "# Notice some column names in the raw datasets are not standalized if you haven't done them properly in the previous lab"
   ]
  },
  {
   "cell_type": "markdown",
   "id": "b70c41e8-1eef-46d8-8434-f8d3742754bd",
   "metadata": {},
   "source": [
    "First take a quick look at the dataset:\n"
   ]
  },
  {
   "cell_type": "code",
   "execution_count": 4,
   "id": "88979dc6-cb7e-43e5-9958-2bef0ba582b8",
   "metadata": {},
   "outputs": [
    {
     "data": {
      "text/plain": [
       "     DATE           RENTED_BIKE_COUNT      HOUR          TEMPERATURE      \n",
       " Length:8760        Min.   :-1.1320   Min.   :-1.6612   Min.   :-2.56760  \n",
       " Class :character   1st Qu.:-0.8020   1st Qu.:-0.8306   1st Qu.:-0.79262  \n",
       " Mode  :character   Median :-0.2914   Median : 0.0000   Median : 0.06975  \n",
       "                    Mean   : 0.0000   Mean   : 0.0000   Mean   : 0.00000  \n",
       "                    3rd Qu.: 0.5524   3rd Qu.: 0.8306   3rd Qu.: 0.80654  \n",
       "                    Max.   : 4.4008   Max.   : 1.6612   Max.   : 2.22149  \n",
       "                    NA's   :295                         NA's   :11        \n",
       "    HUMIDITY          WIND_SPEED        VISIBILITY      DEW_POINT_TEMPERATURE\n",
       " Min.   :-2.85950   Min.   :-1.6645   Min.   :-2.3177   Min.   :-2.65489     \n",
       " 1st Qu.:-0.79687   1st Qu.:-0.7960   1st Qu.:-0.8167   1st Qu.:-0.67179     \n",
       " Median :-0.06022   Median :-0.2170   Median : 0.4294   Median : 0.07857     \n",
       " Mean   : 0.00000   Mean   : 0.0000   Mean   : 0.0000   Mean   : 0.00000     \n",
       " 3rd Qu.: 0.77465   3rd Qu.: 0.5549   3rd Qu.: 0.9258   3rd Qu.: 0.82128     \n",
       " Max.   : 1.95329   Max.   : 5.4763   Max.   : 0.9258   Max.   : 1.77071     \n",
       "                                                                             \n",
       " SOLAR_RADIATION      RAINFALL          SNOWFALL         SEASONS         \n",
       " Min.   :-0.6551   Min.   :-0.1318   Min.   :-0.1719   Length:8760       \n",
       " 1st Qu.:-0.6551   1st Qu.:-0.1318   1st Qu.:-0.1719   Class :character  \n",
       " Median :-0.6436   Median :-0.1318   Median :-0.1719   Mode  :character  \n",
       " Mean   : 0.0000   Mean   : 0.0000   Mean   : 0.0000                     \n",
       " 3rd Qu.: 0.4154   3rd Qu.:-0.1318   3rd Qu.:-0.1719                     \n",
       " Max.   : 3.3967   Max.   :30.8913   Max.   :19.9771                     \n",
       "                                                                         \n",
       "   HOLIDAY          FUNCTIONING_DAY   \n",
       " Length:8760        Length:8760       \n",
       " Class :character   Class :character  \n",
       " Mode  :character   Mode  :character  \n",
       "                                      \n",
       "                                      \n",
       "                                      \n",
       "                                      "
      ]
     },
     "metadata": {},
     "output_type": "display_data"
    },
    {
     "data": {
      "text/html": [
       "<style>\n",
       ".list-inline {list-style: none; margin:0; padding: 0}\n",
       ".list-inline>li {display: inline-block}\n",
       ".list-inline>li:not(:last-child)::after {content: \"\\00b7\"; padding: 0 .5ex}\n",
       "</style>\n",
       "<ol class=list-inline><li>8760</li><li>14</li></ol>\n"
      ],
      "text/latex": [
       "\\begin{enumerate*}\n",
       "\\item 8760\n",
       "\\item 14\n",
       "\\end{enumerate*}\n"
      ],
      "text/markdown": [
       "1. 8760\n",
       "2. 14\n",
       "\n",
       "\n"
      ],
      "text/plain": [
       "[1] 8760   14"
      ]
     },
     "metadata": {},
     "output_type": "display_data"
    }
   ],
   "source": [
    "summary(bike_sharing_df)\n",
    "dim(bike_sharing_df)"
   ]
  },
  {
   "cell_type": "markdown",
   "id": "d0446933-5649-474f-9343-c98e09d865d5",
   "metadata": {},
   "source": [
    "From the summary, we can observe that:\n",
    "\n",
    "Columns `RENTED_BIKE_COUNT`, `TEMPERATURE`, `HUMIDITY`, `WIND_SPEED`, `VISIBILITY`, `DEW_POINT_TEMPERATURE`, `SOLAR_RADIATION`, `RAINFALL`, `SNOWFALL` are numerical variables/columns and require normalization. Moreover, `RENTED_BIKE_COUNT` and `TEMPERATURE` have some missing values (NA's) that need to be handled properly.\n",
    "\n",
    "`SEASONS`, `HOLIDAY`, `FUNCTIONING_DAY` are categorical variables which need to be converted into indicator columns or dummy variables.\n",
    "Also, `HOUR` is read as a numerical variable but it is in fact a categorical variable with levels ranging from 0 to 23.\n",
    "\n",
    "Now that you have some basic ideas about how to process this bike-sharing demand dataset, let's start working on it!\n"
   ]
  },
  {
   "cell_type": "markdown",
   "id": "4c05a2f1-b2f9-4d05-9f05-29b547cc00ae",
   "metadata": {},
   "source": [
    "# TASK: Detect and handle missing values\n"
   ]
  },
  {
   "cell_type": "markdown",
   "id": "1d4e5187-973d-41e0-bfb7-7262f3e73585",
   "metadata": {},
   "source": [
    " The `RENTED_BIKE_COUNT` column has about 295 missing values, and `TEMPERATURE` has about 11 missing values. Those missing values could be caused by not being recorded, or from malfunctioning bike-sharing systems or weather sensor networks. In any cases, the identified missing values have to be properly handled.\n"
   ]
  },
  {
   "cell_type": "markdown",
   "id": "73593df3-ffee-47cb-9750-8a275761806f",
   "metadata": {},
   "source": [
    "Let's first handle missing values in `RENTED_BIKE_COUNT` column:\n"
   ]
  },
  {
   "cell_type": "markdown",
   "id": "6cfd0d83-8f2b-4e90-9e01-838920568915",
   "metadata": {},
   "source": [
    "Considering `RENTED_BIKE_COUNT` is the response variable/dependent variable, i.e., we want to predict the `RENTED_BIKE_COUNT` using other predictor/independent variables later, and we normally can not allow missing values for the response variable, so missing values for response variable must be either dropped or imputed properly. \n",
    "\n",
    "We can see that `RENTED_BIKE_COUNT` only has about 3% missing values (295 / 8760). As such, you can safely drop any rows whose `RENTED_BIKE_COUNT` has missing values.\n"
   ]
  },
  {
   "cell_type": "markdown",
   "id": "911f3998-4e41-4b41-901e-1d7421fe5a07",
   "metadata": {},
   "source": [
    "_TODO:_ Drop rows with missing values in the `RENTED_BIKE_COUNT` column\n"
   ]
  },
  {
   "cell_type": "code",
   "execution_count": 11,
   "id": "6e62e22c-413b-4a21-825d-ff293b534a1b",
   "metadata": {},
   "outputs": [],
   "source": [
    "# Drop rows with `RENTED_BIKE_COUNT` column == NA\n",
    "bike_sharing_df <- bike_sharing_df %>% filter(!is.na(RENTED_BIKE_COUNT))"
   ]
  },
  {
   "cell_type": "code",
   "execution_count": 13,
   "id": "5b5e0089-581b-41b2-89b8-08936778b141",
   "metadata": {},
   "outputs": [
    {
     "data": {
      "text/html": [
       "<style>\n",
       ".list-inline {list-style: none; margin:0; padding: 0}\n",
       ".list-inline>li {display: inline-block}\n",
       ".list-inline>li:not(:last-child)::after {content: \"\\00b7\"; padding: 0 .5ex}\n",
       "</style>\n",
       "<ol class=list-inline><li>8465</li><li>14</li></ol>\n"
      ],
      "text/latex": [
       "\\begin{enumerate*}\n",
       "\\item 8465\n",
       "\\item 14\n",
       "\\end{enumerate*}\n"
      ],
      "text/markdown": [
       "1. 8465\n",
       "2. 14\n",
       "\n",
       "\n"
      ],
      "text/plain": [
       "[1] 8465   14"
      ]
     },
     "metadata": {},
     "output_type": "display_data"
    }
   ],
   "source": [
    "# Print the dataset dimension again after those rows are dropped\n",
    "dim(bike_sharing_df)"
   ]
  },
  {
   "cell_type": "markdown",
   "id": "3ed3c2d1-aa38-4265-95f1-0b94433b383d",
   "metadata": {},
   "source": [
    "Now that you have handled  missing values in the `RENTED_BIKE_COUNT` variable, let's continue processing missing values for the `TEMPERATURE` column.\n"
   ]
  },
  {
   "cell_type": "markdown",
   "id": "276326db-95b7-4322-99ec-80e0ca7d5e7a",
   "metadata": {},
   "source": [
    "Unlike the `RENTED_BIKE_COUNT` variable, `TEMPERATURE` is not a response variable. However, it is still an important predictor variable - as you could imagine, there may be a positve correlation between `TEMPERATURE` and `RENTED_BIKE_COUNT`. For example, in winter time with lower temperatures, people may not want to ride a bike, while in summer with nicer weather, they are more likely to rent a bike.\n"
   ]
  },
  {
   "cell_type": "markdown",
   "id": "935cea90-2a1e-49fb-a616-2b5789746978",
   "metadata": {},
   "source": [
    "How do we handle missing values for `TEMPERATURE`? We could simply remove the rows but it's better to impute them because `TEMPERATURE` should be relatively easy and reliable to estimate statistically.\n"
   ]
  },
  {
   "cell_type": "markdown",
   "id": "89b09c28-da58-40c8-860c-4d6ff017194a",
   "metadata": {},
   "source": [
    "Let's first take a look at the missing values in the TEMPERATURE column.\n"
   ]
  },
  {
   "cell_type": "code",
   "execution_count": 14,
   "id": "d8e8d4fb-b02c-494e-8810-e41d6de83e52",
   "metadata": {},
   "outputs": [
    {
     "data": {
      "text/html": [
       "<table class=\"dataframe\">\n",
       "<caption>A spec_tbl_df: 11 × 14</caption>\n",
       "<thead>\n",
       "\t<tr><th scope=col>DATE</th><th scope=col>RENTED_BIKE_COUNT</th><th scope=col>HOUR</th><th scope=col>TEMPERATURE</th><th scope=col>HUMIDITY</th><th scope=col>WIND_SPEED</th><th scope=col>VISIBILITY</th><th scope=col>DEW_POINT_TEMPERATURE</th><th scope=col>SOLAR_RADIATION</th><th scope=col>RAINFALL</th><th scope=col>SNOWFALL</th><th scope=col>SEASONS</th><th scope=col>HOLIDAY</th><th scope=col>FUNCTIONING_DAY</th></tr>\n",
       "\t<tr><th scope=col>&lt;chr&gt;</th><th scope=col>&lt;dbl&gt;</th><th scope=col>&lt;dbl&gt;</th><th scope=col>&lt;dbl&gt;</th><th scope=col>&lt;dbl&gt;</th><th scope=col>&lt;dbl&gt;</th><th scope=col>&lt;dbl&gt;</th><th scope=col>&lt;dbl&gt;</th><th scope=col>&lt;dbl&gt;</th><th scope=col>&lt;dbl&gt;</th><th scope=col>&lt;dbl&gt;</th><th scope=col>&lt;chr&gt;</th><th scope=col>&lt;chr&gt;</th><th scope=col>&lt;chr&gt;</th></tr>\n",
       "</thead>\n",
       "<tbody>\n",
       "\t<tr><td>07/06/2018</td><td> 3.8792535</td><td> 0.9389561</td><td>NA</td><td>-0.06022153</td><td> 0.94093538</td><td>-0.3613780</td><td>0.9437855</td><td> 0.44994643</td><td>-0.1317924</td><td>-0.1718813</td><td>Summer</td><td>No Holiday</td><td>Yes</td></tr>\n",
       "\t<tr><td>12/06/2018</td><td> 0.8046113</td><td> 0.3611369</td><td>NA</td><td>-0.64954264</td><td> 0.45844961</td><td> 0.8617053</td><td>0.6604857</td><td> 0.94491260</td><td>-0.1317924</td><td>-0.1718813</td><td>Summer</td><td>No Holiday</td><td>Yes</td></tr>\n",
       "\t<tr><td>13/06/2018</td><td> 3.0121265</td><td> 0.7945013</td><td>NA</td><td>-0.06022153</td><td> 1.51991830</td><td>-0.8512689</td><td>0.9437855</td><td> 0.34634886</td><td>-0.1317924</td><td>-0.1718813</td><td>Summer</td><td>No Holiday</td><td>Yes</td></tr>\n",
       "\t<tr><td>17/06/2018</td><td> 2.4921617</td><td> 0.7945013</td><td>NA</td><td>-0.01111144</td><td> 1.51991830</td><td>-0.9400411</td><td>0.9667558</td><td> 0.10462119</td><td>-0.1317924</td><td>-0.1718813</td><td>Summer</td><td>No Holiday</td><td>Yes</td></tr>\n",
       "\t<tr><td>20/06/2018</td><td> 3.1319987</td><td> 1.0834108</td><td>NA</td><td> 0.13621884</td><td> 0.94093538</td><td>-0.3301434</td><td>1.0280098</td><td> 0.03555615</td><td>-0.1317924</td><td>-0.1718813</td><td>Summer</td><td>No Holiday</td><td>Yes</td></tr>\n",
       "\t<tr><td>30/06/2018</td><td> 0.6458196</td><td> 0.2166822</td><td>NA</td><td> 1.41308124</td><td>-0.02403616</td><td>-1.7209075</td><td>1.4644446</td><td> 0.16217540</td><td> 2.9705138</td><td>-0.1718813</td><td>Summer</td><td>No Holiday</td><td>Yes</td></tr>\n",
       "\t<tr><td>05/07/2018</td><td> 0.1523201</td><td>-0.2166822</td><td>NA</td><td> 0.82376013</td><td>-0.60301909</td><td>-0.6720807</td><td>1.2806826</td><td> 0.74922830</td><td>-0.1317924</td><td>-0.1718813</td><td>Summer</td><td>No Holiday</td><td>Yes</td></tr>\n",
       "\t<tr><td>11/07/2018</td><td>-0.1481386</td><td>-0.3611369</td><td>NA</td><td> 1.85507207</td><td>-1.08550486</td><td>-1.6222717</td><td>1.5946094</td><td>-0.18314983</td><td>-0.1317924</td><td>-0.1718813</td><td>Summer</td><td>No Holiday</td><td>Yes</td></tr>\n",
       "\t<tr><td>12/07/2018</td><td>-0.2119666</td><td>-0.7945013</td><td>NA</td><td> 1.70774180</td><td>-0.60301909</td><td>-0.9614122</td><td>1.5486689</td><td>-0.64358348</td><td>-0.1317924</td><td>-0.1718813</td><td>Summer</td><td>No Holiday</td><td>Yes</td></tr>\n",
       "\t<tr><td>21/07/2018</td><td>-0.5949347</td><td>-1.0834108</td><td>NA</td><td> 0.92198032</td><td>-0.50652193</td><td>-0.3843931</td><td>1.3113096</td><td>-0.65509432</td><td>-0.1317924</td><td>-0.1718813</td><td>Summer</td><td>No Holiday</td><td>Yes</td></tr>\n",
       "\t<tr><td>21/08/2018</td><td> 0.8528715</td><td> 1.6612299</td><td>NA</td><td> 0.82376013</td><td>-1.56799063</td><td> 0.7482741</td><td>1.2806826</td><td>-0.65509432</td><td>-0.1317924</td><td>-0.1718813</td><td>Summer</td><td>No Holiday</td><td>Yes</td></tr>\n",
       "</tbody>\n",
       "</table>\n"
      ],
      "text/latex": [
       "A spec\\_tbl\\_df: 11 × 14\n",
       "\\begin{tabular}{llllllllllllll}\n",
       " DATE & RENTED\\_BIKE\\_COUNT & HOUR & TEMPERATURE & HUMIDITY & WIND\\_SPEED & VISIBILITY & DEW\\_POINT\\_TEMPERATURE & SOLAR\\_RADIATION & RAINFALL & SNOWFALL & SEASONS & HOLIDAY & FUNCTIONING\\_DAY\\\\\n",
       " <chr> & <dbl> & <dbl> & <dbl> & <dbl> & <dbl> & <dbl> & <dbl> & <dbl> & <dbl> & <dbl> & <chr> & <chr> & <chr>\\\\\n",
       "\\hline\n",
       "\t 07/06/2018 &  3.8792535 &  0.9389561 & NA & -0.06022153 &  0.94093538 & -0.3613780 & 0.9437855 &  0.44994643 & -0.1317924 & -0.1718813 & Summer & No Holiday & Yes\\\\\n",
       "\t 12/06/2018 &  0.8046113 &  0.3611369 & NA & -0.64954264 &  0.45844961 &  0.8617053 & 0.6604857 &  0.94491260 & -0.1317924 & -0.1718813 & Summer & No Holiday & Yes\\\\\n",
       "\t 13/06/2018 &  3.0121265 &  0.7945013 & NA & -0.06022153 &  1.51991830 & -0.8512689 & 0.9437855 &  0.34634886 & -0.1317924 & -0.1718813 & Summer & No Holiday & Yes\\\\\n",
       "\t 17/06/2018 &  2.4921617 &  0.7945013 & NA & -0.01111144 &  1.51991830 & -0.9400411 & 0.9667558 &  0.10462119 & -0.1317924 & -0.1718813 & Summer & No Holiday & Yes\\\\\n",
       "\t 20/06/2018 &  3.1319987 &  1.0834108 & NA &  0.13621884 &  0.94093538 & -0.3301434 & 1.0280098 &  0.03555615 & -0.1317924 & -0.1718813 & Summer & No Holiday & Yes\\\\\n",
       "\t 30/06/2018 &  0.6458196 &  0.2166822 & NA &  1.41308124 & -0.02403616 & -1.7209075 & 1.4644446 &  0.16217540 &  2.9705138 & -0.1718813 & Summer & No Holiday & Yes\\\\\n",
       "\t 05/07/2018 &  0.1523201 & -0.2166822 & NA &  0.82376013 & -0.60301909 & -0.6720807 & 1.2806826 &  0.74922830 & -0.1317924 & -0.1718813 & Summer & No Holiday & Yes\\\\\n",
       "\t 11/07/2018 & -0.1481386 & -0.3611369 & NA &  1.85507207 & -1.08550486 & -1.6222717 & 1.5946094 & -0.18314983 & -0.1317924 & -0.1718813 & Summer & No Holiday & Yes\\\\\n",
       "\t 12/07/2018 & -0.2119666 & -0.7945013 & NA &  1.70774180 & -0.60301909 & -0.9614122 & 1.5486689 & -0.64358348 & -0.1317924 & -0.1718813 & Summer & No Holiday & Yes\\\\\n",
       "\t 21/07/2018 & -0.5949347 & -1.0834108 & NA &  0.92198032 & -0.50652193 & -0.3843931 & 1.3113096 & -0.65509432 & -0.1317924 & -0.1718813 & Summer & No Holiday & Yes\\\\\n",
       "\t 21/08/2018 &  0.8528715 &  1.6612299 & NA &  0.82376013 & -1.56799063 &  0.7482741 & 1.2806826 & -0.65509432 & -0.1317924 & -0.1718813 & Summer & No Holiday & Yes\\\\\n",
       "\\end{tabular}\n"
      ],
      "text/markdown": [
       "\n",
       "A spec_tbl_df: 11 × 14\n",
       "\n",
       "| DATE &lt;chr&gt; | RENTED_BIKE_COUNT &lt;dbl&gt; | HOUR &lt;dbl&gt; | TEMPERATURE &lt;dbl&gt; | HUMIDITY &lt;dbl&gt; | WIND_SPEED &lt;dbl&gt; | VISIBILITY &lt;dbl&gt; | DEW_POINT_TEMPERATURE &lt;dbl&gt; | SOLAR_RADIATION &lt;dbl&gt; | RAINFALL &lt;dbl&gt; | SNOWFALL &lt;dbl&gt; | SEASONS &lt;chr&gt; | HOLIDAY &lt;chr&gt; | FUNCTIONING_DAY &lt;chr&gt; |\n",
       "|---|---|---|---|---|---|---|---|---|---|---|---|---|---|\n",
       "| 07/06/2018 |  3.8792535 |  0.9389561 | NA | -0.06022153 |  0.94093538 | -0.3613780 | 0.9437855 |  0.44994643 | -0.1317924 | -0.1718813 | Summer | No Holiday | Yes |\n",
       "| 12/06/2018 |  0.8046113 |  0.3611369 | NA | -0.64954264 |  0.45844961 |  0.8617053 | 0.6604857 |  0.94491260 | -0.1317924 | -0.1718813 | Summer | No Holiday | Yes |\n",
       "| 13/06/2018 |  3.0121265 |  0.7945013 | NA | -0.06022153 |  1.51991830 | -0.8512689 | 0.9437855 |  0.34634886 | -0.1317924 | -0.1718813 | Summer | No Holiday | Yes |\n",
       "| 17/06/2018 |  2.4921617 |  0.7945013 | NA | -0.01111144 |  1.51991830 | -0.9400411 | 0.9667558 |  0.10462119 | -0.1317924 | -0.1718813 | Summer | No Holiday | Yes |\n",
       "| 20/06/2018 |  3.1319987 |  1.0834108 | NA |  0.13621884 |  0.94093538 | -0.3301434 | 1.0280098 |  0.03555615 | -0.1317924 | -0.1718813 | Summer | No Holiday | Yes |\n",
       "| 30/06/2018 |  0.6458196 |  0.2166822 | NA |  1.41308124 | -0.02403616 | -1.7209075 | 1.4644446 |  0.16217540 |  2.9705138 | -0.1718813 | Summer | No Holiday | Yes |\n",
       "| 05/07/2018 |  0.1523201 | -0.2166822 | NA |  0.82376013 | -0.60301909 | -0.6720807 | 1.2806826 |  0.74922830 | -0.1317924 | -0.1718813 | Summer | No Holiday | Yes |\n",
       "| 11/07/2018 | -0.1481386 | -0.3611369 | NA |  1.85507207 | -1.08550486 | -1.6222717 | 1.5946094 | -0.18314983 | -0.1317924 | -0.1718813 | Summer | No Holiday | Yes |\n",
       "| 12/07/2018 | -0.2119666 | -0.7945013 | NA |  1.70774180 | -0.60301909 | -0.9614122 | 1.5486689 | -0.64358348 | -0.1317924 | -0.1718813 | Summer | No Holiday | Yes |\n",
       "| 21/07/2018 | -0.5949347 | -1.0834108 | NA |  0.92198032 | -0.50652193 | -0.3843931 | 1.3113096 | -0.65509432 | -0.1317924 | -0.1718813 | Summer | No Holiday | Yes |\n",
       "| 21/08/2018 |  0.8528715 |  1.6612299 | NA |  0.82376013 | -1.56799063 |  0.7482741 | 1.2806826 | -0.65509432 | -0.1317924 | -0.1718813 | Summer | No Holiday | Yes |\n",
       "\n"
      ],
      "text/plain": [
       "   DATE       RENTED_BIKE_COUNT HOUR       TEMPERATURE HUMIDITY    WIND_SPEED \n",
       "1  07/06/2018  3.8792535         0.9389561 NA          -0.06022153  0.94093538\n",
       "2  12/06/2018  0.8046113         0.3611369 NA          -0.64954264  0.45844961\n",
       "3  13/06/2018  3.0121265         0.7945013 NA          -0.06022153  1.51991830\n",
       "4  17/06/2018  2.4921617         0.7945013 NA          -0.01111144  1.51991830\n",
       "5  20/06/2018  3.1319987         1.0834108 NA           0.13621884  0.94093538\n",
       "6  30/06/2018  0.6458196         0.2166822 NA           1.41308124 -0.02403616\n",
       "7  05/07/2018  0.1523201        -0.2166822 NA           0.82376013 -0.60301909\n",
       "8  11/07/2018 -0.1481386        -0.3611369 NA           1.85507207 -1.08550486\n",
       "9  12/07/2018 -0.2119666        -0.7945013 NA           1.70774180 -0.60301909\n",
       "10 21/07/2018 -0.5949347        -1.0834108 NA           0.92198032 -0.50652193\n",
       "11 21/08/2018  0.8528715         1.6612299 NA           0.82376013 -1.56799063\n",
       "   VISIBILITY DEW_POINT_TEMPERATURE SOLAR_RADIATION RAINFALL   SNOWFALL  \n",
       "1  -0.3613780 0.9437855              0.44994643     -0.1317924 -0.1718813\n",
       "2   0.8617053 0.6604857              0.94491260     -0.1317924 -0.1718813\n",
       "3  -0.8512689 0.9437855              0.34634886     -0.1317924 -0.1718813\n",
       "4  -0.9400411 0.9667558              0.10462119     -0.1317924 -0.1718813\n",
       "5  -0.3301434 1.0280098              0.03555615     -0.1317924 -0.1718813\n",
       "6  -1.7209075 1.4644446              0.16217540      2.9705138 -0.1718813\n",
       "7  -0.6720807 1.2806826              0.74922830     -0.1317924 -0.1718813\n",
       "8  -1.6222717 1.5946094             -0.18314983     -0.1317924 -0.1718813\n",
       "9  -0.9614122 1.5486689             -0.64358348     -0.1317924 -0.1718813\n",
       "10 -0.3843931 1.3113096             -0.65509432     -0.1317924 -0.1718813\n",
       "11  0.7482741 1.2806826             -0.65509432     -0.1317924 -0.1718813\n",
       "   SEASONS HOLIDAY    FUNCTIONING_DAY\n",
       "1  Summer  No Holiday Yes            \n",
       "2  Summer  No Holiday Yes            \n",
       "3  Summer  No Holiday Yes            \n",
       "4  Summer  No Holiday Yes            \n",
       "5  Summer  No Holiday Yes            \n",
       "6  Summer  No Holiday Yes            \n",
       "7  Summer  No Holiday Yes            \n",
       "8  Summer  No Holiday Yes            \n",
       "9  Summer  No Holiday Yes            \n",
       "10 Summer  No Holiday Yes            \n",
       "11 Summer  No Holiday Yes            "
      ]
     },
     "metadata": {},
     "output_type": "display_data"
    }
   ],
   "source": [
    "bike_sharing_df %>% \n",
    "                filter(is.na(TEMPERATURE))"
   ]
  },
  {
   "cell_type": "markdown",
   "id": "e1b8c7e5-0f04-4099-b90e-40a0ca9fb537",
   "metadata": {},
   "source": [
    "It seems that all of the missing values for `TEMPERATURE` are found in `SEASONS == Summer`, so it is reasonable to impute those missing values with the summer average temperature.\n"
   ]
  },
  {
   "cell_type": "markdown",
   "id": "598856f3-92e7-4ff1-a481-5ee082407833",
   "metadata": {},
   "source": [
    "_TODO:_ Impute missing values for the TEMPERATURE column using its mean value.\n"
   ]
  },
  {
   "cell_type": "code",
   "execution_count": 28,
   "id": "ed6efa28-115b-4675-a8ae-bf31a8e6eb59",
   "metadata": {},
   "outputs": [
    {
     "data": {
      "text/html": [
       "<table class=\"dataframe\">\n",
       "<caption>A tibble: 1 × 1</caption>\n",
       "<thead>\n",
       "\t<tr><th scope=col>mean</th></tr>\n",
       "\t<tr><th scope=col>&lt;dbl&gt;</th></tr>\n",
       "</thead>\n",
       "<tbody>\n",
       "\t<tr><td>1.148781</td></tr>\n",
       "</tbody>\n",
       "</table>\n"
      ],
      "text/latex": [
       "A tibble: 1 × 1\n",
       "\\begin{tabular}{l}\n",
       " mean\\\\\n",
       " <dbl>\\\\\n",
       "\\hline\n",
       "\t 1.148781\\\\\n",
       "\\end{tabular}\n"
      ],
      "text/markdown": [
       "\n",
       "A tibble: 1 × 1\n",
       "\n",
       "| mean &lt;dbl&gt; |\n",
       "|---|\n",
       "| 1.148781 |\n",
       "\n"
      ],
      "text/plain": [
       "  mean    \n",
       "1 1.148781"
      ]
     },
     "metadata": {},
     "output_type": "display_data"
    }
   ],
   "source": [
    "# Calculate the summer average temperature\n",
    "m <- bike_sharing_df %>% filter(SEASONS == 'Summer' & !is.na(TEMPERATURE)) %>% summarise(mean = mean(TEMPERATURE))\n",
    "m"
   ]
  },
  {
   "cell_type": "code",
   "execution_count": 31,
   "id": "51abff88-2ad9-4848-aeb5-607ec5db8808",
   "metadata": {},
   "outputs": [],
   "source": [
    "\n",
    "# Impute missing values for TEMPERATURE column with summer average temperature\n",
    "bike_sharing_df$TEMPERATURE <- replace_na(bike_sharing_df$TEMPERATURE, as.numeric(m))"
   ]
  },
  {
   "cell_type": "code",
   "execution_count": 32,
   "id": "baf3e462-4b62-421b-bc8a-acc99e8b0378",
   "metadata": {},
   "outputs": [
    {
     "data": {
      "text/plain": [
       "     DATE           RENTED_BIKE_COUNT      HOUR            TEMPERATURE       \n",
       " Length:8465        Min.   :-1.1320   Min.   :-1.661230   Min.   :-2.567596  \n",
       " Class :character   1st Qu.:-0.8020   1st Qu.:-0.794501   1st Qu.:-0.826109  \n",
       " Mode  :character   Median :-0.2914   Median : 0.072227   Median : 0.053008  \n",
       "                    Mean   : 0.0000   Mean   : 0.001015   Mean   :-0.007919  \n",
       "                    3rd Qu.: 0.5524   3rd Qu.: 0.938956   3rd Qu.: 0.823281  \n",
       "                    Max.   : 4.4008   Max.   : 1.661230   Max.   : 2.221494  \n",
       "    HUMIDITY           WIND_SPEED         VISIBILITY       \n",
       " Min.   :-2.859497   Min.   :-1.66449   Min.   :-2.317654  \n",
       " 1st Qu.:-0.796873   1st Qu.:-0.79601   1st Qu.:-0.824966  \n",
       " Median :-0.060221   Median :-0.21703   Median : 0.416200  \n",
       " Mean   :-0.003883   Mean   : 0.00094   Mean   :-0.004853  \n",
       " 3rd Qu.: 0.774650   3rd Qu.: 0.55495   3rd Qu.: 0.925818  \n",
       " Max.   : 1.953292   Max.   : 5.47630   Max.   : 0.925818  \n",
       " DEW_POINT_TEMPERATURE SOLAR_RADIATION        RAINFALL        \n",
       " Min.   :-2.654888     Min.   :-0.655094   Min.   :-0.131792  \n",
       " 1st Qu.:-0.702416     1st Qu.:-0.655094   1st Qu.:-0.131792  \n",
       " Median : 0.047946     Median :-0.643583   Median :-0.131792  \n",
       " Mean   :-0.009863     Mean   :-0.001431   Mean   : 0.000384  \n",
       " 3rd Qu.: 0.851904     3rd Qu.: 0.415414   3rd Qu.:-0.131792  \n",
       " Max.   : 1.770715     Max.   : 3.396722   Max.   :30.891269  \n",
       "    SNOWFALL          SEASONS            HOLIDAY          FUNCTIONING_DAY   \n",
       " Min.   :-0.17188   Length:8465        Length:8465        Length:8465       \n",
       " 1st Qu.:-0.17188   Class :character   Class :character   Class :character  \n",
       " Median :-0.17188   Mode  :character   Mode  :character   Mode  :character  \n",
       " Mean   : 0.00599                                                           \n",
       " 3rd Qu.:-0.17188                                                           \n",
       " Max.   :19.97712                                                           "
      ]
     },
     "metadata": {},
     "output_type": "display_data"
    }
   ],
   "source": [
    "# Print the summary of the dataset again to make sure no missing values in all columns\n",
    "summary(bike_sharing_df)"
   ]
  },
  {
   "cell_type": "code",
   "execution_count": 33,
   "id": "03318e21-e88c-4ea3-80a0-2b1ef111e86c",
   "metadata": {},
   "outputs": [],
   "source": [
    "# Save the dataset as `seoul_bike_sharing.csv`\n",
    "write.csv(bike_sharing_df, 'seoul_bike_sharing.csv')"
   ]
  },
  {
   "cell_type": "markdown",
   "id": "e9a5bb72-ece9-4cbb-ab42-3d52b1526af2",
   "metadata": {},
   "source": [
    "# TASK: Create indicator (dummy) variables for categorical variables\n"
   ]
  },
  {
   "cell_type": "markdown",
   "id": "362ad62d-3bf3-44bd-8fa6-d876f9a9206c",
   "metadata": {},
   "source": [
    "Regression models can not process categorical variables directly, thus we need to convert them into indicator variables. \n"
   ]
  },
  {
   "cell_type": "markdown",
   "id": "ca41d615-34d5-42fd-8130-daa2796c73fd",
   "metadata": {},
   "source": [
    "In the bike-sharing demand dataset, `SEASONS`, `HOLIDAY`, `FUNCTIONING_DAY` are categorical variables. \n",
    "Also, `HOUR` is read as a numerical variable but it is in fact a categorical variable with levels ranged from 0 to 23.\n"
   ]
  },
  {
   "cell_type": "markdown",
   "id": "b8a7a23c-82ef-4746-8b22-5c31b16d95e4",
   "metadata": {},
   "source": [
    "_TODO:_ Convert `HOUR` column from numeric into character first:\n"
   ]
  },
  {
   "cell_type": "code",
   "execution_count": 35,
   "id": "db0fe69d-ef6a-4cdc-90b9-7734bfc1e1e9",
   "metadata": {},
   "outputs": [],
   "source": [
    "# Using mutate() function to convert HOUR column into character type\n",
    "bike_sharing_df <- bike_sharing_df %>% mutate(HOUR = as.character(HOUR))"
   ]
  },
  {
   "cell_type": "markdown",
   "id": "3099773a-d3af-4a92-aa3d-aea0e5bc02f3",
   "metadata": {},
   "source": [
    "`SEASONS`, `HOLIDAY`, `FUNCTIONING_DAY`,  `HOUR` are all character columns now and are ready to be converted into indicator variables.\n",
    "\n",
    "For example, `SEASONS` has four categorical values: `Spring`, `Summer`, `Autumn`, `Winter`. We thus need to create four indicator/dummy variables `Spring`, `Summer`, `Autumn`, and `Winter` which only have the value 0 or 1.\n",
    "\n",
    "So, given a data entry with the value `Spring` in the `SEASONS` column, the values for the four new columns `Spring`, `Summer`, `Autumn`, and `Winter` will be set to 1 for `Spring` and 0 for the others:\n",
    "\n",
    "|Spring|Summer|Autumn|Winter|\n",
    "|----- |------|------|------|\n",
    "|     1|     0|     0|     0| \n"
   ]
  },
  {
   "cell_type": "markdown",
   "id": "de01eb24-b159-415f-a249-582f0fa05fb0",
   "metadata": {},
   "source": [
    "_TODO:_ Convert `SEASONS`, `HOLIDAY`, `FUNCTIONING_DAY`, and `HOUR` columns into indicator columns.\n",
    "\n",
    "Note that if `FUNCTIONING_DAY` only contains one categorical value after missing values removal, then you don't need to convert it to an indicator column.\n"
   ]
  },
  {
   "cell_type": "code",
   "execution_count": 37,
   "id": "a333431a-7a8e-419b-8c9d-2594ecf216ef",
   "metadata": {},
   "outputs": [],
   "source": [
    "# Convert SEASONS, HOLIDAY, FUNCTIONING_DAY, and HOUR columns into indicator columns.\n",
    "bike_sharing_df <- bike_sharing_df %>% mutate(SEASONS = as.factor(SEASONS), HOLIDAY = as.factor(HOLIDAY), HOUR = as.factor(HOUR))\n"
   ]
  },
  {
   "cell_type": "code",
   "execution_count": 38,
   "id": "1d5e2176-7824-440c-b154-f44d4b5b3fc8",
   "metadata": {},
   "outputs": [
    {
     "data": {
      "text/plain": [
       "     DATE           RENTED_BIKE_COUNT                 HOUR     \n",
       " Length:8465        Min.   :-1.1320   -0.072227388930607: 353  \n",
       " Class :character   1st Qu.:-0.8020   -0.216682166791821: 353  \n",
       " Mode  :character   Median :-0.2914   -0.361136944653035: 353  \n",
       "                    Mean   : 0.0000   -0.505591722514249: 353  \n",
       "                    3rd Qu.: 0.5524   -0.650046500375463: 353  \n",
       "                    Max.   : 4.4008   0.072227388930607 : 353  \n",
       "                                      (Other)           :6347  \n",
       "  TEMPERATURE           HUMIDITY           WIND_SPEED         VISIBILITY       \n",
       " Min.   :-2.567596   Min.   :-2.859497   Min.   :-1.66449   Min.   :-2.317654  \n",
       " 1st Qu.:-0.826109   1st Qu.:-0.796873   1st Qu.:-0.79601   1st Qu.:-0.824966  \n",
       " Median : 0.053008   Median :-0.060221   Median :-0.21703   Median : 0.416200  \n",
       " Mean   :-0.007919   Mean   :-0.003883   Mean   : 0.00094   Mean   :-0.004853  \n",
       " 3rd Qu.: 0.823281   3rd Qu.: 0.774650   3rd Qu.: 0.55495   3rd Qu.: 0.925818  \n",
       " Max.   : 2.221494   Max.   : 1.953292   Max.   : 5.47630   Max.   : 0.925818  \n",
       "                                                                               \n",
       " DEW_POINT_TEMPERATURE SOLAR_RADIATION        RAINFALL        \n",
       " Min.   :-2.654888     Min.   :-0.655094   Min.   :-0.131792  \n",
       " 1st Qu.:-0.702416     1st Qu.:-0.655094   1st Qu.:-0.131792  \n",
       " Median : 0.047946     Median :-0.643583   Median :-0.131792  \n",
       " Mean   :-0.009863     Mean   :-0.001431   Mean   : 0.000384  \n",
       " 3rd Qu.: 0.851904     3rd Qu.: 0.415414   3rd Qu.:-0.131792  \n",
       " Max.   : 1.770715     Max.   : 3.396722   Max.   :30.891269  \n",
       "                                                              \n",
       "    SNOWFALL          SEASONS           HOLIDAY     FUNCTIONING_DAY   \n",
       " Min.   :-0.17188   Autumn:1937   Holiday   : 408   Length:8465       \n",
       " 1st Qu.:-0.17188   Spring:2160   No Holiday:8057   Class :character  \n",
       " Median :-0.17188   Summer:2208                     Mode  :character  \n",
       " Mean   : 0.00599   Winter:2160                                       \n",
       " 3rd Qu.:-0.17188                                                     \n",
       " Max.   :19.97712                                                     \n",
       "                                                                      "
      ]
     },
     "metadata": {},
     "output_type": "display_data"
    }
   ],
   "source": [
    "# Print the dataset summary again to make sure the indicator columns are created properly\n",
    "summary(bike_sharing_df)"
   ]
  },
  {
   "cell_type": "code",
   "execution_count": 40,
   "id": "42196d5b-7839-4b34-9363-d8fa441ad153",
   "metadata": {},
   "outputs": [],
   "source": [
    "# Save the dataset as `seoul_bike_sharing_converted.csv`\n",
    "write_csv(bike_sharing_df, \"seoul_bike_sharing_converted.csv\") "
   ]
  },
  {
   "cell_type": "markdown",
   "id": "71d7e057-b160-498a-911e-2c9875d7069c",
   "metadata": {},
   "source": [
    "# TASK: Normalize data\n"
   ]
  },
  {
   "cell_type": "markdown",
   "id": "e7ba7323-9a9f-4a81-9a70-821234372356",
   "metadata": {},
   "source": [
    "Columns `RENTED_BIKE_COUNT`, `TEMPERATURE`, `HUMIDITY`, `WIND_SPEED`, `VISIBILITY`, `DEW_POINT_TEMPERATURE`, `SOLAR_RADIATION`, `RAINFALL`, `SNOWFALL` are numerical variables/columns with different value units and range. Columns with large values may adversely influence (bias) the predictive models and degrade model accuracy. Thus, we need to perform normalization on these numeric columns to transfer them into a similar range.\n"
   ]
  },
  {
   "cell_type": "markdown",
   "id": "dcc3ce21-07e4-4c10-b8a3-915d03b8eed0",
   "metadata": {},
   "source": [
    "In this project, you are asked to use Min-max normalization: \n",
    "\n",
    "**Min-max** rescales each value in a column by first subtracting the minimum value of the column from each value, and then divides the result by the difference between the maximum and minimum values of the column. So the column gets re-scaled such that the minimum becomes 0 and the maximum becomes 1.\n",
    "\n",
    "$$x_{new} = \\frac{x_{old} - x_{min}}{x_{max} - x_{min}}$$\n"
   ]
  },
  {
   "cell_type": "markdown",
   "id": "96e6a3de-8894-4d34-bb8d-614b599f0356",
   "metadata": {},
   "source": [
    "_TODO:_ Apply min-max normalization on `RENTED_BIKE_COUNT`, `TEMPERATURE`, `HUMIDITY`, `WIND_SPEED`, `VISIBILITY`, `DEW_POINT_TEMPERATURE`, `SOLAR_RADIATION`, `RAINFALL`, `SNOWFALL`\n"
   ]
  },
  {
   "cell_type": "code",
   "execution_count": 56,
   "metadata": {},
   "outputs": [],
   "source": [
    "bike_sharing_df <- read.csv(\"seoul_bike_sharing_converted.csv\")"
   ]
  },
  {
   "cell_type": "code",
   "execution_count": 57,
   "id": "8c659ea9-3121-4171-b11d-147f5758c516",
   "metadata": {},
   "outputs": [],
   "source": [
    "# Use the `mutate()` function to apply min-max normalization on columns \n",
    "# `RENTED_BIKE_COUNT`, `TEMPERATURE`, `HUMIDITY`, `WIND_SPEED`, `VISIBILITY`, `DEW_POINT_TEMPERATURE`, `SOLAR_RADIATION`, `RAINFALL`, `SNOWFALL`\n",
    "scale <- function(col){\n",
    "    return ((col-min(col))/(max(col)- min(col)))\n",
    "}\n",
    "col_names <- c(\n",
    "  \"RENTED_BIKE_COUNT\",\n",
    "  \"TEMPERATURE\",\n",
    "  \"HUMIDITY\",\n",
    "  \"WIND_SPEED\",\n",
    "  \"VISIBILITY\",\n",
    "  \"DEW_POINT_TEMPERATURE\",\n",
    "  \"SOLAR_RADIATION\",\n",
    "  \"RAINFALL\",\n",
    "  \"SNOWFALL\"\n",
    ")\n",
    "bike_sharing_df[,col_names] <- lapply(bike_sharing_df[,col_names],scale)"
   ]
  },
  {
   "cell_type": "code",
   "execution_count": 58,
   "id": "d6fddeb3-4c98-4219-bb1e-c2c59411c46d",
   "metadata": {},
   "outputs": [
    {
     "data": {
      "text/plain": [
       "     DATE           RENTED_BIKE_COUNT      HOUR            TEMPERATURE    \n",
       " Length:8465        Min.   :0.00000   Min.   :-1.661230   Min.   :0.0000  \n",
       " Class :character   1st Qu.:0.05965   1st Qu.:-0.794501   1st Qu.:0.3636  \n",
       " Mode  :character   Median :0.15194   Median : 0.072227   Median :0.5472  \n",
       "                    Mean   :0.20460   Mean   : 0.001015   Mean   :0.5345  \n",
       "                    3rd Qu.:0.30445   3rd Qu.: 0.938956   3rd Qu.:0.7080  \n",
       "                    Max.   :1.00000   Max.   : 1.661230   Max.   :1.0000  \n",
       "    HUMIDITY        WIND_SPEED       VISIBILITY     DEW_POINT_TEMPERATURE\n",
       " Min.   :0.0000   Min.   :0.0000   Min.   :0.0000   Min.   :0.0000       \n",
       " 1st Qu.:0.4286   1st Qu.:0.1216   1st Qu.:0.4602   1st Qu.:0.4412       \n",
       " Median :0.5816   Median :0.2027   Median :0.8429   Median :0.6107       \n",
       " Mean   :0.5933   Mean   :0.2332   Mean   :0.7131   Mean   :0.5977       \n",
       " 3rd Qu.:0.7551   3rd Qu.:0.3108   3rd Qu.:1.0000   3rd Qu.:0.7924       \n",
       " Max.   :1.0000   Max.   :1.0000   Max.   :1.0000   Max.   :1.0000       \n",
       " SOLAR_RADIATION       RAINFALL           SNOWFALL          SEASONS         \n",
       " Min.   :0.000000   Min.   :0.000000   Min.   :0.000000   Length:8465       \n",
       " 1st Qu.:0.000000   1st Qu.:0.000000   1st Qu.:0.000000   Class :character  \n",
       " Median :0.002841   Median :0.000000   Median :0.000000   Mode  :character  \n",
       " Mean   :0.161326   Mean   :0.004261   Mean   :0.008828                     \n",
       " 3rd Qu.:0.264205   3rd Qu.:0.000000   3rd Qu.:0.000000                     \n",
       " Max.   :1.000000   Max.   :1.000000   Max.   :1.000000                     \n",
       "   HOLIDAY          FUNCTIONING_DAY   \n",
       " Length:8465        Length:8465       \n",
       " Class :character   Class :character  \n",
       " Mode  :character   Mode  :character  \n",
       "                                      \n",
       "                                      \n",
       "                                      "
      ]
     },
     "metadata": {},
     "output_type": "display_data"
    }
   ],
   "source": [
    "# Print the summary of the dataset again to make sure the numeric columns range between 0 and 1\n",
    "summary(bike_sharing_df)"
   ]
  },
  {
   "cell_type": "code",
   "execution_count": 60,
   "id": "5c9aa454-4150-4fca-be96-ae157750a41a",
   "metadata": {},
   "outputs": [],
   "source": [
    "# Save the dataset as `seoul_bike_sharing_converted_normalized.csv`\n",
    "write_csv(bike_sharing_df, \"seoul_bike_sharing_converted_normalized.csv\")"
   ]
  },
  {
   "cell_type": "markdown",
   "id": "f2f68902-036b-4339-88eb-0ad2b7f8686e",
   "metadata": {},
   "source": [
    "## Standardize the column names again for the new datasets\n"
   ]
  },
  {
   "cell_type": "markdown",
   "id": "96b04ccb-d05b-44f2-b4e1-6ac7caa1d36a",
   "metadata": {},
   "source": [
    "Since you have added many new indicator variables, you need to standardize their column names again by using the following code:\n"
   ]
  },
  {
   "cell_type": "code",
   "execution_count": 61,
   "id": "569bcd6f-b5c4-436a-b446-c01e213279a7",
   "metadata": {},
   "outputs": [
    {
     "name": "stderr",
     "output_type": "stream",
     "text": [
      "\u001b[1m\u001b[22mNew names:\n",
      "\u001b[36m•\u001b[39m `` -> `...1`\n",
      "\u001b[1mRows: \u001b[22m\u001b[34m8465\u001b[39m \u001b[1mColumns: \u001b[22m\u001b[34m15\u001b[39m\n",
      "\u001b[36m──\u001b[39m \u001b[1mColumn specification\u001b[22m \u001b[36m────────────────────────────────────────────────────────\u001b[39m\n",
      "\u001b[1mDelimiter:\u001b[22m \",\"\n",
      "\u001b[31mchr\u001b[39m  (4): DATE, SEASONS, HOLIDAY, FUNCTIONING_DAY\n",
      "\u001b[32mdbl\u001b[39m (11): ...1, RENTED_BIKE_COUNT, HOUR, TEMPERATURE, HUMIDITY, WIND_SPEED, ...\n",
      "\n",
      "\u001b[36mℹ\u001b[39m Use `spec()` to retrieve the full column specification for this data.\n",
      "\u001b[36mℹ\u001b[39m Specify the column types or set `show_col_types = FALSE` to quiet this message.\n",
      "\u001b[1mRows: \u001b[22m\u001b[34m8465\u001b[39m \u001b[1mColumns: \u001b[22m\u001b[34m14\u001b[39m\n",
      "\u001b[36m──\u001b[39m \u001b[1mColumn specification\u001b[22m \u001b[36m────────────────────────────────────────────────────────\u001b[39m\n",
      "\u001b[1mDelimiter:\u001b[22m \",\"\n",
      "\u001b[31mchr\u001b[39m  (4): DATE, SEASONS, HOLIDAY, FUNCTIONING_DAY\n",
      "\u001b[32mdbl\u001b[39m (10): RENTED_BIKE_COUNT, HOUR, TEMPERATURE, HUMIDITY, WIND_SPEED, VISIBI...\n",
      "\n",
      "\u001b[36mℹ\u001b[39m Use `spec()` to retrieve the full column specification for this data.\n",
      "\u001b[36mℹ\u001b[39m Specify the column types or set `show_col_types = FALSE` to quiet this message.\n",
      "\u001b[1mRows: \u001b[22m\u001b[34m8465\u001b[39m \u001b[1mColumns: \u001b[22m\u001b[34m14\u001b[39m\n",
      "\u001b[36m──\u001b[39m \u001b[1mColumn specification\u001b[22m \u001b[36m────────────────────────────────────────────────────────\u001b[39m\n",
      "\u001b[1mDelimiter:\u001b[22m \",\"\n",
      "\u001b[31mchr\u001b[39m  (4): DATE, SEASONS, HOLIDAY, FUNCTIONING_DAY\n",
      "\u001b[32mdbl\u001b[39m (10): RENTED_BIKE_COUNT, HOUR, TEMPERATURE, HUMIDITY, WIND_SPEED, VISIBI...\n",
      "\n",
      "\u001b[36mℹ\u001b[39m Use `spec()` to retrieve the full column specification for this data.\n",
      "\u001b[36mℹ\u001b[39m Specify the column types or set `show_col_types = FALSE` to quiet this message.\n"
     ]
    }
   ],
   "source": [
    "# Dataset list\n",
    "dataset_list <- c('seoul_bike_sharing.csv', 'seoul_bike_sharing_converted.csv', 'seoul_bike_sharing_converted_normalized.csv')\n",
    "\n",
    "for (dataset_name in dataset_list){\n",
    "    # Read dataset\n",
    "    dataset <- read_csv(dataset_name)\n",
    "    # Standardized its columns:\n",
    "    # Convert all columns names to uppercase\n",
    "    names(dataset) <- toupper(names(dataset))\n",
    "    # Replace any white space separators by underscore, using str_replace_all function\n",
    "    names(dataset) <- str_replace_all(names(dataset), \" \", \"_\")\n",
    "    # Save the dataset back\n",
    "    write.csv(dataset, dataset_name, row.names=FALSE)\n",
    "}"
   ]
  },
  {
   "cell_type": "markdown",
   "id": "ae3e7968-bf3f-4694-a6dc-7691dd695870",
   "metadata": {},
   "source": [
    "# Next Steps\n"
   ]
  },
  {
   "cell_type": "markdown",
   "id": "b4713c14-5a30-4548-8cda-96d5de13ab63",
   "metadata": {},
   "source": [
    "Great! Now that you have processed all of the necessary datasets, you are ready to perform exploratory data analysis to get some inital insights from them.\n"
   ]
  },
  {
   "cell_type": "markdown",
   "id": "9ed16288-b144-4807-b17e-9286ef57ba6f",
   "metadata": {},
   "source": [
    "## Authors\n",
    "\n",
    "<a href=\"https://www.linkedin.com/in/yan-luo-96288783/?utm_medium=Exinfluencer&utm_source=Exinfluencer&utm_content=000026UJ&utm_term=10006555&utm_id=NA-SkillsNetwork-Channel-SkillsNetworkCoursesIBMDeveloperSkillsNetworkRP0321ENSkillsNetwork878-2022-01-01\" target=\"_blank\">Yan Luo</a>\n"
   ]
  },
  {
   "cell_type": "markdown",
   "id": "b7a61363-d24a-41b8-9ac9-f1dd8d870ee3",
   "metadata": {},
   "source": [
    "### Other Contributors\n",
    "\n",
    "Jeff Grossman\n"
   ]
  },
  {
   "cell_type": "markdown",
   "id": "7d96b165-fe67-40d6-babd-a414023a675f",
   "metadata": {},
   "source": [
    "## Change Log\n",
    "\n",
    "| Date (YYYY-MM-DD) | Version | Changed By | Change Description           |\n",
    "| ----------------- | ------- | ---------- | ---------------------------- |\n",
    "| 2021-04-08        | 1.0     | Yan        | Initial version created      |\n",
    "|                   |         |            |                              |\n",
    "|                   |         |            |                              |\n",
    "\n",
    "## <h3 align=\"center\"> © IBM Corporation 2021. All rights reserved. <h3/>\n"
   ]
  }
 ],
 "metadata": {
  "kernelspec": {
   "display_name": "R",
   "language": "R",
   "name": "ir"
  },
  "language_info": {
   "codemirror_mode": "r",
   "file_extension": ".r",
   "mimetype": "text/x-r-source",
   "name": "R",
   "pygments_lexer": "r",
   "version": "4.3.0"
  }
 },
 "nbformat": 4,
 "nbformat_minor": 4
}
