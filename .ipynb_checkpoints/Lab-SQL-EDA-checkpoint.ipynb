{
 "cells": [
  {
   "cell_type": "markdown",
   "id": "bad286c3-ea76-44ba-9f15-77e828021e42",
   "metadata": {},
   "outputs": [],
   "source": [
    "<center>\n",
    "<img src=\"https://cf-courses-data.s3.us.cloud-object-storage.appdomain.cloud/IBMDeveloperSkillsNetwork-RP0321EN-SkillsNetwork/labs/module_1/images/SN_web_lightmode.png\" width=\"300\"> \n",
    "</center>\n",
    "\n",
    "# Assignment: Exploratory Data Analysis with SQL\n",
    "Estimated time needed: 60 minutes\n",
    "\n",
    "\n",
    "# Introduction\n",
    "Using this R notebook you will perform exploratory data analysis tasks using SQL queries with the RODBC R package. You will not be graded here, but you will be asked to present some of these results in your final assignment, where you will be graded on the accuracy of your results as well as the content of your SQL queries.\n"
   ]
  },
  {
   "cell_type": "markdown",
   "id": "6de812e8-a3f2-4e40-b34a-33632d483024",
   "metadata": {},
   "outputs": [],
   "source": [
    "### Establish your Db2 connection\n",
    "Load the 'RODBC' library, and use the 'odbcConnect( )' function as you did in the previous lab to establish the connection to your Db2 assets.  \n",
    "Provided you successfully loaded your data into the tables in that lab, you are now ready to start running SQL queries using the RODBC library as you did in Course 3.\n"
   ]
  },
  {
   "cell_type": "code",
   "id": "78e67072-46b6-4249-a0a3-04101ddbaa1f",
   "metadata": {},
   "outputs": [],
   "source": [
    "# provide your solution here"
   ]
  },
  {
   "cell_type": "markdown",
   "id": "d9788bbb-8559-46e8-9079-e3eed671ac5c",
   "metadata": {},
   "outputs": [],
   "source": [
    "\n",
    "## Task 1 - Record Count\n",
    "#### Determine how many records are in the seoul_bike_sharing dataset.\n"
   ]
  },
  {
   "cell_type": "markdown",
   "id": "09562cc1-4f50-4072-b52f-f95fc7d99381",
   "metadata": {},
   "outputs": [],
   "source": [
    "### Solution 1\n"
   ]
  },
  {
   "cell_type": "code",
   "id": "41594d64-494b-4185-8e51-10c826b7bfa7",
   "metadata": {},
   "outputs": [],
   "source": [
    "# provide your solution here"
   ]
  },
  {
   "cell_type": "markdown",
   "id": "cbe18b35-d20c-40df-8f6b-a46190aed9d0",
   "metadata": {},
   "outputs": [],
   "source": [
    "## Task 2 - Operational Hours\n",
    "#### Determine how many hours had non-zero rented bike count.\n"
   ]
  },
  {
   "cell_type": "markdown",
   "id": "2e359d79-2e6c-4eb4-b85e-98d011fd0d98",
   "metadata": {},
   "outputs": [],
   "source": [
    "### Solution 2\n"
   ]
  },
  {
   "cell_type": "code",
   "id": "9b0b13d8-a0f3-4b8e-9eca-06231946c4c0",
   "metadata": {},
   "outputs": [],
   "source": [
    "# provide your solution here"
   ]
  },
  {
   "cell_type": "markdown",
   "id": "4abdff7d-10f4-42dd-a743-32668bd6631f",
   "metadata": {},
   "outputs": [],
   "source": [
    "## Task 3 - Weather Outlook\n",
    "#### Query the the weather forecast for Seoul over the next 3 hours.\n",
    "Recall that the records in the CITIES_WEATHER_FORECAST dataset are 3 hours apart, so we just need the first record from the query.\n"
   ]
  },
  {
   "cell_type": "markdown",
   "id": "785c1bc1-db30-4ed3-a58f-0ac36a838894",
   "metadata": {},
   "outputs": [],
   "source": [
    "### Solution 3\n"
   ]
  },
  {
   "cell_type": "code",
   "id": "5ec7a29b-1be5-44b2-b724-630285df9211",
   "metadata": {},
   "outputs": [],
   "source": [
    "# provide your solution here"
   ]
  },
  {
   "cell_type": "markdown",
   "id": "c454d064-7fcb-4c9c-aed6-d428128e6ca3",
   "metadata": {},
   "outputs": [],
   "source": [
    "## Task 4 - Seasons\n",
    "#### Find which seasons are included in the seoul bike sharing dataset.\n"
   ]
  },
  {
   "cell_type": "markdown",
   "id": "30310a05-d90c-4bdc-a955-401864e2fc7c",
   "metadata": {},
   "outputs": [],
   "source": [
    "### Solution 4\n"
   ]
  },
  {
   "cell_type": "code",
   "id": "e1ee5b21-3982-46f3-89c6-c58559ab4683",
   "metadata": {},
   "outputs": [],
   "source": [
    "# provide your solution here"
   ]
  },
  {
   "cell_type": "markdown",
   "id": "bebdb7d8-0eaa-45b0-bb23-0561e44c6bd3",
   "metadata": {},
   "outputs": [],
   "source": [
    "## Task 5 - Date Range\n",
    "#### Find the first and last dates in the Seoul Bike Sharing dataset.\n"
   ]
  },
  {
   "cell_type": "markdown",
   "id": "e2f358f7-06c2-4d39-9f14-95c4a7ab117b",
   "metadata": {},
   "outputs": [],
   "source": [
    "### Solution 5\n"
   ]
  },
  {
   "cell_type": "code",
   "id": "3f699c1b-889e-4dbf-83f7-dbddb83d2087",
   "metadata": {},
   "outputs": [],
   "source": [
    "# provide your solution here"
   ]
  },
  {
   "cell_type": "markdown",
   "id": "ddcf0da9-7454-4673-a686-8c9581408878",
   "metadata": {},
   "outputs": [],
   "source": [
    "## Task 6 - Subquery - 'all-time high'\n",
    "#### determine which date and hour had the most bike rentals.\n"
   ]
  },
  {
   "cell_type": "markdown",
   "id": "09456308-9e0f-4212-a21d-8a5ab267c563",
   "metadata": {},
   "outputs": [],
   "source": [
    "### Solution 6\n"
   ]
  },
  {
   "cell_type": "code",
   "id": "445a0be5-c79d-454e-8941-106464f1c483",
   "metadata": {},
   "outputs": [],
   "source": [
    "# provide your solution here"
   ]
  },
  {
   "cell_type": "markdown",
   "id": "f33fc3e5-5a34-40a5-a29f-4d2bb2cf1b90",
   "metadata": {},
   "outputs": [],
   "source": [
    "## Task 7 - Hourly popularity and temperature by season\n",
    "#### Determine the average hourly temperature and the average number of bike rentals per hour over each season. List the top ten results by average bike count.\n"
   ]
  },
  {
   "cell_type": "markdown",
   "id": "2d260cfe-5660-4e01-90e1-318b7543b112",
   "metadata": {},
   "outputs": [],
   "source": [
    "### Solution 7\n"
   ]
  },
  {
   "cell_type": "code",
   "id": "83429185-e5e3-490e-8490-7df4e30e4bd4",
   "metadata": {},
   "outputs": [],
   "source": [
    "# provide your solution here"
   ]
  },
  {
   "cell_type": "markdown",
   "id": "b95948ce-5c01-4880-9a51-721300efcdd0",
   "metadata": {},
   "outputs": [],
   "source": [
    "## Task 8 - Rental Seasonality\n",
    "#### Find the average hourly bike count during each season. \n",
    "Also include the minimum, maximum, and standard deviation of the hourly bike count for each season. \n"
   ]
  },
  {
   "cell_type": "markdown",
   "id": "527f356f-08e0-4f90-84aa-441660a9cc25",
   "metadata": {},
   "outputs": [],
   "source": [
    "### Solution 8\n"
   ]
  },
  {
   "cell_type": "code",
   "id": "136dcbd8-3ca4-497a-9134-f90d1461a8cd",
   "metadata": {},
   "outputs": [],
   "source": [
    "# provide your solution here"
   ]
  },
  {
   "cell_type": "markdown",
   "id": "3a83bfc9-930a-4f69-9d28-ef97f8e41b4b",
   "metadata": {},
   "outputs": [],
   "source": [
    "Let's explore a bit and see what might be the most significant contributing factors in terms of the provided data.\n"
   ]
  },
  {
   "cell_type": "markdown",
   "id": "811ec104-54e5-4c93-a98a-ab11bccc1cd8",
   "metadata": {},
   "outputs": [],
   "source": [
    "## Task 9 - Weather Seasonality\n",
    "#### Consider the weather over each season. On average, what were the TEMPERATURE, HUMIDITY, WIND_SPEED, VISIBILITY, DEW_POINT_TEMPERATURE, SOLAR_RADIATION, RAINFALL, and SNOWFALL per season?\n",
    "Include the average bike count as well , and rank the results by average bike count so you can see if it is correlated with the weather at all. \n"
   ]
  },
  {
   "cell_type": "markdown",
   "id": "1aa99a4b-38ef-4682-a4b9-2b6c9fae4a06",
   "metadata": {},
   "outputs": [],
   "source": [
    "### Solution 9\n"
   ]
  },
  {
   "cell_type": "code",
   "id": "38f26cb0-6d9f-42d0-bbbe-4f15f3827bd2",
   "metadata": {},
   "outputs": [],
   "source": [
    "query <- \n# provide your solution here"
   ]
  },
  {
   "cell_type": "markdown",
   "id": "966bbe68-f139-4309-84ff-84c55986e259",
   "metadata": {},
   "outputs": [],
   "source": [
    "## Task 10 - Total Bike Count and City Info for Seoul\n",
    "#### Use an implicit join across the WORLD_CITIES and the BIKE_SHARING_SYSTEMS tables to determine the total number of bikes avaialble in Seoul, plus the following city information about Seoul: CITY, COUNTRY, LAT, LON, POPULATION, in a single view.\n",
    "Notice that in this case, the CITY column will work for the WORLD_CITIES table, but in general you would have to use the CITY_ASCII column.\n"
   ]
  },
  {
   "cell_type": "markdown",
   "id": "f058a8e4-3e16-41d5-b7fc-7d6c0bfb32a6",
   "metadata": {},
   "outputs": [],
   "source": [
    "### Solution 10\n"
   ]
  },
  {
   "cell_type": "code",
   "id": "6eb74540-6b70-4bbf-8ec2-a7eb82f8f785",
   "metadata": {},
   "outputs": [],
   "source": [
    "# provide your solution here"
   ]
  },
  {
   "cell_type": "markdown",
   "id": "93547ddb-f54a-4443-9c19-3820f2eaeb64",
   "metadata": {},
   "outputs": [],
   "source": [
    "## Task 11 - Find all city names and coordinates with comparable bike scale to Seoul's bike sharing system\n",
    "#### Find all cities with total bike counts between 15000 and 20000. Return the city and country names, plus the coordinates (LAT, LNG), population, and number of bicycles for each city.\n",
    "Later we will ask you to visualize these similar cities on leaflet, with some weather data.\n"
   ]
  },
  {
   "cell_type": "markdown",
   "id": "cad47b54-4d6a-4a57-8819-81b030f2cefa",
   "metadata": {},
   "outputs": [],
   "source": [
    "### Solution 11\n"
   ]
  },
  {
   "cell_type": "code",
   "id": "9e33c531-15fb-45fc-97cd-5e38d0e4bc57",
   "metadata": {},
   "outputs": [],
   "source": [
    "# provide your solution here"
   ]
  },
  {
   "cell_type": "code",
   "id": "3c0e323d-b0ed-4bfc-b721-a428b98dd83a",
   "metadata": {},
   "outputs": [],
   "source": [
    "close(conn)"
   ]
  },
  {
   "cell_type": "markdown",
   "id": "578c64bb-be13-4e13-a5fb-92798ab8107c",
   "metadata": {},
   "outputs": [],
   "source": [
    "## Author(s)\n",
    "\n",
    "<h4> Jeff Grossman </h4>\n",
    "\n",
    "## Contributor(s)\n",
    "\n",
    "<h4> Yan Luo, Rav Ahuja </h4>\n",
    "\n",
    "## Change log\n",
    "\n",
    "| Date       | Version | Changed by    | Change Description                                                                |\n",
    "| ---------- | ------- | ------------- | --------------------------------------------------------------------------------- |\n",
    "| 2021-05-04 | 0.2     | Jeff Grossman | Finalize                               |\n",
    "| 2021-04-22 | 0.2     | Jeff Grossman | Update as per peer review                               |\n",
    "| 2021-04-10 | 0.2     | Jeff Grossman | Add data sources and implicit joins                                  |\n",
    "| 2021-04-05 | 0.1     | Jeff Grossman | Start content creation                                                          |\n",
    "\n",
    "\n",
    "## <h3 align=\"center\"> © IBM Corporation 2021. All rights reserved. <h3/>\n"
   ]
  },
  {
   "cell_type": "code",
   "id": "2768be32-5230-4327-b3fb-2851ea115084",
   "metadata": {},
   "outputs": [],
   "source": [
    ""
   ]
  }
 ],
 "metadata": {
  "kernelspec": {
   "display_name": "Python",
   "language": "python",
   "name": "conda-env-python-py"
  },
  "language_info": {
   "name": ""
  }
 },
 "nbformat": 4,
 "nbformat_minor": 4
}
