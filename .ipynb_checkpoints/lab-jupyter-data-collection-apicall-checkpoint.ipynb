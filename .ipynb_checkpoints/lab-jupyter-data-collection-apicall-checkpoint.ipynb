{
 "cells": [
  {
   "cell_type": "markdown",
   "id": "5f590608-7501-4561-a3e3-eef751b3658a",
   "metadata": {},
   "outputs": [],
   "source": [
    "<center>\n",
    "<img src=\"https://cf-courses-data.s3.us.cloud-object-storage.appdomain.cloud/IBMDeveloperSkillsNetwork-RP0321EN-SkillsNetwork/labs/module_1/images/SN_web_lightmode.png\" width=\"300\"> \n",
    "</center>\n"
   ]
  },
  {
   "cell_type": "markdown",
   "id": "455bd88c-fa4c-46c2-9678-53b51a152d2a",
   "metadata": {},
   "outputs": [],
   "source": [
    "<h1>OpenWeather APIs Calls</h1>\n",
    "\n",
    "Estimated time needed: **40** minutes\n"
   ]
  },
  {
   "cell_type": "markdown",
   "id": "edb0be99-451f-4b3e-a1a2-93fe0f6a0283",
   "metadata": {},
   "outputs": [],
   "source": [
    "## Lab Overview:\n",
    "\n",
    "In this lab, you will be collecting real-time current and forecasted weather data for cities using the **OpenWeather API**. It can give you current weather data for any location including over 200,000 cities and 5 day forecasts for free (with limited API usage). You just need to use HTTP requests to call those weather APIs and get the weather data.\n",
    "\n",
    "You will be given instructions to set up a free OpenWeather API account with an API key for authentication. Then, you will be shown, with code examples, how to get the current weather for a given city. After you are familiar with OpenWeather API, you will be asked to get 5-day forecast data for a list of cities.\n"
   ]
  },
  {
   "cell_type": "markdown",
   "id": "23e7326d-3c7b-44cf-9b7c-82df9f7b5d63",
   "metadata": {},
   "outputs": [],
   "source": [
    "## Setup OpenWeather API account\n"
   ]
  },
  {
   "cell_type": "markdown",
   "id": "49b8c289-51c1-4b2a-95fe-ea7100ca6e05",
   "metadata": {},
   "outputs": [],
   "source": [
    "You can create an OpenWeather API account [here](https://home.openweathermap.org/users/sign_up?utm_medium=Exinfluencer&utm_source=Exinfluencer&utm_content=000026UJ&utm_term=10006555&utm_id=NA-SkillsNetwork-Channel-SkillsNetworkCoursesIBMDeveloperSkillsNetworkRP0321ENSkillsNetwork878-2022-01-01). After your account has been created and verified, you can go to Account -> My API Keys:\n"
   ]
  },
  {
   "cell_type": "markdown",
   "id": "479bbcfb-8fa0-4bf9-96f1-d6b89b3f27d7",
   "metadata": {},
   "outputs": [],
   "source": [
    "<a href=\"https://cognitiveclass.ai/?utm_medium=Exinfluencer&utm_source=Exinfluencer&utm_content=000026UJ&utm_term=10006555&utm_id=NA-SkillsNetwork-Channel-SkillsNetworkCoursesIBMDeveloperSkillsNetworkRP0321ENSkillsNetwork878-2022-01-01\">\n",
    "    <img src=\"https://cf-courses-data.s3.us.cloud-object-storage.appdomain.cloud/IBMDeveloperSkillsNetwork-RP0321EN-SkillsNetwork/labs/module_1/images/l2-openweather-apikey.png\" width=\"400\" align=\"center\">\n",
    "</a>\n"
   ]
  },
  {
   "cell_type": "markdown",
   "id": "f84f9fe2-131d-440a-85f4-540467d12a68",
   "metadata": {},
   "outputs": [],
   "source": [
    "and find your API key here:\n"
   ]
  },
  {
   "cell_type": "markdown",
   "id": "31cb637d-d553-436a-936e-44e08e5018ee",
   "metadata": {},
   "outputs": [],
   "source": [
    "<a href=\"https://cognitiveclass.ai/?utm_medium=Exinfluencer&utm_source=Exinfluencer&utm_content=000026UJ&utm_term=10006555&utm_id=NA-SkillsNetwork-Channel-SkillsNetworkCoursesIBMDeveloperSkillsNetworkRP0321ENSkillsNetwork878-2022-01-01\">\n",
    "    <img src=\"https://cf-courses-data.s3.us.cloud-object-storage.appdomain.cloud/IBMDeveloperSkillsNetwork-RP0321EN-SkillsNetwork/labs/module_1/images/l2-openweather-apikey-value.png\" width=\"400\" align=\"center\">\n",
    "</a>\n"
   ]
  },
  {
   "cell_type": "markdown",
   "id": "a8038b8c-b852-43fa-82c3-ad6069f49197",
   "metadata": {},
   "outputs": [],
   "source": [
    "Now mark down your generated API key, which will be used to authenticate your HTTP requests to OpenWeather API.\n",
    "\n",
    "Note that a new API key may take some time to be activated. You may quickly try the following URL using a web browser.\n",
    "\n",
    "With the `{your_api_key}` URL parameter replaced by your own API key and go to the following URL:\n",
    "\n",
    "https://api.openweathermap.org/data/2.5/weather?q=Seoul&appid={your_api_key}\n"
   ]
  },
  {
   "cell_type": "markdown",
   "id": "58b6d802-5f10-4c40-bcb1-2d67f85d3a96",
   "metadata": {},
   "outputs": [],
   "source": [
    "\n",
    "until you see some weather data returned (instead of 401 or other error status), similar to the following JSON result:\n",
    "\n",
    "```\n",
    "{\"coord\":{\"lon\":126.9778,\"lat\":37.5683},\n",
    "\"weather\":[{\"id\":800,\"main\":\"Clear\",\"description\":\"clear sky\",\"icon\":\"01n\"}],\n",
    "\"base\":\"stations\",\n",
    "\"main\":{\"temp\":285.16,\"feels_like\":284.04,\"temp_min\":284.15,\"temp_max\":287.15,\"pressure\":1020,\"humidity\":62},\n",
    "\"visibility\":10000,\n",
    "\"wind\":{\"speed\":1.03,\"deg\":220},\"clouds\":{\"all\":0},\"dt\":1617718307,\"sys\":{\"type\":1,\"id\":8105,\"country\":\"KR\",\"sunrise\":1617657021,\"sunset\":1617703103},\"timezone\":32400,\"id\":1835848,\"name\":\"Seoul\",\"cod\":200}\n",
    "```\n"
   ]
  },
  {
   "cell_type": "markdown",
   "id": "a55e25ff-2e01-49c2-9bf6-0664e5152ff9",
   "metadata": {},
   "outputs": [],
   "source": [
    "## Coding Practice: Get the current weather data for a city using OpenWeather API\n"
   ]
  },
  {
   "cell_type": "markdown",
   "id": "9bde3d45-8c65-4c7d-aff6-a4538d005a14",
   "metadata": {},
   "outputs": [],
   "source": [
    "First import `httr` library\n"
   ]
  },
  {
   "cell_type": "code",
   "id": "5715cdf9-7c99-4816-bbbb-1e0c424ffb55",
   "metadata": {},
   "outputs": [],
   "source": [
    "# Check if need to install rvest` library\nrequire(\"httr\")\n\nlibrary(httr)"
   ]
  },
  {
   "cell_type": "markdown",
   "id": "f37a0134-6658-45fb-a6a9-cc26e27ab619",
   "metadata": {},
   "outputs": [],
   "source": [
    "The API base URL to get current weather is https://api.openweathermap.org/data/2.5/weather\n"
   ]
  },
  {
   "cell_type": "code",
   "id": "4bbb2d3f-5e1d-49e8-a99a-c581c903197c",
   "metadata": {},
   "outputs": [],
   "source": [
    "# URL for Current Weather API\ncurrent_weather_url <- 'https://api.openweathermap.org/data/2.5/weather'"
   ]
  },
  {
   "cell_type": "markdown",
   "id": "6102fa54-6e03-49d7-8973-6917fda1b528",
   "metadata": {},
   "outputs": [],
   "source": [
    "Next, let's create a list to hold URL parameters for current weather API\n"
   ]
  },
  {
   "cell_type": "code",
   "id": "d5c3a1eb-6dd6-4e2b-ae24-3507dbb310f8",
   "metadata": {},
   "outputs": [],
   "source": [
    "# need to be replaced by your real API key\nyour_api_key <- \"your_api_key\"\n# Input `q` is the city name\n# Input `appid` is your API KEY, \n# Input `units` are preferred units such as Metric or Imperial\ncurrent_query <- list(q = \"Seoul\", appid = your_api_key, units=\"metric\")"
   ]
  },
  {
   "cell_type": "markdown",
   "id": "137b9363-0197-4968-be3f-c08d05de393d",
   "metadata": {},
   "outputs": [],
   "source": [
    "Now we can make a HTTP request to the current weather API\n"
   ]
  },
  {
   "cell_type": "code",
   "id": "1eca1350-ec97-4c11-8940-64386a96233f",
   "metadata": {},
   "outputs": [],
   "source": [
    "response <- GET(current_weather_url, query=current_query)"
   ]
  },
  {
   "cell_type": "markdown",
   "id": "d824bf63-3c9b-410b-b895-a0ad0a731c9e",
   "metadata": {},
   "outputs": [],
   "source": [
    "If we check the response type, we can see it is in JSON format\n"
   ]
  },
  {
   "cell_type": "code",
   "id": "5c9d0f67-6fe8-41ed-9d87-737ee811126d",
   "metadata": {},
   "outputs": [],
   "source": [
    "http_type(response)"
   ]
  },
  {
   "cell_type": "markdown",
   "id": "aa3d1320-c222-448c-8f4a-f29ad1d815e4",
   "metadata": {},
   "outputs": [],
   "source": [
    "JSON is an open standard file and data interchange format that uses human-readable text to store and transmit data objects. To read the JSON HTTP response, you can use the `content()` function to parse it as a named list in R.\n"
   ]
  },
  {
   "cell_type": "code",
   "id": "4ca5d605-3f08-45ec-b744-8759f40456f7",
   "metadata": {},
   "outputs": [],
   "source": [
    "json_result <- content(response, as=\"parsed\")"
   ]
  },
  {
   "cell_type": "markdown",
   "id": "9167c9e5-692a-4452-9591-8db46b099b2c",
   "metadata": {},
   "outputs": [],
   "source": [
    "If you use the `class()` function, you can see it is a R `List` object\n"
   ]
  },
  {
   "cell_type": "code",
   "id": "e768a79f-bd24-410d-96a7-312ff0a7f290",
   "metadata": {},
   "outputs": [],
   "source": [
    "class(json_result)"
   ]
  },
  {
   "cell_type": "markdown",
   "id": "97ef45a5-d9df-4b82-bcff-f2270ddba2bf",
   "metadata": {},
   "outputs": [],
   "source": [
    "Now let's print the JSON result.\n"
   ]
  },
  {
   "cell_type": "code",
   "id": "70692792-1d17-4f65-b059-925057f35eb4",
   "metadata": {},
   "outputs": [],
   "source": [
    "json_result"
   ]
  },
  {
   "cell_type": "markdown",
   "id": "7c8f3fc7-a17b-45fa-a551-38aaceffde4d",
   "metadata": {},
   "outputs": [],
   "source": [
    "It contains very detailed weather data about the city of `Seoul`. Feel free to try other cities as well. We need to convert the named list to a data frame so that we can use data frame operations to process the data. Below is a simple example, which you may implement your own way to convert it to a data frame.\n"
   ]
  },
  {
   "cell_type": "code",
   "id": "e87bdc1f-ea5b-4a39-bd63-3aa149dd0791",
   "metadata": {},
   "outputs": [],
   "source": [
    "# Create some empty vectors to hold data temporarily\nweather <- c()\nvisibility <- c()\ntemp <- c()\ntemp_min <- c()\ntemp_max <- c()\npressure <- c()\nhumidity <- c()\nwind_speed <- c()\nwind_deg <- c()\n"
   ]
  },
  {
   "cell_type": "markdown",
   "id": "28ad18a7-d51f-4964-97d2-6fe24b64692c",
   "metadata": {},
   "outputs": [],
   "source": [
    "Now assign the values in the `json_result` list into different vectors\n"
   ]
  },
  {
   "cell_type": "code",
   "id": "9b1b6782-2145-4279-8955-30a22dadb3e7",
   "metadata": {},
   "outputs": [],
   "source": [
    "# $weather is also a list with one element, its $main element indicates the weather status such as clear or rain\nweather <- c(weather, json_result$weather[[1]]$main)\n# Get Visibility\nvisibility <- c(visibility, json_result$visibility)\n# Get current temperature \ntemp <- c(temp, json_result$main$temp)\n# Get min temperature \ntemp_min <- c(temp_min, json_result$main$temp_min)\n# Get max temperature \ntemp_max <- c(temp_max, json_result$main$temp_max)\n# Get pressure\npressure <- c(pressure, json_result$main$pressure)\n# Get humidity\nhumidity <- c(humidity, json_result$main$humidity)\n# Get wind speed\nwind_speed <- c(wind_speed, json_result$wind$speed)\n# Get wind direction\nwind_deg <- c(wind_deg, json_result$wind$deg)\n"
   ]
  },
  {
   "cell_type": "markdown",
   "id": "26506e58-048d-4e6a-bf9e-3ecfae1c9f35",
   "metadata": {},
   "outputs": [],
   "source": [
    "Combine all vectors as columns of a data frame\n"
   ]
  },
  {
   "cell_type": "code",
   "id": "3fb4fc83-6edd-4fdc-8041-c3810b19d932",
   "metadata": {},
   "outputs": [],
   "source": [
    "# Combine all vectors\nweather_data_frame <- data.frame(weather=weather, \n                                 visibility=visibility, \n                                 temp=temp, \n                                 temp_min=temp_min, \n                                 temp_max=temp_max, \n                                 pressure=pressure, \n                                 humidity=humidity, \n                                 wind_speed=wind_speed, \n                                 wind_deg=wind_deg)"
   ]
  },
  {
   "cell_type": "code",
   "id": "ab2dd368-95c5-447a-9895-03cf33ff854c",
   "metadata": {},
   "outputs": [],
   "source": [
    "# Check the generated data frame\nprint(weather_data_frame)"
   ]
  },
  {
   "cell_type": "markdown",
   "id": "62a7b922-9a71-4810-8139-db348f1544f6",
   "metadata": {},
   "outputs": [],
   "source": [
    "# TASK:  Get 5-day weather forecasts for a list of cities using the OpenWeather API\n"
   ]
  },
  {
   "cell_type": "markdown",
   "id": "b44604b8-80d4-4cf1-bbb4-be4b385b7b05",
   "metadata": {},
   "outputs": [],
   "source": [
    "Now you should be familiar with the usage of OpenWeather API. Next, you need to complete a task to get 5-day weather forecasts for a list of cities\n"
   ]
  },
  {
   "cell_type": "markdown",
   "id": "e85c2b55-c441-47a5-bac9-78dc7fc7b1db",
   "metadata": {},
   "outputs": [],
   "source": [
    "_TODO:_ Write a function to return a data frame containing 5-day weather forecasts for a list of cities\n"
   ]
  },
  {
   "cell_type": "code",
   "id": "473863bb-2837-4070-93bb-064fe541c9e4",
   "metadata": {},
   "outputs": [],
   "source": [
    "# Create some empty vectors to hold data temporarily\n\n# City name column\ncity <- c()\n# Weather column, rainy or cloudy, etc\nweather <- c()\n# Sky visibility column\nvisibility <- c()\n# Current temperature column\ntemp <- c()\n# Max temperature column\ntemp_min <- c()\n# Min temperature column\ntemp_max <- c()\n# Pressure column\npressure <- c()\n# Humidity column\nhumidity <- c()\n# Wind speed column\nwind_speed <- c()\n# Wind direction column\nwind_deg <- c()\n# Forecast timestamp\nforecast_datetime <- c()\n# Season column\n# Note that for season, you can hard code a season value from levels Spring, Summer, Autumn, and Winter based on your current month.\nseason <- c()\n"
   ]
  },
  {
   "cell_type": "code",
   "id": "ebbc7327-2017-480e-8b47-980e84f0cb26",
   "metadata": {},
   "outputs": [],
   "source": [
    "# Get forecast data for a given city list\nget_weather_forecaset_by_cities <- function(city_names){\n    df <- data.frame()\n    for (city_name in city_names){\n        # Forecast API URL\n        forecast_url <- 'https://api.openweathermap.org/data/2.5/forecast'\n        # Create query parameters\n        forecast_query <- list(q = city_name, appid = \"{your_api_key}\", units=\"metric\")\n        # Make HTTP GET call for the given city\n        \n        # Note that the 5-day forecast JSON result is a list of lists. You can print the reponse to check the results\n        #results <- json_list$list\n        \n        # Loop the json result\n        for(result in results) {\n            city <- c(city, city_name)\n            \n        }\n        \n        # Add the R Lists into a data frame\n    }\n    \n    # Return a data frame\n    return(df)\n    \n}\n"
   ]
  },
  {
   "cell_type": "markdown",
   "id": "2d2fe8ce-e1d1-48e4-b696-cc8901c82f15",
   "metadata": {},
   "outputs": [],
   "source": [
    "Complete and call `get_weather_forecaset_by_cities` function with a list of cities, and write the data frame into a csv file called `cities_weather_forecast.csv`\n"
   ]
  },
  {
   "cell_type": "code",
   "id": "5ee1beb1-5775-44a9-9626-2e0d27f15cd7",
   "metadata": {},
   "outputs": [],
   "source": [
    "cities <- c(\"Seoul\", \"Washington, D.C.\", \"Paris\", \"Suzhou\")\ncities_weather_df <- get_weather_forecaset_by_cities(cities)"
   ]
  },
  {
   "cell_type": "code",
   "id": "f22065b8-80af-4e7e-9c63-0dcccdcec204",
   "metadata": {},
   "outputs": [],
   "source": [
    "# Write cities_weather_df to `cities_weather_forecast.csv`\nwrite.csv(cities_weather_df, \"cities_weather_forecast.csv\", row.names=FALSE)"
   ]
  },
  {
   "cell_type": "markdown",
   "id": "91825d0c-5ff9-4cbd-a909-2a03634772e0",
   "metadata": {},
   "outputs": [],
   "source": [
    "For more details about HTTP requests with `httr`, please refer to the previous HTTP request notebook here: \n",
    "\n",
    "[HTTP request in R](https://cf-courses-data.s3.us.cloud-object-storage.appdomain.cloud/IBMDeveloperSkillsNetwork-RP0101EN-Coursera/v2/M4_Working_With_Data/lab2_jupyter_http-request.ipynb)\n"
   ]
  },
  {
   "cell_type": "markdown",
   "id": "a59bbf78-87ff-4653-9928-7cbe8b528dce",
   "metadata": {},
   "outputs": [],
   "source": [
    "## TASK: Download datasets as csv files from cloud storage\n"
   ]
  },
  {
   "cell_type": "markdown",
   "id": "28593fff-71d6-4c07-991b-6629efbe74f1",
   "metadata": {},
   "outputs": [],
   "source": [
    "The last task of this lab is straightforward: download some aggregated datasets from cloud storage\n"
   ]
  },
  {
   "cell_type": "code",
   "id": "7df579d7-90fe-4146-b53f-0bff98152acc",
   "metadata": {},
   "outputs": [],
   "source": [
    "# Download several datasets\n\n# Download some general city information such as name and locations\nurl <- \"https://cf-courses-data.s3.us.cloud-object-storage.appdomain.cloud/IBMDeveloperSkillsNetwork-RP0321EN-SkillsNetwork/labs/datasets/raw_worldcities.csv\"\n# download the file\ndownload.file(url, destfile = \"raw_worldcities.csv\")\n\n# Download a specific hourly Seoul bike sharing demand dataset\nurl <- \"https://cf-courses-data.s3.us.cloud-object-storage.appdomain.cloud/IBMDeveloperSkillsNetwork-RP0321EN-SkillsNetwork/labs/datasets/raw_seoul_bike_sharing.csv\"\n# download the file\ndownload.file(url, destfile = \"raw_seoul_bike_sharing.csv\")"
   ]
  },
  {
   "cell_type": "markdown",
   "id": "440dfd81-8e04-4b65-a112-6842c5f968f6",
   "metadata": {},
   "outputs": [],
   "source": [
    "## Next Step\n"
   ]
  },
  {
   "cell_type": "markdown",
   "id": "64eaacbe-a987-4f48-8dc7-af86477ef810",
   "metadata": {},
   "outputs": [],
   "source": [
    "Now you should collect all datasets required for this project, all in csv format. Feel free to explore them preliminarily now. However, they are the raw datasets and have to be processed for further data visualization or data analysis.\n",
    "\n",
    "In the next module, you will improve their quality by performing data wrangling tasks.\n"
   ]
  },
  {
   "cell_type": "markdown",
   "id": "29779b64-06d7-4b7f-9115-e3d58498aaf7",
   "metadata": {},
   "outputs": [],
   "source": [
    "## Authors\n",
    "\n",
    "<a href=\"https://www.linkedin.com/in/yan-luo-96288783/?utm_medium=Exinfluencer&utm_source=Exinfluencer&utm_content=000026UJ&utm_term=10006555&utm_id=NA-SkillsNetwork-Channel-SkillsNetworkCoursesIBMDeveloperSkillsNetworkRP0321ENSkillsNetwork878-2022-01-01\" target=\"_blank\">Yan Luo</a>\n"
   ]
  },
  {
   "cell_type": "markdown",
   "id": "a792ddfa-fd21-4004-ade2-e9ca667bbc5f",
   "metadata": {},
   "outputs": [],
   "source": [
    "### Other Contributors\n"
   ]
  },
  {
   "cell_type": "markdown",
   "id": "792e8a69-b5d6-462f-b591-b5a680821d15",
   "metadata": {},
   "outputs": [],
   "source": [
    "## Change Log\n",
    "\n",
    "| Date (YYYY-MM-DD) | Version | Changed By | Change Description           |\n",
    "| ----------------- | ------- | ---------- | ---------------------------- |\n",
    "| 2021-04-05        | 0.1     | Yan        | Initial version created      |\n",
    "|                   |         |            |                              |\n",
    "|                   |         |            |                              |\n",
    "\n",
    "## <h3 align=\"center\"> © IBM Corporation 2021. All rights reserved. <h3/>\n"
   ]
  }
 ],
 "metadata": {
  "kernelspec": {
   "display_name": "Python",
   "language": "python",
   "name": "conda-env-python-py"
  },
  "language_info": {
   "name": ""
  }
 },
 "nbformat": 4,
 "nbformat_minor": 4
}
