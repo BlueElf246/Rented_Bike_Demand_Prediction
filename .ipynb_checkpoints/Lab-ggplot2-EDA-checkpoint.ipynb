{
 "cells": [
  {
   "cell_type": "markdown",
   "id": "c91c2afb-b025-4252-a5de-de4aba26c84a",
   "metadata": {},
   "outputs": [],
   "source": [
    "<center>\n",
    "<img src=\"https://cf-courses-data.s3.us.cloud-object-storage.appdomain.cloud/IBMDeveloperSkillsNetwork-RP0321EN-SkillsNetwork/labs/module_1/images/SN_web_lightmode.png\" width=\"300\"> \n",
    "</center>\n",
    "\n",
    "# Assignment: Exploratory Data Analysis with tidyverse and ggplot2\n",
    "Estimated time needed: 60 minutes\n",
    "\n",
    "\n",
    "# Introduction and Objectives\n",
    "In this Lab, you will use an R notebook to perform exploratory data analysis using tidyverse and the ggplot2 R packages. \n",
    "\n",
    "You will start by doing some minor data preparation on the SEOUL BIKE SHARING dataset. Then you will generate and explore some statistics from the resulting dataframe and make some observations. Finally, you will generate some informative plots using the ggplot2 library. \n",
    "\n",
    "Your primary objective is to gather insights from your exploratory analysis. These findings will be part of your story that you will create your final capstone presentation. \n",
    "\n",
    "Visualization is a very powerful tool for better understanding your data and finding patterns that may exist in it. You can use scatterplots, for example, to display how well two features are correlated with, or similar to each other.  When data are highly correlated, it means they vary in similar ways, and so their graphs will look similar (once scaled to a common scale). We can say one variable 'explains' the variation in the other, and that they are 'covariates'. There could be a causal relationship between covariates, meaning that changing one variable has the effect of changing the other, but this need not be the case. Perhaps there is another factor which causes both covariates to respond to variations, or the similarity could be a random coincidence. Either way, the behaviour of one variable can be used to predict the behaviour of the other. The key practical difference is that in the causal case, if we can influence the first variable then we can have a corresponding causal influence on the second. Like turning a light switch on or off to control the light in the room, the state of the switch controls the state of the light bulb. This is an important topic for data science that is beyond our current scope, but we invite you to delve deeper into the subject as you progress in your career$.^{1}$\n",
    "\n",
    "Other ways visualization can inform your analysis is with spotting outliers and anomalous behaviour in your features. Boxplots are informative in these regards. You can also gain insights about any clear trends and anomalies that may be present in a variable, simply by plotting it directly. For instance, time series and spatial data are particularly interesting kinds of variables. Outliers can easily consume the range of your plot though, making your data look like a featureless flat line in comparison to these points. So some cleaning, namely outlier removal, may be required to get a clearer picture.\n",
    "\n",
    "A word of caution: be skeptical about any patterns you find, especially in smaller datasets. In very simple terms, it is true that any two points randomly placed in space always define a unique line; but add a third random point, and it is very unlikely that it will land on that same line. This suggests one of the main advantages of 'big data' - any patterns that emerge in very large datasets are far more likely to persist on unseen data than those found in small datasets.\n",
    "\n",
    "All right, let's move along and get started with our exploratory analysis!\n"
   ]
  },
  {
   "cell_type": "markdown",
   "id": "1f3ce6ab-f58a-4b04-a312-bf1f2a918c48",
   "metadata": {},
   "outputs": [],
   "source": [
    "\n",
    "### For reference, we include the Attribute Information for the `seoul_bike_sharing` dataset:\n",
    "\n",
    "- DATE - format: \"2017-12-01\"\n",
    "- RENTED_BIKE_COUNT - Count of bikes rented at each hour\n",
    "- HOUR - Hour of the day\n",
    "- TEMPERATURE - Celsius\n",
    "- HUMIDITY - %\n",
    "- Windspeed - m/s\n",
    "- VISIBILITY - 10m\n",
    "- DEW_POINT_TEMPERATURE - Celsius\n",
    "- SOLAR_RADIATION - MJ/m2\n",
    "- RAINFALL - mm\n",
    "- SNOWFALL - cm\n",
    "- SEASONS -  \"Autumn\",\"Spring\",..\n",
    "- HOLIDAY - \"Holiday\", \"No holiday\"\n",
    "- FUNCTIONING_DAY - \"Yes\", \"No\"\n",
    "\n"
   ]
  },
  {
   "cell_type": "markdown",
   "id": "114a8482-5cc2-4fc7-8e28-4a17f302a20d",
   "metadata": {},
   "outputs": [],
   "source": [
    "## Load the seoul_bike_sharing data into a dataframe\n",
    "\n",
    "Use the following URL to load your dataset.   \n",
    "The dataset is already clean, but you will still need to pay careful attention to data types, especially dates, which you may need to coerce. \n",
    "Also, ensure any categorical variables get typed as factors. \n",
    "\n",
    "```R\n",
    "seoul_bike_sharing <- \"https://cf-courses-data.s3.us.cloud-object-storage.appdomain.cloud/IBMDeveloperSkillsNetwork-RP0321EN-SkillsNetwork/labs/datasets/seoul_bike_sharing.csv\"  \n",
    "\n",
    "```\n"
   ]
  },
  {
   "cell_type": "markdown",
   "id": "f9ed15d0-f238-49fb-a66e-cc557e9f8ff7",
   "metadata": {},
   "outputs": [],
   "source": [
    "### Task 1 - Load the dataset\n",
    "Ensure you read `DATE` as type `character`.\n",
    "### Solution 1\n"
   ]
  },
  {
   "cell_type": "code",
   "id": "44f1fcb6-4639-4480-9186-1cba824a6693",
   "metadata": {},
   "outputs": [],
   "source": [
    "# provide your solution here"
   ]
  },
  {
   "cell_type": "markdown",
   "id": "2d0928d6-edbd-408a-a315-c8f69bec67cb",
   "metadata": {},
   "outputs": [],
   "source": [
    "### Task 2 - Recast `DATE` as a date\n",
    "Use the format of the data, namely \"%d/%m/%Y\".\n",
    "### Solution 2\n"
   ]
  },
  {
   "cell_type": "code",
   "id": "763a7fe2-3e1f-4460-a24e-902c672ba52f",
   "metadata": {},
   "outputs": [],
   "source": [
    "# provide your solution here"
   ]
  },
  {
   "cell_type": "markdown",
   "id": "97792c32-bf23-4be8-8ee2-76166994a19a",
   "metadata": {},
   "outputs": [],
   "source": [
    "### Task 3 - Cast `HOURS` as a categorical variable\n",
    "Also, coerce its levels to be an ordered sequence.  This will ensure your visualizations correctly utilize `HOURS` as a discrete variable with the expected ordering.  \n",
    "### Solution 3\n"
   ]
  },
  {
   "cell_type": "code",
   "id": "f308c6c9-3a49-46ff-af15-04a5e8d7a279",
   "metadata": {},
   "outputs": [],
   "source": [
    "# provide your solution here"
   ]
  },
  {
   "cell_type": "markdown",
   "id": "9f917ae5-54a6-44d0-8678-bf886e233c56",
   "metadata": {},
   "outputs": [],
   "source": [
    "### Check the structure of the dataframe\n"
   ]
  },
  {
   "cell_type": "code",
   "id": "fd6391ed-ad10-4c66-a196-6a803692c206",
   "metadata": {},
   "outputs": [],
   "source": [
    "str(seoul_bike_sharing)"
   ]
  },
  {
   "cell_type": "markdown",
   "id": "e82650a1-f98a-4bf9-8574-18a12fbd7248",
   "metadata": {},
   "outputs": [],
   "source": [
    "### Finally, ensure there are no missing values\n"
   ]
  },
  {
   "cell_type": "code",
   "id": "85479914-e76d-4837-906e-576c60b48dfd",
   "metadata": {},
   "outputs": [],
   "source": [
    "sum(is.na(seoul_bike_sharing))"
   ]
  },
  {
   "cell_type": "markdown",
   "id": "2048777c-199e-4f43-ae8d-82e779ea2a1c",
   "metadata": {},
   "outputs": [],
   "source": [
    "## Descriptive Statistics\n",
    "\n",
    "Now you are all set to take a look at some high level statistics of the `seoul_bike_sharing` dataset. \n"
   ]
  },
  {
   "cell_type": "markdown",
   "id": "94525690-4d94-408f-826a-ad774c6bec46",
   "metadata": {},
   "outputs": [],
   "source": [
    "### Task 4 - Dataset Summary\n",
    "Use the base R `sumamry()` function to describe the `seoul_bike_sharing` dataset.\n",
    "\n",
    "### Solution 4\n"
   ]
  },
  {
   "cell_type": "code",
   "id": "dc9af9ce-eeb7-4547-b9de-e45faa2b96cd",
   "metadata": {},
   "outputs": [],
   "source": [
    "# provide your solution here"
   ]
  },
  {
   "cell_type": "markdown",
   "id": "80de1115-863a-4318-a756-04f33a7b1323",
   "metadata": {},
   "outputs": [],
   "source": [
    "### Some Basic Observations:\n",
    "- We can see from `DATE` that we have exactly a full year of data.  \n",
    "- No records have zero bike counts.  \n",
    "- Spring and Winter have the same count of records, while autumn has the least and Summer has the most.\n",
    "- Temperature has a large range, so we might expect it to explain at least some of the variation in bike rentals.  \n",
    "- Precipitation seems to be quite rare, only happening in the fourth quartiles for both `RAINFALL` and `SNOWFALL`.\n",
    "- The average `WINDSPEED` is very light at only 1.7 m/s, and even the maximum is only a moderate breeze (Google 'Beaufort Wind Scale' to find the different wind descriptions)  \n",
    "\n",
    "By now, you might agree that Exploratory Data Analysis can create more questions than answers. That's okay - you'll have a much deeper understanding and appreciation for your data as a result! \n",
    "\n",
    "\n",
    "### Task 5 - Based on the above stats, calculate how many Holidays there are.\n",
    "### Solution 5:\n"
   ]
  },
  {
   "cell_type": "code",
   "id": "1fbfb095-5e91-4dd3-b586-55e208c26eed",
   "metadata": {},
   "outputs": [],
   "source": [
    "# provide your solution here"
   ]
  },
  {
   "cell_type": "markdown",
   "id": "6ada2cb9-5528-4112-a0e4-0218016b3020",
   "metadata": {},
   "outputs": [],
   "source": [
    "### Task 6 - Calculate the percentage of records that fall on a holiday.\n",
    "### Solution 6\n"
   ]
  },
  {
   "cell_type": "code",
   "id": "cd02ceea-26b8-40df-8940-1337e30c70fc",
   "metadata": {},
   "outputs": [],
   "source": [
    "# provide your solution here"
   ]
  },
  {
   "cell_type": "markdown",
   "id": "6a7e9b39-314f-46eb-8182-adfb9aa40acc",
   "metadata": {},
   "outputs": [],
   "source": [
    "### Task 7 - Given there is exactly a full year of data, determine how many records we expect to have.\n",
    "### Solution 7\n"
   ]
  },
  {
   "cell_type": "code",
   "id": "092bc453-0295-4359-a610-57a3cc8cd9ca",
   "metadata": {},
   "outputs": [],
   "source": [
    "# provide your solution here"
   ]
  },
  {
   "cell_type": "markdown",
   "id": "c70fd2dd-3b7f-4733-871c-4392eaa183a1",
   "metadata": {},
   "outputs": [],
   "source": [
    "### Task 8 - Given the observations for the 'FUNCTIONING_DAY' how many records must there be?\n",
    "### Solution 8\n"
   ]
  },
  {
   "cell_type": "code",
   "id": "e6e6e159-285c-4b25-8b92-036f06b5aed4",
   "metadata": {},
   "outputs": [],
   "source": [
    "# provide your solution here"
   ]
  },
  {
   "cell_type": "markdown",
   "id": "3d998740-ce41-4cc6-9d66-b79779a26aa6",
   "metadata": {},
   "outputs": [],
   "source": [
    "## Drilling Down\n",
    "Let's calculate some seasonally aggregated measures to help build some more context.  \n",
    "### Task 9 - Load the dplyr package, group the data by `SEASONS`, and use the `summarize()` function to calculate the seasonal total rainfall and snowfall.\n",
    "### Solution 9\n"
   ]
  },
  {
   "cell_type": "code",
   "id": "74e30230-0127-4e89-be47-50718824af9f",
   "metadata": {},
   "outputs": [],
   "source": [
    "# provide your solution here"
   ]
  },
  {
   "cell_type": "markdown",
   "id": "75727538-7626-4ee5-8d71-15b2bc644e15",
   "metadata": {},
   "outputs": [],
   "source": [
    "Wow, that seems like a lot of snow.  \n",
    "Now that you have some ideas about what sorts of questions can be answered through descriptive statistics, let's start visualizing the data.  \n"
   ]
  },
  {
   "cell_type": "markdown",
   "id": "a5ec40b4-386a-4c65-b943-32906cf17585",
   "metadata": {},
   "outputs": [],
   "source": [
    "## Data Visualization\n",
    "\n",
    "Let's take a closer look at our main variable of interest, namely, `RENTED_BIKE_COUNT`.  \n",
    "Think of this variable as the key _measure_ or _dependent variable_ in your analysis.  \n",
    "\n",
    "Indeed, it is a measured quantity, and we expect it to depend on factors such as the expected weather.  \n",
    "Evidently, if the immediate or forecasted weather is harsh or unpleasant, many people could choose to use alternate transit or simply wait for better weather rather than rent a bike.   \n",
    "On the other hand, many people may be inspired to ride under pleasant expected weather conditions.  \n",
    "\n",
    "The weather is largely infuenced by the time of day and the seasons, so these are also factors.  \n",
    "The time of day, the day of week, and Holidays all matter because they control commuting schedules.  \n",
    "\n",
    "Finer granularity data such as a unique ID for each bike and/or rider, when and where each bike was rented, or even finer - a history of when and where each bike was used or idle - would be interesting as well.\n",
    "\n",
    "\n",
    "### Load the ggplot2 package so we can generate some data visualizations.\n"
   ]
  },
  {
   "cell_type": "code",
   "id": "517a2765-8100-4a8c-bbfd-26ab6bdfef56",
   "metadata": {},
   "outputs": [],
   "source": [
    "# provide your solution here"
   ]
  },
  {
   "cell_type": "markdown",
   "id": "aba74e2c-794a-4f95-bc64-65116a54239f",
   "metadata": {},
   "outputs": [],
   "source": [
    "Our variable of interest is a time series, so why not start by taking a look at it in it's natural form?\n",
    "\n",
    "### Task 10 - Create a scatter plot of `RENTED_BIKE_COUNT` vs `DATE`. \n",
    "Tune the opacity using the `alpha` parameter such that the points don't obscure each other too much.\n",
    "### Solution 10\n"
   ]
  },
  {
   "cell_type": "code",
   "id": "6e56bb7b-a337-4c51-8168-997c8521c546",
   "metadata": {},
   "outputs": [],
   "source": [
    "# provide your solution here"
   ]
  },
  {
   "cell_type": "markdown",
   "id": "c194f8e4-f4a2-4c07-9611-89b1fbce931b",
   "metadata": {},
   "outputs": [],
   "source": [
    "### Ungraded Task: We can see some patterns emerging here.\n",
    "Describe them and keep your findings for your presentation in the final project.\n"
   ]
  },
  {
   "cell_type": "markdown",
   "id": "cd6c9208-7896-4597-85c3-3c52c32d6d30",
   "metadata": {},
   "outputs": [],
   "source": [
    "### Solution\n"
   ]
  },
  {
   "cell_type": "markdown",
   "id": "17510cd6-d4a3-4322-9b83-639bdd8b6771",
   "metadata": {},
   "outputs": [],
   "source": [
    "#### provide your solution here\n"
   ]
  },
  {
   "cell_type": "markdown",
   "id": "1c15f9e8-c9bd-4ce0-a29c-5a543c841afb",
   "metadata": {},
   "outputs": [],
   "source": [
    "### Using colour\n",
    "Let's see if we can enhance some of these features by incorporating colour. Given our observations so far, `HOURS` is a great candidate for this task.  \n",
    "\n",
    "### Task 11 - Create the same plot of the `RENTED_BIKE_COUNT` time series, but now add `HOURS` as the colour.\n",
    "### Solution 11\n"
   ]
  },
  {
   "cell_type": "code",
   "id": "2cc82272-0d87-430b-ae59-fc54061c8e4b",
   "metadata": {},
   "outputs": [],
   "source": [
    "# provide your solution here"
   ]
  },
  {
   "cell_type": "markdown",
   "id": "737c16cc-82e5-427c-9901-6fadb896c9d5",
   "metadata": {},
   "outputs": [],
   "source": [
    "### Ungraded Task: The trends are much more clear now. \n",
    "Describe them and keep your findings for your presentation in the final project.\n"
   ]
  },
  {
   "cell_type": "markdown",
   "id": "d827113f-799f-4afa-aeb3-dc06ca081e90",
   "metadata": {},
   "outputs": [],
   "source": [
    "### Solution\n"
   ]
  },
  {
   "cell_type": "markdown",
   "id": "1646f4df-1d86-49b1-9076-4b478cbc0ba8",
   "metadata": {},
   "outputs": [],
   "source": [
    "#### provide your solution here\n"
   ]
  },
  {
   "cell_type": "markdown",
   "id": "0f3c66fa-1f62-433c-bf00-5dd1550a5285",
   "metadata": {},
   "outputs": [],
   "source": [
    "## Distributions\n"
   ]
  },
  {
   "cell_type": "markdown",
   "id": "af4005f6-7d69-49e7-bc36-6757f1717d7b",
   "metadata": {},
   "outputs": [],
   "source": [
    "### Task 12 - Create a histogram overlaid with a kernel density curve\n",
    "Normalize the histogram so the y axis represents 'density'. This can be done by setting `y=..density..` in the aesthetics of the histogram.\n"
   ]
  },
  {
   "cell_type": "markdown",
   "id": "9e68eae7-836c-4980-b5ac-d29757bebf9b",
   "metadata": {},
   "outputs": [],
   "source": [
    "<details><summary>Click here for a hint</summary>\n",
    "Set the colour to something like black and the fill to white so you can see the kernel density plot layer better.\n"
   ]
  },
  {
   "cell_type": "markdown",
   "id": "b4cf5bd6-390b-4f6d-8e01-3677b804d760",
   "metadata": {},
   "outputs": [],
   "source": [
    "<details><summary>Click here for another hint</summary>\n",
    "Set the color and alpha such that your denstiy plot is clearly visible, without obscuring the histogram. \n"
   ]
  },
  {
   "cell_type": "markdown",
   "id": "c843d853-f3c6-4655-984c-961419cde5c8",
   "metadata": {},
   "outputs": [],
   "source": [
    "### Solution 12\n"
   ]
  },
  {
   "cell_type": "code",
   "id": "f91bc9c3-f87d-4281-a325-2f097a15003d",
   "metadata": {},
   "outputs": [],
   "source": [
    "# provide your solution here"
   ]
  },
  {
   "cell_type": "markdown",
   "id": "378ab750-9807-46a9-bb8a-165f211d88d2",
   "metadata": {},
   "outputs": [],
   "source": [
    "### Ungraded Task: Describe the main features you see in your plot.\n",
    "Consider what it's shape tells you, and keep your findings for your presentation in the final project. \n"
   ]
  },
  {
   "cell_type": "markdown",
   "id": "b6d41bdb-e345-4805-a5d3-0e8325919608",
   "metadata": {},
   "outputs": [],
   "source": [
    "<details><summary>Click here for a solution</summary>\n",
    "    \n",
    "We can see from the histogram that most of the time there are relatively few bikes rented. Indeed, the 'mode', or most frequent amount of bikes rented, is about 250.  \n",
    "\n",
    "Judging by the 'bumps' at about 700, 900, and 1900, and 3200 bikes, it looks like there may be other modes hiding within subgroups of the data. \n",
    "\n",
    "Interestingly, judging from the tail of the distribution, on rare occasions there are many more bikes rented out than usual.\n"
   ]
  },
  {
   "cell_type": "markdown",
   "id": "3aa0cd5e-2746-4c91-97e1-1b39e03bd875",
   "metadata": {},
   "outputs": [],
   "source": [
    "## Correlation between two variables (scatter plot)\n",
    "### Task 13 - Use a scatter plot to visualize the correlation between `RENTED_BIKE_COUNT` and `TEMPERATURE` by `SEASONS`.\n",
    "Start with `RENTED_BIKE_COUNT` vs. `TEMPERATURE`, then generate four plots corresponding to the `SEASONS` by adding a `facet_wrap()` layer.\n",
    "Also, make use of colour and opacity to emphasize any patterns that emerge. Use `HOUR` as the color.\n",
    "\n",
    "### Solution 13\n"
   ]
  },
  {
   "cell_type": "code",
   "id": "87051f8e-c9aa-46d2-a4be-3302131a981c",
   "metadata": {},
   "outputs": [],
   "source": [
    "# provide your solution here"
   ]
  },
  {
   "cell_type": "markdown",
   "id": "525ba85a-4b28-4265-b64b-187b1c6dceff",
   "metadata": {},
   "outputs": [],
   "source": [
    "### Ungraded Task: Describe the patterns you see. \n",
    "What do these patterns imply about the relationships between these variables? Keep your findings for your presentation in the final project.\n"
   ]
  },
  {
   "cell_type": "markdown",
   "id": "d89e1ae2-b884-400f-8f19-c5e90831302e",
   "metadata": {},
   "outputs": [],
   "source": [
    "<details><summary>Click here for a solution</summary>\n",
    "    \n",
    "Visually, we can see some strong correlations as approximately linear patterns.  \n"
   ]
  },
  {
   "cell_type": "markdown",
   "id": "670c3e60-7f38-4cc9-acf6-a67d0f97f544",
   "metadata": {},
   "outputs": [],
   "source": [
    "Comparing this plot to the same plot below, but without grouping by `SEASONS`, shows how important seasonality is in explaining bike rental counts.  \n"
   ]
  },
  {
   "cell_type": "code",
   "id": "0acfcedf-989c-4b3a-836f-2c85bca669b7",
   "metadata": {},
   "outputs": [],
   "source": [
    "ggplot(seoul_bike_sharing) +\n   geom_point(aes(x=TEMPERATURE,y=RENTED_BIKE_COUNT,colour=HOUR),alpha=1/5)"
   ]
  },
  {
   "cell_type": "markdown",
   "id": "51f80627-20c0-4cea-99b8-bb355cdb153a",
   "metadata": {},
   "outputs": [],
   "source": [
    "## Outliers (boxplot)\n",
    "### Task 14 - Create a display of four boxplots of `RENTED_BIKE_COUNT` vs. `HOUR` grouped by `SEASONS`.\n",
    "Use `facet_wrap` to generate four plots corresponding to the seasons.\n",
    "\n",
    "### Solution 14\n"
   ]
  },
  {
   "cell_type": "code",
   "id": "578f362b-cdcd-4781-8acb-021af6202527",
   "metadata": {},
   "outputs": [],
   "source": [
    "# provide your solution here\n"
   ]
  },
  {
   "cell_type": "markdown",
   "id": "69d35e4e-e0ac-4bdc-962f-861b97d12555",
   "metadata": {},
   "outputs": [],
   "source": [
    "### Ungraded Task: Compare and contrast the key features of these boxplots between seasons.\n",
    "At this point, a story should be taking shape. Again, keep your findings for your presentation in the final project. \n"
   ]
  },
  {
   "cell_type": "markdown",
   "id": "ba5b688e-b8fa-4dc2-a63e-e496ec659148",
   "metadata": {},
   "outputs": [],
   "source": [
    "<details><summary>Click here for a solution</summary>\n",
    "    \n",
    "Although the overall scale of bike rental counts changes with the seasons, key features remain very similar.  \n",
    "For example, peak demand times are the same across all seasons, at 8 am and 6 pm.  \n"
   ]
  },
  {
   "cell_type": "markdown",
   "id": "7f35f19f-d1e1-44ae-be9e-7febb50fd8cc",
   "metadata": {},
   "outputs": [],
   "source": [
    "### Task 15 - Group the data by `DATE`, and use the summarize() function to calculate the daily total rainfall and snowfall.\n",
    "Also, go ahead and plot the results if you wish.\n",
    "### Solution 15\n"
   ]
  },
  {
   "cell_type": "code",
   "id": "1116b434-1a59-4e55-ab19-df58286d2697",
   "metadata": {},
   "outputs": [],
   "source": [
    "# provide your solution here"
   ]
  },
  {
   "cell_type": "markdown",
   "id": "1477759b-f0b6-4d47-8bc6-282acb7cd9f9",
   "metadata": {},
   "outputs": [],
   "source": [
    "### Task 16 - Determine how many days had snowfall.\n",
    "### Solution 16\n"
   ]
  },
  {
   "cell_type": "code",
   "id": "ec7a0504-feb8-4533-abe5-2b8ac8ee16e1",
   "metadata": {},
   "outputs": [],
   "source": [
    "# provide your solution here"
   ]
  },
  {
   "cell_type": "markdown",
   "id": "676a38b7-6665-45ff-8008-f9571b73fb23",
   "metadata": {},
   "outputs": [],
   "source": [
    "There are many more visualizations we could have chosen to cover here, but the important thing was that you deepen your understanding of the dataset.  \n",
    "I hope we succeeded in that endeavour! \n",
    "\n",
    "(Keep going, you are getting closer to the finish line with each step you take. :-) )\n"
   ]
  },
  {
   "cell_type": "markdown",
   "id": "fd0b11e2-2e2f-424b-b9f4-b29ed0356f12",
   "metadata": {},
   "outputs": [],
   "source": [
    "## Further Reading\n",
    "[1] 'Causal Model' (2021) _Wikipedia_. Available at \"https://en.wikipedia.org/wiki/Causal_model\" (Accessed: 22 April 2021).\n"
   ]
  },
  {
   "cell_type": "markdown",
   "id": "25eb8c66-db98-4fab-bbba-ebc8cad2c524",
   "metadata": {},
   "outputs": [],
   "source": [
    "## Author(s)\n",
    "\n",
    "<h4> Jeff Grossman </h4>\n",
    "\n",
    "## Contributor(s)\n",
    "\n",
    "<h4> Yan Luo, Rav Ahuja </h4>\n",
    "\n",
    "## Change log\n",
    "\n",
    "| Date       | Version | Changed by    | Change Description                                                                                          |\n",
    "| ---------- | ------- | ------------- | ----------------------------------------------------------------------------------------------------------- |\n",
    "| 2021-05-04 | 0.4     | Jeff Grossman | Remove solutions                                                                                           |\n",
    "| 2021-04-23 | 0.3     | Jeff Grossman | Update per review                                                                                           |\n",
    "| 2021-04-20 | 0.2     | Jeff Grossman | Push for peer review                                                                                        | \n",
    "| 2021-04-05 | 0.1     | Jeff Grossman | Start content creation                                                                                    |\n",
    "\n",
    "\n",
    "## <h3 align=\"center\"> © IBM Corporation 2021. All rights reserved. <h3/>\n"
   ]
  },
  {
   "cell_type": "code",
   "id": "2544b9ae-ac7d-4a45-9bcf-66c78abc285f",
   "metadata": {},
   "outputs": [],
   "source": [
    ""
   ]
  }
 ],
 "metadata": {
  "kernelspec": {
   "display_name": "Python",
   "language": "python",
   "name": "conda-env-python-py"
  },
  "language_info": {
   "name": ""
  }
 },
 "nbformat": 4,
 "nbformat_minor": 4
}
